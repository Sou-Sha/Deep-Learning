{
 "cells": [
  {
   "cell_type": "markdown",
   "metadata": {},
   "source": [
    "Use RNN to predict Microsoft's stock prices and volumes in the following 2 weeks (11/08/2021 to 11/19/2021). You will try all the techniques we learned in this week and compare the results with different models you come up with.\n",
    "\n",
    "The following is the MSFT historical daily prices for the past 5 years until 11/5/2021. Assume you don't have any more data after this date.\n",
    "\n",
    "There are 6 columns of this table. Please ignore the \"Adj Close\" column. You will predict all the other 5 columns. Here is an example of the most recent 3 days in your available data.\n",
    "\n",
    "Date\tOpen\tHigh\tLow\tClose*\tAdj Close**\tVolume\n",
    "Nov 05, 2021\t338.51\t338.79\t334.42\t336.06\t336.06\t22,564,000\n",
    "Nov 04, 2021\t332.89\t336.54\t329.51\t336.44\t336.44\t23,992,200\n",
    "Nov 03, 2021\t333.90\t334.90\t330.65\t334.00\t334.00\t21,500,100"
   ]
  },
  {
   "cell_type": "code",
   "execution_count": 2,
   "metadata": {
    "colab": {
     "base_uri": "https://localhost:8080/",
     "height": 73,
     "resources": {
      "http://localhost:8080/nbextensions/google.colab/files.js": {
       "data": "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",
       "headers": [
        [
         "content-type",
         "application/javascript"
        ]
       ],
       "ok": true,
       "status": 200,
       "status_text": ""
      }
     }
    },
    "id": "JWBzABnvImMf",
    "outputId": "03a9e72a-27d1-472b-c36f-935e887a7d5b"
   },
   "outputs": [
    {
     "data": {
      "text/html": [
       "\n",
       "     <input type=\"file\" id=\"files-82191480-c2c1-445d-8686-5282a8585c1c\" name=\"files[]\" multiple disabled\n",
       "        style=\"border:none\" />\n",
       "     <output id=\"result-82191480-c2c1-445d-8686-5282a8585c1c\">\n",
       "      Upload widget is only available when the cell has been executed in the\n",
       "      current browser session. Please rerun this cell to enable.\n",
       "      </output>\n",
       "      <script src=\"/nbextensions/google.colab/files.js\"></script> "
      ],
      "text/plain": [
       "<IPython.core.display.HTML object>"
      ]
     },
     "metadata": {},
     "output_type": "display_data"
    },
    {
     "name": "stdout",
     "output_type": "stream",
     "text": [
      "Saving MSFT-1.csv to MSFT-1.csv\n"
     ]
    }
   ],
   "source": [
    "from google.colab import files\n",
    " \n",
    " \n",
    "uploaded = files.upload()"
   ]
  },
  {
   "cell_type": "code",
   "execution_count": 3,
   "metadata": {
    "colab": {
     "base_uri": "https://localhost:8080/"
    },
    "id": "GAWgnv1aJaVh",
    "outputId": "8c9e23aa-3433-4724-cfd1-49e4e92173a7"
   },
   "outputs": [
    {
     "name": "stdout",
     "output_type": "stream",
     "text": [
      "            Date        Open        High         Low       Close   Adj Close  \\\n",
      "0      11/7/2016   59.779999   60.520000   59.779999   60.419998   55.902321   \n",
      "1      11/8/2016   60.549999   60.779999   60.150002   60.470001   55.948589   \n",
      "2      11/9/2016   60.000000   60.590000   59.200001   60.169998   55.671009   \n",
      "3     11/10/2016   60.480000   60.490002   57.630001   58.700001   54.310928   \n",
      "4     11/11/2016   58.230000   59.119999   58.009998   59.020000   54.607002   \n",
      "...          ...         ...         ...         ...         ...         ...   \n",
      "1254   11/1/2021  331.359985  331.489990  326.369995  329.369995  329.369995   \n",
      "1255   11/2/2021  330.309998  333.450012  330.000000  333.130005  333.130005   \n",
      "1256   11/3/2021  333.899994  334.899994  330.649994  334.000000  334.000000   \n",
      "1257   11/4/2021  332.890015  336.540009  329.510010  336.440002  336.440002   \n",
      "1258   11/5/2021  338.510010  338.790009  334.420013  336.059998  336.059998   \n",
      "\n",
      "        Volume  \n",
      "0     31664800  \n",
      "1     22935400  \n",
      "2     49632500  \n",
      "3     57822400  \n",
      "4     38767800  \n",
      "...        ...  \n",
      "1254  27073200  \n",
      "1255  26487100  \n",
      "1256  21500100  \n",
      "1257  23992200  \n",
      "1258  22564000  \n",
      "\n",
      "[1259 rows x 7 columns]\n"
     ]
    }
   ],
   "source": [
    "import pandas as pd\n",
    "import io\n",
    " \n",
    "df = pd.read_csv(io.BytesIO(uploaded['MSFT-1.csv']))\n",
    "print(df)"
   ]
  },
  {
   "cell_type": "code",
   "execution_count": 4,
   "metadata": {
    "colab": {
     "base_uri": "https://localhost:8080/",
     "height": 206
    },
    "id": "Kt0uivIAJaXx",
    "outputId": "2eeedb7c-91a2-4974-f045-6e0acca3c6c3"
   },
   "outputs": [
    {
     "data": {
      "text/html": [
       "\n",
       "  <div id=\"df-decee57c-a75e-4b13-ac05-b02d1ef5ccad\">\n",
       "    <div class=\"colab-df-container\">\n",
       "      <div>\n",
       "<style scoped>\n",
       "    .dataframe tbody tr th:only-of-type {\n",
       "        vertical-align: middle;\n",
       "    }\n",
       "\n",
       "    .dataframe tbody tr th {\n",
       "        vertical-align: top;\n",
       "    }\n",
       "\n",
       "    .dataframe thead th {\n",
       "        text-align: right;\n",
       "    }\n",
       "</style>\n",
       "<table border=\"1\" class=\"dataframe\">\n",
       "  <thead>\n",
       "    <tr style=\"text-align: right;\">\n",
       "      <th></th>\n",
       "      <th>Date</th>\n",
       "      <th>Open</th>\n",
       "      <th>High</th>\n",
       "      <th>Low</th>\n",
       "      <th>Close</th>\n",
       "      <th>Adj Close</th>\n",
       "      <th>Volume</th>\n",
       "    </tr>\n",
       "  </thead>\n",
       "  <tbody>\n",
       "    <tr>\n",
       "      <th>0</th>\n",
       "      <td>11/7/2016</td>\n",
       "      <td>59.779999</td>\n",
       "      <td>60.520000</td>\n",
       "      <td>59.779999</td>\n",
       "      <td>60.419998</td>\n",
       "      <td>55.902321</td>\n",
       "      <td>31664800</td>\n",
       "    </tr>\n",
       "    <tr>\n",
       "      <th>1</th>\n",
       "      <td>11/8/2016</td>\n",
       "      <td>60.549999</td>\n",
       "      <td>60.779999</td>\n",
       "      <td>60.150002</td>\n",
       "      <td>60.470001</td>\n",
       "      <td>55.948589</td>\n",
       "      <td>22935400</td>\n",
       "    </tr>\n",
       "    <tr>\n",
       "      <th>2</th>\n",
       "      <td>11/9/2016</td>\n",
       "      <td>60.000000</td>\n",
       "      <td>60.590000</td>\n",
       "      <td>59.200001</td>\n",
       "      <td>60.169998</td>\n",
       "      <td>55.671009</td>\n",
       "      <td>49632500</td>\n",
       "    </tr>\n",
       "    <tr>\n",
       "      <th>3</th>\n",
       "      <td>11/10/2016</td>\n",
       "      <td>60.480000</td>\n",
       "      <td>60.490002</td>\n",
       "      <td>57.630001</td>\n",
       "      <td>58.700001</td>\n",
       "      <td>54.310928</td>\n",
       "      <td>57822400</td>\n",
       "    </tr>\n",
       "    <tr>\n",
       "      <th>4</th>\n",
       "      <td>11/11/2016</td>\n",
       "      <td>58.230000</td>\n",
       "      <td>59.119999</td>\n",
       "      <td>58.009998</td>\n",
       "      <td>59.020000</td>\n",
       "      <td>54.607002</td>\n",
       "      <td>38767800</td>\n",
       "    </tr>\n",
       "  </tbody>\n",
       "</table>\n",
       "</div>\n",
       "      <button class=\"colab-df-convert\" onclick=\"convertToInteractive('df-decee57c-a75e-4b13-ac05-b02d1ef5ccad')\"\n",
       "              title=\"Convert this dataframe to an interactive table.\"\n",
       "              style=\"display:none;\">\n",
       "        \n",
       "  <svg xmlns=\"http://www.w3.org/2000/svg\" height=\"24px\"viewBox=\"0 0 24 24\"\n",
       "       width=\"24px\">\n",
       "    <path d=\"M0 0h24v24H0V0z\" fill=\"none\"/>\n",
       "    <path d=\"M18.56 5.44l.94 2.06.94-2.06 2.06-.94-2.06-.94-.94-2.06-.94 2.06-2.06.94zm-11 1L8.5 8.5l.94-2.06 2.06-.94-2.06-.94L8.5 2.5l-.94 2.06-2.06.94zm10 10l.94 2.06.94-2.06 2.06-.94-2.06-.94-.94-2.06-.94 2.06-2.06.94z\"/><path d=\"M17.41 7.96l-1.37-1.37c-.4-.4-.92-.59-1.43-.59-.52 0-1.04.2-1.43.59L10.3 9.45l-7.72 7.72c-.78.78-.78 2.05 0 2.83L4 21.41c.39.39.9.59 1.41.59.51 0 1.02-.2 1.41-.59l7.78-7.78 2.81-2.81c.8-.78.8-2.07 0-2.86zM5.41 20L4 18.59l7.72-7.72 1.47 1.35L5.41 20z\"/>\n",
       "  </svg>\n",
       "      </button>\n",
       "      \n",
       "  <style>\n",
       "    .colab-df-container {\n",
       "      display:flex;\n",
       "      flex-wrap:wrap;\n",
       "      gap: 12px;\n",
       "    }\n",
       "\n",
       "    .colab-df-convert {\n",
       "      background-color: #E8F0FE;\n",
       "      border: none;\n",
       "      border-radius: 50%;\n",
       "      cursor: pointer;\n",
       "      display: none;\n",
       "      fill: #1967D2;\n",
       "      height: 32px;\n",
       "      padding: 0 0 0 0;\n",
       "      width: 32px;\n",
       "    }\n",
       "\n",
       "    .colab-df-convert:hover {\n",
       "      background-color: #E2EBFA;\n",
       "      box-shadow: 0px 1px 2px rgba(60, 64, 67, 0.3), 0px 1px 3px 1px rgba(60, 64, 67, 0.15);\n",
       "      fill: #174EA6;\n",
       "    }\n",
       "\n",
       "    [theme=dark] .colab-df-convert {\n",
       "      background-color: #3B4455;\n",
       "      fill: #D2E3FC;\n",
       "    }\n",
       "\n",
       "    [theme=dark] .colab-df-convert:hover {\n",
       "      background-color: #434B5C;\n",
       "      box-shadow: 0px 1px 3px 1px rgba(0, 0, 0, 0.15);\n",
       "      filter: drop-shadow(0px 1px 2px rgba(0, 0, 0, 0.3));\n",
       "      fill: #FFFFFF;\n",
       "    }\n",
       "  </style>\n",
       "\n",
       "      <script>\n",
       "        const buttonEl =\n",
       "          document.querySelector('#df-decee57c-a75e-4b13-ac05-b02d1ef5ccad button.colab-df-convert');\n",
       "        buttonEl.style.display =\n",
       "          google.colab.kernel.accessAllowed ? 'block' : 'none';\n",
       "\n",
       "        async function convertToInteractive(key) {\n",
       "          const element = document.querySelector('#df-decee57c-a75e-4b13-ac05-b02d1ef5ccad');\n",
       "          const dataTable =\n",
       "            await google.colab.kernel.invokeFunction('convertToInteractive',\n",
       "                                                     [key], {});\n",
       "          if (!dataTable) return;\n",
       "\n",
       "          const docLinkHtml = 'Like what you see? Visit the ' +\n",
       "            '<a target=\"_blank\" href=https://colab.research.google.com/notebooks/data_table.ipynb>data table notebook</a>'\n",
       "            + ' to learn more about interactive tables.';\n",
       "          element.innerHTML = '';\n",
       "          dataTable['output_type'] = 'display_data';\n",
       "          await google.colab.output.renderOutput(dataTable, element);\n",
       "          const docLink = document.createElement('div');\n",
       "          docLink.innerHTML = docLinkHtml;\n",
       "          element.appendChild(docLink);\n",
       "        }\n",
       "      </script>\n",
       "    </div>\n",
       "  </div>\n",
       "  "
      ],
      "text/plain": [
       "         Date       Open       High        Low      Close  Adj Close    Volume\n",
       "0   11/7/2016  59.779999  60.520000  59.779999  60.419998  55.902321  31664800\n",
       "1   11/8/2016  60.549999  60.779999  60.150002  60.470001  55.948589  22935400\n",
       "2   11/9/2016  60.000000  60.590000  59.200001  60.169998  55.671009  49632500\n",
       "3  11/10/2016  60.480000  60.490002  57.630001  58.700001  54.310928  57822400\n",
       "4  11/11/2016  58.230000  59.119999  58.009998  59.020000  54.607002  38767800"
      ]
     },
     "execution_count": 4,
     "metadata": {},
     "output_type": "execute_result"
    }
   ],
   "source": [
    "df.head()"
   ]
  },
  {
   "cell_type": "code",
   "execution_count": 5,
   "metadata": {
    "id": "94EJ4wicJaaJ"
   },
   "outputs": [],
   "source": [
    "close = df[\"Close\"]"
   ]
  },
  {
   "cell_type": "code",
   "execution_count": 6,
   "metadata": {
    "colab": {
     "base_uri": "https://localhost:8080/"
    },
    "id": "IVsidSF6Jacw",
    "outputId": "f63d0e60-28da-4a18-cb86-a9dfe2293b2b"
   },
   "outputs": [
    {
     "data": {
      "text/plain": [
       "0    60.419998\n",
       "1    60.470001\n",
       "2    60.169998\n",
       "3    58.700001\n",
       "4    59.020000\n",
       "Name: Close, dtype: float64"
      ]
     },
     "execution_count": 6,
     "metadata": {},
     "output_type": "execute_result"
    }
   ],
   "source": [
    "close.head()"
   ]
  },
  {
   "cell_type": "code",
   "execution_count": 7,
   "metadata": {
    "id": "4uZATLgiJafE"
   },
   "outputs": [],
   "source": [
    "from sklearn.preprocessing import MinMaxScaler\n",
    "import numpy as np"
   ]
  },
  {
   "cell_type": "code",
   "execution_count": 8,
   "metadata": {
    "id": "RRLJ9fVgJahr"
   },
   "outputs": [],
   "source": [
    "scaler = MinMaxScaler(feature_range=(0,1))\n",
    "close = scaler.fit_transform(np.array(close).reshape(-1,1))"
   ]
  },
  {
   "cell_type": "code",
   "execution_count": 9,
   "metadata": {
    "colab": {
     "base_uri": "https://localhost:8080/"
    },
    "id": "bOcoIYM-J983",
    "outputId": "2a7cc11a-d2dc-4fe8-a00a-bf50d5fc7f56"
   },
   "outputs": [
    {
     "data": {
      "text/plain": [
       "array([[0.00826387],\n",
       "       [0.00844353],\n",
       "       [0.00736562],\n",
       "       [0.00208394],\n",
       "       [0.00323369]])"
      ]
     },
     "execution_count": 9,
     "metadata": {},
     "output_type": "execute_result"
    }
   ],
   "source": [
    "close[:5]"
   ]
  },
  {
   "cell_type": "code",
   "execution_count": 10,
   "metadata": {
    "id": "unduZXlZJ-FM"
   },
   "outputs": [],
   "source": [
    "def splitData(data, time_step=1):\n",
    "    X_data, Y_data = [], []\n",
    "    for i in range(len(data)-time_step-1):\n",
    "        a = data[i:(i+time_step), 0]   \n",
    "        X_data.append(a)\n",
    "        Y_data.append(data[i + time_step, 0])\n",
    "    return np.array(X_data), np.array(Y_data)"
   ]
  },
  {
   "cell_type": "code",
   "execution_count": 11,
   "metadata": {
    "id": "VKBC_CGDJ-Hi"
   },
   "outputs": [],
   "source": [
    "X, y = splitData(close, 50)"
   ]
  },
  {
   "cell_type": "code",
   "execution_count": 12,
   "metadata": {
    "colab": {
     "base_uri": "https://localhost:8080/"
    },
    "id": "An6U6ND1J-Ka",
    "outputId": "340bebf4-4f2f-4ac5-af70-2d45f567f5f5"
   },
   "outputs": [
    {
     "data": {
      "text/plain": [
       "((1208, 50), (1208,))"
      ]
     },
     "execution_count": 12,
     "metadata": {},
     "output_type": "execute_result"
    }
   ],
   "source": [
    "X.shape, y.shape"
   ]
  },
  {
   "cell_type": "code",
   "execution_count": 13,
   "metadata": {
    "id": "c-dliy53J-Mv"
   },
   "outputs": [],
   "source": [
    "from tensorflow import keras"
   ]
  },
  {
   "cell_type": "code",
   "execution_count": 14,
   "metadata": {
    "id": "cqGtK4ewJ-PU"
   },
   "outputs": [],
   "source": [
    "model = keras.models.Sequential([\n",
    "    keras.layers.LSTM(100, return_sequences=True, input_shape=[50, 1]),\n",
    "    keras.layers.LSTM(100, return_sequences=True),\n",
    "    keras.layers.LSTM(100),\n",
    "    keras.layers.Dense(1)\n",
    "])\n",
    "model.compile(loss='mean_squared_error',optimizer='adam', metrics=['mean_squared_logarithmic_error'])"
   ]
  },
  {
   "cell_type": "code",
   "execution_count": 15,
   "metadata": {
    "colab": {
     "base_uri": "https://localhost:8080/"
    },
    "id": "tmxYjD9GJ-Rb",
    "outputId": "142359c8-ac75-458c-8a2b-3ea2de886bf4"
   },
   "outputs": [
    {
     "name": "stdout",
     "output_type": "stream",
     "text": [
      "Model: \"sequential\"\n",
      "_________________________________________________________________\n",
      " Layer (type)                Output Shape              Param #   \n",
      "=================================================================\n",
      " lstm (LSTM)                 (None, 50, 100)           40800     \n",
      "                                                                 \n",
      " lstm_1 (LSTM)               (None, 50, 100)           80400     \n",
      "                                                                 \n",
      " lstm_2 (LSTM)               (None, 100)               80400     \n",
      "                                                                 \n",
      " dense (Dense)               (None, 1)                 101       \n",
      "                                                                 \n",
      "=================================================================\n",
      "Total params: 201,701\n",
      "Trainable params: 201,701\n",
      "Non-trainable params: 0\n",
      "_________________________________________________________________\n"
     ]
    }
   ],
   "source": [
    "model.summary()"
   ]
  },
  {
   "cell_type": "code",
   "execution_count": 16,
   "metadata": {
    "colab": {
     "base_uri": "https://localhost:8080/"
    },
    "id": "FGKOek9VKRlM",
    "outputId": "23329aba-8de1-4d50-d95e-b34b1b65714b"
   },
   "outputs": [
    {
     "name": "stdout",
     "output_type": "stream",
     "text": [
      "Epoch 1/50\n",
      "19/19 [==============================] - 9s 45ms/step - loss: 0.0253 - mean_squared_logarithmic_error: 0.0134\n",
      "Epoch 2/50\n",
      "19/19 [==============================] - 1s 45ms/step - loss: 0.0019 - mean_squared_logarithmic_error: 8.2200e-04\n",
      "Epoch 3/50\n",
      "19/19 [==============================] - 1s 45ms/step - loss: 8.1014e-04 - mean_squared_logarithmic_error: 3.6327e-04\n",
      "Epoch 4/50\n",
      "19/19 [==============================] - 1s 44ms/step - loss: 6.4861e-04 - mean_squared_logarithmic_error: 2.8393e-04\n",
      "Epoch 5/50\n",
      "19/19 [==============================] - 1s 45ms/step - loss: 5.7887e-04 - mean_squared_logarithmic_error: 2.5675e-04\n",
      "Epoch 6/50\n",
      "19/19 [==============================] - 1s 45ms/step - loss: 5.2284e-04 - mean_squared_logarithmic_error: 2.3610e-04\n",
      "Epoch 7/50\n",
      "19/19 [==============================] - 1s 45ms/step - loss: 5.2753e-04 - mean_squared_logarithmic_error: 2.3613e-04\n",
      "Epoch 8/50\n",
      "19/19 [==============================] - 1s 45ms/step - loss: 5.0773e-04 - mean_squared_logarithmic_error: 2.2873e-04\n",
      "Epoch 9/50\n",
      "19/19 [==============================] - 1s 45ms/step - loss: 4.9373e-04 - mean_squared_logarithmic_error: 2.2404e-04\n",
      "Epoch 10/50\n",
      "19/19 [==============================] - 1s 44ms/step - loss: 4.9812e-04 - mean_squared_logarithmic_error: 2.2529e-04\n",
      "Epoch 11/50\n",
      "19/19 [==============================] - 1s 44ms/step - loss: 4.8886e-04 - mean_squared_logarithmic_error: 2.2152e-04\n",
      "Epoch 12/50\n",
      "19/19 [==============================] - 1s 44ms/step - loss: 4.7310e-04 - mean_squared_logarithmic_error: 2.1473e-04\n",
      "Epoch 13/50\n",
      "19/19 [==============================] - 1s 45ms/step - loss: 4.7891e-04 - mean_squared_logarithmic_error: 2.1845e-04\n",
      "Epoch 14/50\n",
      "19/19 [==============================] - 1s 45ms/step - loss: 4.7708e-04 - mean_squared_logarithmic_error: 2.1634e-04\n",
      "Epoch 15/50\n",
      "19/19 [==============================] - 1s 45ms/step - loss: 4.6778e-04 - mean_squared_logarithmic_error: 2.1091e-04\n",
      "Epoch 16/50\n",
      "19/19 [==============================] - 1s 45ms/step - loss: 4.5986e-04 - mean_squared_logarithmic_error: 2.0737e-04\n",
      "Epoch 17/50\n",
      "19/19 [==============================] - 1s 45ms/step - loss: 4.5055e-04 - mean_squared_logarithmic_error: 2.0252e-04\n",
      "Epoch 18/50\n",
      "19/19 [==============================] - 1s 45ms/step - loss: 4.2700e-04 - mean_squared_logarithmic_error: 1.9301e-04\n",
      "Epoch 19/50\n",
      "19/19 [==============================] - 1s 45ms/step - loss: 4.3604e-04 - mean_squared_logarithmic_error: 1.9554e-04\n",
      "Epoch 20/50\n",
      "19/19 [==============================] - 1s 45ms/step - loss: 4.1163e-04 - mean_squared_logarithmic_error: 1.8617e-04\n",
      "Epoch 21/50\n",
      "19/19 [==============================] - 1s 45ms/step - loss: 4.0797e-04 - mean_squared_logarithmic_error: 1.8323e-04\n",
      "Epoch 22/50\n",
      "19/19 [==============================] - 1s 45ms/step - loss: 3.8637e-04 - mean_squared_logarithmic_error: 1.7490e-04\n",
      "Epoch 23/50\n",
      "19/19 [==============================] - 1s 45ms/step - loss: 3.6548e-04 - mean_squared_logarithmic_error: 1.6863e-04\n",
      "Epoch 24/50\n",
      "19/19 [==============================] - 1s 44ms/step - loss: 4.4170e-04 - mean_squared_logarithmic_error: 1.9397e-04\n",
      "Epoch 25/50\n",
      "19/19 [==============================] - 1s 45ms/step - loss: 4.6866e-04 - mean_squared_logarithmic_error: 2.1192e-04\n",
      "Epoch 26/50\n",
      "19/19 [==============================] - 1s 45ms/step - loss: 3.2640e-04 - mean_squared_logarithmic_error: 1.5221e-04\n",
      "Epoch 27/50\n",
      "19/19 [==============================] - 1s 45ms/step - loss: 3.5161e-04 - mean_squared_logarithmic_error: 1.6075e-04\n",
      "Epoch 28/50\n",
      "19/19 [==============================] - 1s 45ms/step - loss: 3.3209e-04 - mean_squared_logarithmic_error: 1.5176e-04\n",
      "Epoch 29/50\n",
      "19/19 [==============================] - 1s 45ms/step - loss: 3.2779e-04 - mean_squared_logarithmic_error: 1.5186e-04\n",
      "Epoch 30/50\n",
      "19/19 [==============================] - 1s 44ms/step - loss: 2.8774e-04 - mean_squared_logarithmic_error: 1.3434e-04\n",
      "Epoch 31/50\n",
      "19/19 [==============================] - 1s 45ms/step - loss: 2.8109e-04 - mean_squared_logarithmic_error: 1.3098e-04\n",
      "Epoch 32/50\n",
      "19/19 [==============================] - 1s 45ms/step - loss: 3.6791e-04 - mean_squared_logarithmic_error: 1.6759e-04\n",
      "Epoch 33/50\n",
      "19/19 [==============================] - 1s 45ms/step - loss: 3.9533e-04 - mean_squared_logarithmic_error: 1.8032e-04\n",
      "Epoch 34/50\n",
      "19/19 [==============================] - 1s 45ms/step - loss: 3.6231e-04 - mean_squared_logarithmic_error: 1.6555e-04\n",
      "Epoch 35/50\n",
      "19/19 [==============================] - 1s 45ms/step - loss: 2.7504e-04 - mean_squared_logarithmic_error: 1.2854e-04\n",
      "Epoch 36/50\n",
      "19/19 [==============================] - 1s 45ms/step - loss: 2.5902e-04 - mean_squared_logarithmic_error: 1.2320e-04\n",
      "Epoch 37/50\n",
      "19/19 [==============================] - 1s 45ms/step - loss: 2.6143e-04 - mean_squared_logarithmic_error: 1.2279e-04\n",
      "Epoch 38/50\n",
      "19/19 [==============================] - 1s 44ms/step - loss: 2.7037e-04 - mean_squared_logarithmic_error: 1.2682e-04\n",
      "Epoch 39/50\n",
      "19/19 [==============================] - 1s 45ms/step - loss: 2.8508e-04 - mean_squared_logarithmic_error: 1.3256e-04\n",
      "Epoch 40/50\n",
      "19/19 [==============================] - 1s 45ms/step - loss: 2.6878e-04 - mean_squared_logarithmic_error: 1.2609e-04\n",
      "Epoch 41/50\n",
      "19/19 [==============================] - 1s 45ms/step - loss: 2.3602e-04 - mean_squared_logarithmic_error: 1.1215e-04\n",
      "Epoch 42/50\n",
      "19/19 [==============================] - 1s 45ms/step - loss: 2.3465e-04 - mean_squared_logarithmic_error: 1.1113e-04\n",
      "Epoch 43/50\n",
      "19/19 [==============================] - 1s 45ms/step - loss: 2.2837e-04 - mean_squared_logarithmic_error: 1.0819e-04\n",
      "Epoch 44/50\n",
      "19/19 [==============================] - 1s 45ms/step - loss: 3.3970e-04 - mean_squared_logarithmic_error: 1.5046e-04\n",
      "Epoch 45/50\n",
      "19/19 [==============================] - 1s 45ms/step - loss: 3.6890e-04 - mean_squared_logarithmic_error: 1.6733e-04\n",
      "Epoch 46/50\n",
      "19/19 [==============================] - 1s 45ms/step - loss: 2.3199e-04 - mean_squared_logarithmic_error: 1.0942e-04\n",
      "Epoch 47/50\n",
      "19/19 [==============================] - 1s 45ms/step - loss: 2.2479e-04 - mean_squared_logarithmic_error: 1.0638e-04\n",
      "Epoch 48/50\n",
      "19/19 [==============================] - 1s 45ms/step - loss: 2.4571e-04 - mean_squared_logarithmic_error: 1.1309e-04\n",
      "Epoch 49/50\n",
      "19/19 [==============================] - 1s 45ms/step - loss: 2.8506e-04 - mean_squared_logarithmic_error: 1.3121e-04\n",
      "Epoch 50/50\n",
      "19/19 [==============================] - 1s 45ms/step - loss: 2.1357e-04 - mean_squared_logarithmic_error: 1.0105e-04\n"
     ]
    },
    {
     "data": {
      "text/plain": [
       "<keras.callbacks.History at 0x7f527007b210>"
      ]
     },
     "execution_count": 16,
     "metadata": {},
     "output_type": "execute_result"
    }
   ],
   "source": [
    "model.fit(X,y,epochs=50,batch_size=64,verbose=1)"
   ]
  },
  {
   "cell_type": "code",
   "execution_count": 17,
   "metadata": {
    "colab": {
     "base_uri": "https://localhost:8080/",
     "height": 206
    },
    "id": "M3sBpbMcKRmF",
    "outputId": "4a351913-577b-4350-ea9a-beaff6629036"
   },
   "outputs": [
    {
     "data": {
      "text/html": [
       "\n",
       "  <div id=\"df-cd1693c7-08b7-4eaf-9cee-1c182f69822e\">\n",
       "    <div class=\"colab-df-container\">\n",
       "      <div>\n",
       "<style scoped>\n",
       "    .dataframe tbody tr th:only-of-type {\n",
       "        vertical-align: middle;\n",
       "    }\n",
       "\n",
       "    .dataframe tbody tr th {\n",
       "        vertical-align: top;\n",
       "    }\n",
       "\n",
       "    .dataframe thead th {\n",
       "        text-align: right;\n",
       "    }\n",
       "</style>\n",
       "<table border=\"1\" class=\"dataframe\">\n",
       "  <thead>\n",
       "    <tr style=\"text-align: right;\">\n",
       "      <th></th>\n",
       "      <th>Date</th>\n",
       "      <th>Open</th>\n",
       "      <th>High</th>\n",
       "      <th>Low</th>\n",
       "      <th>Close</th>\n",
       "      <th>Adj Close</th>\n",
       "      <th>Volume</th>\n",
       "    </tr>\n",
       "  </thead>\n",
       "  <tbody>\n",
       "    <tr>\n",
       "      <th>1254</th>\n",
       "      <td>11/1/2021</td>\n",
       "      <td>331.359985</td>\n",
       "      <td>331.489990</td>\n",
       "      <td>326.369995</td>\n",
       "      <td>329.369995</td>\n",
       "      <td>329.369995</td>\n",
       "      <td>27073200</td>\n",
       "    </tr>\n",
       "    <tr>\n",
       "      <th>1255</th>\n",
       "      <td>11/2/2021</td>\n",
       "      <td>330.309998</td>\n",
       "      <td>333.450012</td>\n",
       "      <td>330.000000</td>\n",
       "      <td>333.130005</td>\n",
       "      <td>333.130005</td>\n",
       "      <td>26487100</td>\n",
       "    </tr>\n",
       "    <tr>\n",
       "      <th>1256</th>\n",
       "      <td>11/3/2021</td>\n",
       "      <td>333.899994</td>\n",
       "      <td>334.899994</td>\n",
       "      <td>330.649994</td>\n",
       "      <td>334.000000</td>\n",
       "      <td>334.000000</td>\n",
       "      <td>21500100</td>\n",
       "    </tr>\n",
       "    <tr>\n",
       "      <th>1257</th>\n",
       "      <td>11/4/2021</td>\n",
       "      <td>332.890015</td>\n",
       "      <td>336.540009</td>\n",
       "      <td>329.510010</td>\n",
       "      <td>336.440002</td>\n",
       "      <td>336.440002</td>\n",
       "      <td>23992200</td>\n",
       "    </tr>\n",
       "    <tr>\n",
       "      <th>1258</th>\n",
       "      <td>11/5/2021</td>\n",
       "      <td>338.510010</td>\n",
       "      <td>338.790009</td>\n",
       "      <td>334.420013</td>\n",
       "      <td>336.059998</td>\n",
       "      <td>336.059998</td>\n",
       "      <td>22564000</td>\n",
       "    </tr>\n",
       "  </tbody>\n",
       "</table>\n",
       "</div>\n",
       "      <button class=\"colab-df-convert\" onclick=\"convertToInteractive('df-cd1693c7-08b7-4eaf-9cee-1c182f69822e')\"\n",
       "              title=\"Convert this dataframe to an interactive table.\"\n",
       "              style=\"display:none;\">\n",
       "        \n",
       "  <svg xmlns=\"http://www.w3.org/2000/svg\" height=\"24px\"viewBox=\"0 0 24 24\"\n",
       "       width=\"24px\">\n",
       "    <path d=\"M0 0h24v24H0V0z\" fill=\"none\"/>\n",
       "    <path d=\"M18.56 5.44l.94 2.06.94-2.06 2.06-.94-2.06-.94-.94-2.06-.94 2.06-2.06.94zm-11 1L8.5 8.5l.94-2.06 2.06-.94-2.06-.94L8.5 2.5l-.94 2.06-2.06.94zm10 10l.94 2.06.94-2.06 2.06-.94-2.06-.94-.94-2.06-.94 2.06-2.06.94z\"/><path d=\"M17.41 7.96l-1.37-1.37c-.4-.4-.92-.59-1.43-.59-.52 0-1.04.2-1.43.59L10.3 9.45l-7.72 7.72c-.78.78-.78 2.05 0 2.83L4 21.41c.39.39.9.59 1.41.59.51 0 1.02-.2 1.41-.59l7.78-7.78 2.81-2.81c.8-.78.8-2.07 0-2.86zM5.41 20L4 18.59l7.72-7.72 1.47 1.35L5.41 20z\"/>\n",
       "  </svg>\n",
       "      </button>\n",
       "      \n",
       "  <style>\n",
       "    .colab-df-container {\n",
       "      display:flex;\n",
       "      flex-wrap:wrap;\n",
       "      gap: 12px;\n",
       "    }\n",
       "\n",
       "    .colab-df-convert {\n",
       "      background-color: #E8F0FE;\n",
       "      border: none;\n",
       "      border-radius: 50%;\n",
       "      cursor: pointer;\n",
       "      display: none;\n",
       "      fill: #1967D2;\n",
       "      height: 32px;\n",
       "      padding: 0 0 0 0;\n",
       "      width: 32px;\n",
       "    }\n",
       "\n",
       "    .colab-df-convert:hover {\n",
       "      background-color: #E2EBFA;\n",
       "      box-shadow: 0px 1px 2px rgba(60, 64, 67, 0.3), 0px 1px 3px 1px rgba(60, 64, 67, 0.15);\n",
       "      fill: #174EA6;\n",
       "    }\n",
       "\n",
       "    [theme=dark] .colab-df-convert {\n",
       "      background-color: #3B4455;\n",
       "      fill: #D2E3FC;\n",
       "    }\n",
       "\n",
       "    [theme=dark] .colab-df-convert:hover {\n",
       "      background-color: #434B5C;\n",
       "      box-shadow: 0px 1px 3px 1px rgba(0, 0, 0, 0.15);\n",
       "      filter: drop-shadow(0px 1px 2px rgba(0, 0, 0, 0.3));\n",
       "      fill: #FFFFFF;\n",
       "    }\n",
       "  </style>\n",
       "\n",
       "      <script>\n",
       "        const buttonEl =\n",
       "          document.querySelector('#df-cd1693c7-08b7-4eaf-9cee-1c182f69822e button.colab-df-convert');\n",
       "        buttonEl.style.display =\n",
       "          google.colab.kernel.accessAllowed ? 'block' : 'none';\n",
       "\n",
       "        async function convertToInteractive(key) {\n",
       "          const element = document.querySelector('#df-cd1693c7-08b7-4eaf-9cee-1c182f69822e');\n",
       "          const dataTable =\n",
       "            await google.colab.kernel.invokeFunction('convertToInteractive',\n",
       "                                                     [key], {});\n",
       "          if (!dataTable) return;\n",
       "\n",
       "          const docLinkHtml = 'Like what you see? Visit the ' +\n",
       "            '<a target=\"_blank\" href=https://colab.research.google.com/notebooks/data_table.ipynb>data table notebook</a>'\n",
       "            + ' to learn more about interactive tables.';\n",
       "          element.innerHTML = '';\n",
       "          dataTable['output_type'] = 'display_data';\n",
       "          await google.colab.output.renderOutput(dataTable, element);\n",
       "          const docLink = document.createElement('div');\n",
       "          docLink.innerHTML = docLinkHtml;\n",
       "          element.appendChild(docLink);\n",
       "        }\n",
       "      </script>\n",
       "    </div>\n",
       "  </div>\n",
       "  "
      ],
      "text/plain": [
       "           Date        Open        High         Low       Close   Adj Close  \\\n",
       "1254  11/1/2021  331.359985  331.489990  326.369995  329.369995  329.369995   \n",
       "1255  11/2/2021  330.309998  333.450012  330.000000  333.130005  333.130005   \n",
       "1256  11/3/2021  333.899994  334.899994  330.649994  334.000000  334.000000   \n",
       "1257  11/4/2021  332.890015  336.540009  329.510010  336.440002  336.440002   \n",
       "1258  11/5/2021  338.510010  338.790009  334.420013  336.059998  336.059998   \n",
       "\n",
       "        Volume  \n",
       "1254  27073200  \n",
       "1255  26487100  \n",
       "1256  21500100  \n",
       "1257  23992200  \n",
       "1258  22564000  "
      ]
     },
     "execution_count": 17,
     "metadata": {},
     "output_type": "execute_result"
    }
   ],
   "source": [
    "df.tail()"
   ]
  },
  {
   "cell_type": "code",
   "execution_count": 18,
   "metadata": {
    "id": "pnrixCKiKRn9"
   },
   "outputs": [],
   "source": [
    "from numpy import array\n",
    "def prediction(data, n_steps=50):\n",
    "    output=[]\n",
    "    i=0\n",
    "    temp1=data.reshape(1,-1)\n",
    "    temp2=list(temp1)\n",
    "    temp2=temp2[0].tolist()\n",
    "    while(i<10):\n",
    "        if(len(temp2)>50):\n",
    "            temp1=np.array(temp2[1:])\n",
    "            temp1=temp1.reshape(1,-1)\n",
    "            temp1 = temp1.reshape((1, n_steps, 1))\n",
    "            res = model.predict(temp1, verbose=0)\n",
    "            temp2.extend(res[0].tolist())\n",
    "            temp2=temp2[1:]\n",
    "            output.extend(res.tolist())\n",
    "        else:\n",
    "            temp1 = temp1.reshape((1, n_steps,1))\n",
    "            res = model.predict(temp1, verbose=0)\n",
    "            temp2.extend(res[0].tolist())\n",
    "            output.extend(res.tolist())\n",
    "        i+=1\n",
    "    return output"
   ]
  },
  {
   "cell_type": "code",
   "execution_count": 19,
   "metadata": {
    "id": "3CnaeuqLKRqj"
   },
   "outputs": [],
   "source": [
    "close_output = prediction(close[-50:], 50)"
   ]
  },
  {
   "cell_type": "code",
   "execution_count": 20,
   "metadata": {
    "colab": {
     "base_uri": "https://localhost:8080/"
    },
    "id": "W-g_2KsOKRtJ",
    "outputId": "17e3864b-816f-41ee-cd3d-2cc8b812ccf7"
   },
   "outputs": [
    {
     "data": {
      "text/plain": [
       "[[1.0181491374969482],\n",
       " [1.024025559425354],\n",
       " [1.0296193361282349],\n",
       " [1.0349591970443726],\n",
       " [1.0399352312088013],\n",
       " [1.0444610118865967],\n",
       " [1.048500895500183],\n",
       " [1.0520656108856201],\n",
       " [1.0551891326904297],\n",
       " [1.0579276084899902]]"
      ]
     },
     "execution_count": 20,
     "metadata": {},
     "output_type": "execute_result"
    }
   ],
   "source": [
    "close_output"
   ]
  },
  {
   "cell_type": "code",
   "execution_count": 21,
   "metadata": {
    "colab": {
     "base_uri": "https://localhost:8080/"
    },
    "id": "Za4DY20QKRvv",
    "outputId": "f91b0842-865b-4397-c2ed-ada8589bc07d"
   },
   "outputs": [
    {
     "data": {
      "text/plain": [
       "array([[341.49127   ],\n",
       "       [343.12679577],\n",
       "       [344.68365572],\n",
       "       [346.16984583],\n",
       "       [347.55477567],\n",
       "       [348.81439096],\n",
       "       [349.93877138],\n",
       "       [350.93090298],\n",
       "       [351.80024158],\n",
       "       [352.56241417]])"
      ]
     },
     "execution_count": 21,
     "metadata": {},
     "output_type": "execute_result"
    }
   ],
   "source": [
    "close_output=scaler.inverse_transform(close_output)\n",
    "close_output"
   ]
  },
  {
   "cell_type": "code",
   "execution_count": 22,
   "metadata": {
    "colab": {
     "base_uri": "https://localhost:8080/"
    },
    "id": "SxmnhEmVKRx2",
    "outputId": "fd089d13-47c8-47cd-b27c-939ebf048a3a"
   },
   "outputs": [
    {
     "name": "stdout",
     "output_type": "stream",
     "text": [
      "Output for Close values:\n",
      "11/8/ 341.49127000259807\n",
      "11/9/ 343.1267957713412\n",
      "11/10/ 344.6836557200683\n",
      "11/11/ 346.16984582626736\n",
      "11/12/ 347.5547756698393\n",
      "11/13/ 348.81439096166065\n",
      "11/14/ 349.93877138111367\n",
      "11/15/ 350.9309029778826\n",
      "11/16/ 351.8002415759678\n",
      "11/17/ 352.5624141687169\n"
     ]
    }
   ],
   "source": [
    "print('Output for Close values:')\n",
    "for i,v in enumerate(close_output):\n",
    "    print(f'11/{i+8}/ {v[0]}')"
   ]
  },
  {
   "cell_type": "code",
   "execution_count": 23,
   "metadata": {
    "colab": {
     "base_uri": "https://localhost:8080/"
    },
    "id": "iDRiVyDIKkTk",
    "outputId": "431d889c-2c18-4ac7-a7c4-ad25e6364de0"
   },
   "outputs": [
    {
     "name": "stdout",
     "output_type": "stream",
     "text": [
      "Model: \"sequential_1\"\n",
      "_________________________________________________________________\n",
      " Layer (type)                Output Shape              Param #   \n",
      "=================================================================\n",
      " lstm_3 (LSTM)               (None, 50, 100)           40800     \n",
      "                                                                 \n",
      " lstm_4 (LSTM)               (None, 50, 100)           80400     \n",
      "                                                                 \n",
      " lstm_5 (LSTM)               (None, 100)               80400     \n",
      "                                                                 \n",
      " dense_1 (Dense)             (None, 1)                 101       \n",
      "                                                                 \n",
      "=================================================================\n",
      "Total params: 201,701\n",
      "Trainable params: 201,701\n",
      "Non-trainable params: 0\n",
      "_________________________________________________________________\n",
      "Output for Open values:\n",
      "11/8/ 339.7998461094046\n",
      "11/9/ 342.00690791758063\n",
      "11/10/ 343.9593370195663\n",
      "11/11/ 345.70427772036555\n",
      "11/12/ 347.2704309115434\n",
      "11/13/ 348.6714620932746\n",
      "11/14/ 349.91686026812556\n",
      "11/15/ 351.0153459631026\n",
      "11/16/ 351.97827925170066\n",
      "11/17/ 352.81775527099376\n"
     ]
    }
   ],
   "source": [
    "open = df[\"Open\"]\n",
    "scaler = MinMaxScaler(feature_range=(0,1))\n",
    "open = scaler.fit_transform(np.array(open).reshape(-1,1))\n",
    "X, y = splitData(open, 50)\n",
    "model1 = keras.models.Sequential([\n",
    "    keras.layers.LSTM(100, return_sequences=True, input_shape=[50, 1]),\n",
    "    keras.layers.LSTM(100, return_sequences=True),\n",
    "    keras.layers.LSTM(100),\n",
    "    keras.layers.Dense(1)\n",
    "])\n",
    "model1.compile(loss='mean_squared_error',optimizer='adam', metrics=['mean_squared_logarithmic_error'])\n",
    "model1.summary()\n",
    "model1.fit(X,y,epochs=50,batch_size=64,verbose=0)\n",
    "open_output = prediction(open[-50:], 50)\n",
    "open_output=scaler.inverse_transform(open_output)\n",
    "print('Output for Open values:')\n",
    "for i,v in enumerate(open_output):\n",
    "    print(f'11/{i+8}/ {v[0]}')"
   ]
  },
  {
   "cell_type": "code",
   "execution_count": 24,
   "metadata": {
    "colab": {
     "base_uri": "https://localhost:8080/"
    },
    "id": "WpFbh0BxKkWo",
    "outputId": "12b4f807-1862-41fe-e094-91e1bd395c80"
   },
   "outputs": [
    {
     "name": "stdout",
     "output_type": "stream",
     "text": [
      "Model: \"sequential_2\"\n",
      "_________________________________________________________________\n",
      " Layer (type)                Output Shape              Param #   \n",
      "=================================================================\n",
      " lstm_6 (LSTM)               (None, 50, 100)           40800     \n",
      "                                                                 \n",
      " lstm_7 (LSTM)               (None, 50, 100)           80400     \n",
      "                                                                 \n",
      " lstm_8 (LSTM)               (None, 100)               80400     \n",
      "                                                                 \n",
      " dense_2 (Dense)             (None, 1)                 101       \n",
      "                                                                 \n",
      "=================================================================\n",
      "Total params: 201,701\n",
      "Trainable params: 201,701\n",
      "Non-trainable params: 0\n",
      "_________________________________________________________________\n",
      "Output for High values:\n",
      "11/8/ 342.5783244183973\n",
      "11/9/ 344.2819710052507\n",
      "11/10/ 345.91686219973934\n",
      "11/11/ 347.4705606782201\n",
      "11/12/ 348.91315684469356\n",
      "11/13/ 350.22581132152317\n",
      "11/14/ 351.4018553024662\n",
      "11/15/ 352.44565685561156\n",
      "11/16/ 353.36708581419896\n",
      "11/17/ 354.1793797586206\n"
     ]
    }
   ],
   "source": [
    "high = df[\"High\"]\n",
    "scaler = MinMaxScaler(feature_range=(0,1))\n",
    "high = scaler.fit_transform(np.array(high).reshape(-1,1))\n",
    "X, y = splitData(high, 50)\n",
    "model2 = keras.models.Sequential([\n",
    "    keras.layers.LSTM(100, return_sequences=True, input_shape=[50, 1]),\n",
    "    keras.layers.LSTM(100, return_sequences=True),\n",
    "    keras.layers.LSTM(100),\n",
    "    keras.layers.Dense(1)\n",
    "])\n",
    "model2.compile(loss='mean_squared_error',optimizer='adam', metrics=['mean_squared_logarithmic_error'])\n",
    "model2.summary()\n",
    "model2.fit(X,y,epochs=50,batch_size=64,verbose=0)\n",
    "high_output = prediction(high[-50:], 50)\n",
    "high_output=scaler.inverse_transform(high_output)\n",
    "print('Output for High values:')\n",
    "for i,v in enumerate(high_output):\n",
    "    print(f'11/{i+8}/ {v[0]}')"
   ]
  },
  {
   "cell_type": "code",
   "execution_count": 25,
   "metadata": {
    "colab": {
     "base_uri": "https://localhost:8080/"
    },
    "id": "nGbucYqmKkZP",
    "outputId": "291c9b86-5f3f-455d-a920-aab80ad076c6"
   },
   "outputs": [
    {
     "name": "stdout",
     "output_type": "stream",
     "text": [
      "Model: \"sequential_3\"\n",
      "_________________________________________________________________\n",
      " Layer (type)                Output Shape              Param #   \n",
      "=================================================================\n",
      " lstm_9 (LSTM)               (None, 50, 100)           40800     \n",
      "                                                                 \n",
      " lstm_10 (LSTM)              (None, 50, 100)           80400     \n",
      "                                                                 \n",
      " lstm_11 (LSTM)              (None, 100)               80400     \n",
      "                                                                 \n",
      " dense_3 (Dense)             (None, 1)                 101       \n",
      "                                                                 \n",
      "=================================================================\n",
      "Total params: 201,701\n",
      "Trainable params: 201,701\n",
      "Non-trainable params: 0\n",
      "_________________________________________________________________\n",
      "Output for Low values:\n",
      "11/8/ 336.78792150441717\n",
      "11/9/ 338.6583158240225\n",
      "11/10/ 340.37161605047555\n",
      "11/11/ 341.9527325825643\n",
      "11/12/ 343.4018636462738\n",
      "11/13/ 344.71653141679093\n",
      "11/14/ 345.8970662707574\n",
      "11/15/ 346.95034004232167\n",
      "11/16/ 347.8857023904452\n",
      "11/17/ 348.71587281583544\n"
     ]
    }
   ],
   "source": [
    "low = df[\"Low\"]\n",
    "scaler = MinMaxScaler(feature_range=(0,1))\n",
    "low = scaler.fit_transform(np.array(low).reshape(-1,1))\n",
    "X, y = splitData(low, 50)\n",
    "model3 = keras.models.Sequential([\n",
    "    keras.layers.LSTM(100, return_sequences=True, input_shape=[50, 1]),\n",
    "    keras.layers.LSTM(100, return_sequences=True),\n",
    "    keras.layers.LSTM(100),\n",
    "    keras.layers.Dense(1)\n",
    "])\n",
    "model3.compile(loss='mean_squared_error',optimizer='adam', metrics=['mean_squared_logarithmic_error'])\n",
    "model3.summary()\n",
    "model3.fit(X,y,epochs=50,batch_size=64,verbose=0)\n",
    "low_output = prediction(low[-50:], 50)\n",
    "low_output=scaler.inverse_transform(low_output)\n",
    "print('Output for Low values:')\n",
    "for i,v in enumerate(low_output):\n",
    "    print(f'11/{i+8}/ {v[0]}')\n"
   ]
  },
  {
   "cell_type": "code",
   "execution_count": 26,
   "metadata": {
    "colab": {
     "base_uri": "https://localhost:8080/"
    },
    "id": "eArXbqrPKkb2",
    "outputId": "f48afdca-4d6a-47d1-a2f7-06b3971a3e5c"
   },
   "outputs": [
    {
     "name": "stdout",
     "output_type": "stream",
     "text": [
      "Model: \"sequential_4\"\n",
      "_________________________________________________________________\n",
      " Layer (type)                Output Shape              Param #   \n",
      "=================================================================\n",
      " lstm_12 (LSTM)              (None, 50, 100)           40800     \n",
      "                                                                 \n",
      " lstm_13 (LSTM)              (None, 50, 100)           80400     \n",
      "                                                                 \n",
      " lstm_14 (LSTM)              (None, 100)               80400     \n",
      "                                                                 \n",
      " dense_4 (Dense)             (None, 1)                 101       \n",
      "                                                                 \n",
      "=================================================================\n",
      "Total params: 201,701\n",
      "Trainable params: 201,701\n",
      "Non-trainable params: 0\n",
      "_________________________________________________________________\n",
      "Output for Volume values:\n",
      "11/8/ 28862004.921412468\n",
      "11/9/ 27914529.89527434\n",
      "11/10/ 27247825.166000426\n",
      "11/11/ 26844872.33619243\n",
      "11/12/ 26640801.625093818\n",
      "11/13/ 26563246.55584842\n",
      "11/14/ 26558579.297876358\n",
      "11/15/ 26592114.869078994\n",
      "11/16/ 26646598.18313867\n",
      "11/17/ 26711356.580874324\n"
     ]
    }
   ],
   "source": [
    "volume = df[\"Volume\"]\n",
    "scaler = MinMaxScaler(feature_range=(0,1))\n",
    "volume = scaler.fit_transform(np.array(volume).reshape(-1,1))\n",
    "X, y = splitData(volume, 50)\n",
    "model4 = keras.models.Sequential([\n",
    "    keras.layers.LSTM(100, return_sequences=True, input_shape=[50, 1]),\n",
    "    keras.layers.LSTM(100, return_sequences=True),\n",
    "    keras.layers.LSTM(100),\n",
    "    keras.layers.Dense(1)\n",
    "])\n",
    "model4.compile(loss='mean_squared_error',optimizer='adam', metrics=['mean_squared_logarithmic_error'])\n",
    "model4.summary()\n",
    "model4.fit(X,y,epochs=50,batch_size=64,verbose=0)\n",
    "volume_output = prediction(volume[-50:], 50)\n",
    "volume_output=scaler.inverse_transform(volume_output)\n",
    "print('Output for Volume values:')\n",
    "for i,v in enumerate(volume_output):\n",
    "    print(f'11/{i+8}/ {v[0]}')"
   ]
  }
 ],
 "metadata": {
  "accelerator": "GPU",
  "colab": {
   "name": "Untitled23.ipynb",
   "provenance": []
  },
  "kernelspec": {
   "display_name": "Python 3 (ipykernel)",
   "language": "python",
   "name": "python3"
  },
  "language_info": {
   "codemirror_mode": {
    "name": "ipython",
    "version": 3
   },
   "file_extension": ".py",
   "mimetype": "text/x-python",
   "name": "python",
   "nbconvert_exporter": "python",
   "pygments_lexer": "ipython3",
   "version": "3.8.2"
  }
 },
 "nbformat": 4,
 "nbformat_minor": 1
}
