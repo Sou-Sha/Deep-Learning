{
 "cells": [
  {
   "cell_type": "markdown",
   "metadata": {},
   "source": [
    "Build and train a deep network for the fashion MNIST classification for the best accuracy. The goal is to get the best accuracy on the test data set.\n",
    "\n",
    "We will use the same dataset from keras. \n",
    "\n",
    "fashion_mnist = keras.datasets.fashion_mnist\n",
    "(X_train_full, y_train_full), (X_test, y_test) = fashion_mnist.load_data()"
   ]
  },
  {
   "cell_type": "code",
   "execution_count": 1,
   "metadata": {
    "id": "bg-spuJbq2OD"
   },
   "outputs": [],
   "source": [
    "import sys\n",
    "import tensorflow as tf\n",
    "assert tf.__version__ >= \"2.0\"\n",
    "import numpy as np\n",
    "import os\n",
    "import matplotlib.pyplot as plt\n",
    "\n",
    "from tensorflow import keras\n",
    "\n",
    "from matplotlib import pyplot\n",
    "from keras.datasets import fashion_mnist"
   ]
  },
  {
   "cell_type": "code",
   "execution_count": 2,
   "metadata": {
    "colab": {
     "base_uri": "https://localhost:8080/"
    },
    "id": "7_LTshHcq4Wl",
    "outputId": "2495b41a-d417-437e-d012-a8ce658ec86b"
   },
   "outputs": [
    {
     "name": "stdout",
     "output_type": "stream",
     "text": [
      "Downloading data from https://storage.googleapis.com/tensorflow/tf-keras-datasets/train-labels-idx1-ubyte.gz\n",
      "32768/29515 [=================================] - 0s 0us/step\n",
      "40960/29515 [=========================================] - 0s 0us/step\n",
      "Downloading data from https://storage.googleapis.com/tensorflow/tf-keras-datasets/train-images-idx3-ubyte.gz\n",
      "26427392/26421880 [==============================] - 0s 0us/step\n",
      "26435584/26421880 [==============================] - 0s 0us/step\n",
      "Downloading data from https://storage.googleapis.com/tensorflow/tf-keras-datasets/t10k-labels-idx1-ubyte.gz\n",
      "16384/5148 [===============================================================================================] - 0s 0us/step\n",
      "Downloading data from https://storage.googleapis.com/tensorflow/tf-keras-datasets/t10k-images-idx3-ubyte.gz\n",
      "4423680/4422102 [==============================] - 0s 0us/step\n",
      "4431872/4422102 [==============================] - 0s 0us/step\n"
     ]
    }
   ],
   "source": [
    "(X_train_full, y_train_full), (X_test, y_test) = fashion_mnist.load_data()"
   ]
  },
  {
   "cell_type": "code",
   "execution_count": 3,
   "metadata": {
    "id": "MwJXquwwq4ZA"
   },
   "outputs": [],
   "source": [
    "X_train_full = X_train_full / 255.0\n",
    "X_test = X_test / 255.0\n",
    "X_valid, X_train = X_train_full[:5000], X_train_full[5000:]\n",
    "y_valid, y_train = y_train_full[:5000], y_train_full[5000:]"
   ]
  },
  {
   "cell_type": "code",
   "execution_count": 4,
   "metadata": {
    "id": "VnQQDn2Z_GnG"
   },
   "outputs": [],
   "source": [
    "tf.random.set_seed(42)\n",
    "np.random.seed(42)\n",
    "\n",
    "model = keras.models.Sequential([\n",
    "    keras.layers.Flatten(input_shape=[28, 28]),\n",
    "    keras.layers.Dense(300, kernel_initializer=\"he_normal\"),\n",
    "    keras.layers.PReLU(),\n",
    "    keras.layers.Dense(100, kernel_initializer=\"he_normal\"),\n",
    "    keras.layers.PReLU(),\n",
    "    keras.layers.Dense(10, activation=\"softmax\")\n",
    "])"
   ]
  },
  {
   "cell_type": "code",
   "execution_count": 5,
   "metadata": {
    "id": "bwHUQ339_Gpt"
   },
   "outputs": [],
   "source": [
    "model.compile(loss=\"sparse_categorical_crossentropy\",\n",
    "              optimizer=keras.optimizers.SGD(learning_rate=1e-3),\n",
    "              metrics=[\"accuracy\"])"
   ]
  },
  {
   "cell_type": "code",
   "execution_count": 6,
   "metadata": {
    "colab": {
     "base_uri": "https://localhost:8080/"
    },
    "id": "WQKjAiz-_GsU",
    "outputId": "087c70cd-3052-4f4e-a040-e057300d9e6c"
   },
   "outputs": [
    {
     "name": "stdout",
     "output_type": "stream",
     "text": [
      "Epoch 1/10\n",
      "1719/1719 [==============================] - 6s 3ms/step - loss: 1.3461 - accuracy: 0.6209 - val_loss: 0.9255 - val_accuracy: 0.7186\n",
      "Epoch 2/10\n",
      "1719/1719 [==============================] - 5s 3ms/step - loss: 0.8197 - accuracy: 0.7355 - val_loss: 0.7305 - val_accuracy: 0.7628\n",
      "Epoch 3/10\n",
      "1719/1719 [==============================] - 6s 3ms/step - loss: 0.6966 - accuracy: 0.7694 - val_loss: 0.6565 - val_accuracy: 0.7878\n",
      "Epoch 4/10\n",
      "1719/1719 [==============================] - 5s 3ms/step - loss: 0.6331 - accuracy: 0.7909 - val_loss: 0.6004 - val_accuracy: 0.8046\n",
      "Epoch 5/10\n",
      "1719/1719 [==============================] - 5s 3ms/step - loss: 0.5917 - accuracy: 0.8057 - val_loss: 0.5656 - val_accuracy: 0.8180\n",
      "Epoch 6/10\n",
      "1719/1719 [==============================] - 5s 3ms/step - loss: 0.5618 - accuracy: 0.8135 - val_loss: 0.5406 - val_accuracy: 0.8240\n",
      "Epoch 7/10\n",
      "1719/1719 [==============================] - 5s 3ms/step - loss: 0.5390 - accuracy: 0.8206 - val_loss: 0.5196 - val_accuracy: 0.8312\n",
      "Epoch 8/10\n",
      "1719/1719 [==============================] - 5s 3ms/step - loss: 0.5213 - accuracy: 0.8257 - val_loss: 0.5113 - val_accuracy: 0.8318\n",
      "Epoch 9/10\n",
      "1719/1719 [==============================] - 5s 3ms/step - loss: 0.5070 - accuracy: 0.8288 - val_loss: 0.4916 - val_accuracy: 0.8380\n",
      "Epoch 10/10\n",
      "1719/1719 [==============================] - 6s 3ms/step - loss: 0.4945 - accuracy: 0.8315 - val_loss: 0.4826 - val_accuracy: 0.8398\n"
     ]
    }
   ],
   "source": [
    "history = model.fit(X_train, y_train, epochs=10,\n",
    "                    validation_data=(X_valid, y_valid))"
   ]
  },
  {
   "cell_type": "code",
   "execution_count": 7,
   "metadata": {
    "colab": {
     "base_uri": "https://localhost:8080/"
    },
    "id": "LAEkMT6r_Gu7",
    "outputId": "5c0a0eb7-1c4e-42c4-c1c2-f6ce93b1a41b"
   },
   "outputs": [
    {
     "data": {
      "text/plain": [
       "0.8398000001907349"
      ]
     },
     "execution_count": 7,
     "metadata": {},
     "output_type": "execute_result"
    }
   ],
   "source": [
    "history.history['val_accuracy'][-1]"
   ]
  },
  {
   "cell_type": "code",
   "execution_count": null,
   "metadata": {
    "id": "9ld4Jz4L_GxV"
   },
   "outputs": [],
   "source": []
  },
  {
   "cell_type": "code",
   "execution_count": 8,
   "metadata": {
    "id": "DmuVDFgj_cr_"
   },
   "outputs": [],
   "source": [
    "model = keras.models.Sequential([\n",
    "    keras.layers.Flatten(input_shape=[28, 28]),\n",
    "    keras.layers.BatchNormalization(),\n",
    "    keras.layers.Dense(300, activation=\"relu\"),\n",
    "    keras.layers.BatchNormalization(),\n",
    "    keras.layers.Dense(100, activation=\"relu\"),\n",
    "    keras.layers.BatchNormalization(),\n",
    "    keras.layers.Dense(10, activation=\"softmax\")\n",
    "])"
   ]
  },
  {
   "cell_type": "code",
   "execution_count": 9,
   "metadata": {
    "id": "aMxIEUDN_cue"
   },
   "outputs": [],
   "source": [
    "model.compile(loss=\"sparse_categorical_crossentropy\",\n",
    "              optimizer=keras.optimizers.SGD(learning_rate=1e-3),\n",
    "              metrics=[\"accuracy\"])"
   ]
  },
  {
   "cell_type": "code",
   "execution_count": 10,
   "metadata": {
    "colab": {
     "base_uri": "https://localhost:8080/"
    },
    "id": "0GJiZLRs_cxF",
    "outputId": "32aad3b1-fed8-4017-9878-ff5c6e145513"
   },
   "outputs": [
    {
     "name": "stdout",
     "output_type": "stream",
     "text": [
      "Epoch 1/10\n",
      "1719/1719 [==============================] - 9s 5ms/step - loss: 0.8293 - accuracy: 0.7221 - val_loss: 0.5539 - val_accuracy: 0.8160\n",
      "Epoch 2/10\n",
      "1719/1719 [==============================] - 8s 5ms/step - loss: 0.5703 - accuracy: 0.8035 - val_loss: 0.4792 - val_accuracy: 0.8378\n",
      "Epoch 3/10\n",
      "1719/1719 [==============================] - 8s 5ms/step - loss: 0.5161 - accuracy: 0.8212 - val_loss: 0.4424 - val_accuracy: 0.8490\n",
      "Epoch 4/10\n",
      "1719/1719 [==============================] - 8s 5ms/step - loss: 0.4789 - accuracy: 0.8315 - val_loss: 0.4212 - val_accuracy: 0.8566\n",
      "Epoch 5/10\n",
      "1719/1719 [==============================] - 8s 5ms/step - loss: 0.4548 - accuracy: 0.8404 - val_loss: 0.4050 - val_accuracy: 0.8610\n",
      "Epoch 6/10\n",
      "1719/1719 [==============================] - 8s 5ms/step - loss: 0.4387 - accuracy: 0.8445 - val_loss: 0.3931 - val_accuracy: 0.8638\n",
      "Epoch 7/10\n",
      "1719/1719 [==============================] - 7s 4ms/step - loss: 0.4254 - accuracy: 0.8504 - val_loss: 0.3829 - val_accuracy: 0.8636\n",
      "Epoch 8/10\n",
      "1719/1719 [==============================] - 8s 4ms/step - loss: 0.4123 - accuracy: 0.8539 - val_loss: 0.3759 - val_accuracy: 0.8668\n",
      "Epoch 9/10\n",
      "1719/1719 [==============================] - 8s 5ms/step - loss: 0.4027 - accuracy: 0.8581 - val_loss: 0.3691 - val_accuracy: 0.8674\n",
      "Epoch 10/10\n",
      "1719/1719 [==============================] - 8s 4ms/step - loss: 0.3925 - accuracy: 0.8613 - val_loss: 0.3629 - val_accuracy: 0.8666\n"
     ]
    }
   ],
   "source": [
    "history = model.fit(X_train, y_train, epochs=10,\n",
    "                    validation_data=(X_valid, y_valid))"
   ]
  },
  {
   "cell_type": "code",
   "execution_count": 11,
   "metadata": {
    "colab": {
     "base_uri": "https://localhost:8080/"
    },
    "id": "qz9vW1L1_czr",
    "outputId": "3611da45-d190-4601-9801-b4e5671afca1"
   },
   "outputs": [
    {
     "data": {
      "text/plain": [
       "0.866599977016449"
      ]
     },
     "execution_count": 11,
     "metadata": {},
     "output_type": "execute_result"
    }
   ],
   "source": [
    "history.history['val_accuracy'][-1]"
   ]
  },
  {
   "cell_type": "code",
   "execution_count": null,
   "metadata": {
    "id": "DH-e7Zg9_c4o"
   },
   "outputs": [],
   "source": []
  },
  {
   "cell_type": "code",
   "execution_count": null,
   "metadata": {
    "id": "Tovu105mq4bn"
   },
   "outputs": [],
   "source": [
    "def split_dataset(X, y):\n",
    "    y_5_or_6 = (y == 5) | (y == 6) # sandals or shirts\n",
    "    y_A = y[~y_5_or_6]\n",
    "    y_A[y_A > 6] -= 2 # class indices 7, 8, 9 should be moved to 5, 6, 7\n",
    "    y_B = (y[y_5_or_6] == 6).astype(np.float32) # binary classification task: is it a shirt (class 6)?\n",
    "    return ((X[~y_5_or_6], y_A),\n",
    "            (X[y_5_or_6], y_B))\n",
    "\n",
    "(X_train_A, y_train_A), (X_train_B, y_train_B) = split_dataset(X_train, y_train)\n",
    "(X_valid_A, y_valid_A), (X_valid_B, y_valid_B) = split_dataset(X_valid, y_valid)\n",
    "(X_test_A, y_test_A), (X_test_B, y_test_B) = split_dataset(X_test, y_test)\n",
    "X_train_B = X_train_B[:200]\n",
    "y_train_B = y_train_B[:200]"
   ]
  },
  {
   "cell_type": "code",
   "execution_count": null,
   "metadata": {
    "id": "QbyK0QIMq4d7"
   },
   "outputs": [],
   "source": [
    "model_A = keras.models.Sequential()\n",
    "model_A.add(keras.layers.Flatten(input_shape=[28, 28]))\n",
    "for n_hidden in (300, 100, 50, 50, 50):\n",
    "    model_A.add(keras.layers.Dense(n_hidden, activation=\"selu\"))\n",
    "model_A.add(keras.layers.Dense(8, activation=\"softmax\"))"
   ]
  },
  {
   "cell_type": "code",
   "execution_count": null,
   "metadata": {
    "id": "7aeeGUt5q4gR"
   },
   "outputs": [],
   "source": [
    "model_A.compile(loss=\"sparse_categorical_crossentropy\",\n",
    "                optimizer=keras.optimizers.SGD(learning_rate=1e-3),\n",
    "                metrics=[\"accuracy\"])"
   ]
  },
  {
   "cell_type": "code",
   "execution_count": null,
   "metadata": {
    "colab": {
     "base_uri": "https://localhost:8080/"
    },
    "id": "5xjoE3YCq4io",
    "outputId": "c8fb0499-cf23-49e6-f10e-770df9ef7e5d"
   },
   "outputs": [
    {
     "name": "stdout",
     "output_type": "stream",
     "text": [
      "Epoch 1/20\n",
      "1375/1375 [==============================] - 7s 4ms/step - loss: 0.5905 - accuracy: 0.8074 - val_loss: 0.3892 - val_accuracy: 0.8655\n",
      "Epoch 2/20\n",
      "1375/1375 [==============================] - 6s 4ms/step - loss: 0.3533 - accuracy: 0.8780 - val_loss: 0.3319 - val_accuracy: 0.8864\n",
      "Epoch 3/20\n",
      "1375/1375 [==============================] - 6s 5ms/step - loss: 0.3166 - accuracy: 0.8895 - val_loss: 0.3072 - val_accuracy: 0.8951\n",
      "Epoch 4/20\n",
      "1375/1375 [==============================] - 6s 4ms/step - loss: 0.2962 - accuracy: 0.8977 - val_loss: 0.2894 - val_accuracy: 0.9026\n",
      "Epoch 5/20\n",
      "1375/1375 [==============================] - 6s 4ms/step - loss: 0.2824 - accuracy: 0.9019 - val_loss: 0.2818 - val_accuracy: 0.9061\n",
      "Epoch 6/20\n",
      "1375/1375 [==============================] - 6s 4ms/step - loss: 0.2723 - accuracy: 0.9065 - val_loss: 0.2748 - val_accuracy: 0.9036\n",
      "Epoch 7/20\n",
      "1375/1375 [==============================] - 6s 4ms/step - loss: 0.2644 - accuracy: 0.9096 - val_loss: 0.2658 - val_accuracy: 0.9128\n",
      "Epoch 8/20\n",
      "1375/1375 [==============================] - 6s 4ms/step - loss: 0.2580 - accuracy: 0.9110 - val_loss: 0.2678 - val_accuracy: 0.9103\n",
      "Epoch 9/20\n",
      "1375/1375 [==============================] - 6s 4ms/step - loss: 0.2524 - accuracy: 0.9143 - val_loss: 0.2636 - val_accuracy: 0.9111\n",
      "Epoch 10/20\n",
      "1375/1375 [==============================] - 7s 5ms/step - loss: 0.2474 - accuracy: 0.9146 - val_loss: 0.2605 - val_accuracy: 0.9118\n",
      "Epoch 11/20\n",
      "1375/1375 [==============================] - 6s 4ms/step - loss: 0.2424 - accuracy: 0.9167 - val_loss: 0.2553 - val_accuracy: 0.9150\n",
      "Epoch 12/20\n",
      "1375/1375 [==============================] - 5s 4ms/step - loss: 0.2388 - accuracy: 0.9178 - val_loss: 0.2565 - val_accuracy: 0.9136\n",
      "Epoch 13/20\n",
      "1375/1375 [==============================] - 5s 4ms/step - loss: 0.2351 - accuracy: 0.9192 - val_loss: 0.2474 - val_accuracy: 0.9155\n",
      "Epoch 14/20\n",
      "1375/1375 [==============================] - 5s 4ms/step - loss: 0.2321 - accuracy: 0.9201 - val_loss: 0.2460 - val_accuracy: 0.9160\n",
      "Epoch 15/20\n",
      "1375/1375 [==============================] - 6s 4ms/step - loss: 0.2287 - accuracy: 0.9212 - val_loss: 0.2448 - val_accuracy: 0.9148\n",
      "Epoch 16/20\n",
      "1375/1375 [==============================] - 5s 4ms/step - loss: 0.2262 - accuracy: 0.9220 - val_loss: 0.2468 - val_accuracy: 0.9163\n",
      "Epoch 17/20\n",
      "1375/1375 [==============================] - 5s 4ms/step - loss: 0.2232 - accuracy: 0.9237 - val_loss: 0.2443 - val_accuracy: 0.9155\n",
      "Epoch 18/20\n",
      "1375/1375 [==============================] - 5s 4ms/step - loss: 0.2208 - accuracy: 0.9236 - val_loss: 0.2413 - val_accuracy: 0.9148\n",
      "Epoch 19/20\n",
      "1375/1375 [==============================] - 6s 4ms/step - loss: 0.2181 - accuracy: 0.9242 - val_loss: 0.2423 - val_accuracy: 0.9136\n",
      "Epoch 20/20\n",
      "1375/1375 [==============================] - 5s 4ms/step - loss: 0.2159 - accuracy: 0.9254 - val_loss: 0.2384 - val_accuracy: 0.9170\n"
     ]
    }
   ],
   "source": [
    "history = model_A.fit(X_train_A, y_train_A, epochs=20,\n",
    "                    validation_data=(X_valid_A, y_valid_A))"
   ]
  },
  {
   "cell_type": "code",
   "execution_count": null,
   "metadata": {
    "id": "H-m3nyDuq4k8"
   },
   "outputs": [],
   "source": [
    "model_A.save(\"my_model_A.h5\")"
   ]
  },
  {
   "cell_type": "code",
   "execution_count": null,
   "metadata": {
    "id": "kbloBg-rq4ni"
   },
   "outputs": [],
   "source": [
    "model_B = keras.models.Sequential()\n",
    "model_B.add(keras.layers.Flatten(input_shape=[28, 28]))\n",
    "for n_hidden in (300, 100, 50, 50, 50):\n",
    "    model_B.add(keras.layers.Dense(n_hidden, activation=\"selu\"))\n",
    "model_B.add(keras.layers.Dense(1, activation=\"sigmoid\"))"
   ]
  },
  {
   "cell_type": "code",
   "execution_count": null,
   "metadata": {
    "id": "AoezTB3Iq4p5"
   },
   "outputs": [],
   "source": [
    "model_B.compile(loss=\"binary_crossentropy\",\n",
    "                optimizer=keras.optimizers.SGD(learning_rate=1e-3),\n",
    "                metrics=[\"accuracy\"])"
   ]
  },
  {
   "cell_type": "code",
   "execution_count": null,
   "metadata": {
    "colab": {
     "base_uri": "https://localhost:8080/"
    },
    "id": "tRwgSa9Yq4uU",
    "outputId": "97892fe8-7dae-422d-f013-6d87d01e93c4"
   },
   "outputs": [
    {
     "name": "stdout",
     "output_type": "stream",
     "text": [
      "Epoch 1/20\n",
      "7/7 [==============================] - 1s 45ms/step - loss: 0.5100 - accuracy: 0.7800 - val_loss: 0.4588 - val_accuracy: 0.8134\n",
      "Epoch 2/20\n",
      "7/7 [==============================] - 0s 18ms/step - loss: 0.3930 - accuracy: 0.8600 - val_loss: 0.3766 - val_accuracy: 0.8803\n",
      "Epoch 3/20\n",
      "7/7 [==============================] - 0s 15ms/step - loss: 0.3175 - accuracy: 0.9050 - val_loss: 0.3149 - val_accuracy: 0.9178\n",
      "Epoch 4/20\n",
      "7/7 [==============================] - 0s 19ms/step - loss: 0.2616 - accuracy: 0.9500 - val_loss: 0.2724 - val_accuracy: 0.9351\n",
      "Epoch 5/20\n",
      "7/7 [==============================] - 0s 18ms/step - loss: 0.2221 - accuracy: 0.9700 - val_loss: 0.2427 - val_accuracy: 0.9442\n",
      "Epoch 6/20\n",
      "7/7 [==============================] - 0s 17ms/step - loss: 0.1953 - accuracy: 0.9800 - val_loss: 0.2186 - val_accuracy: 0.9523\n",
      "Epoch 7/20\n",
      "7/7 [==============================] - 0s 20ms/step - loss: 0.1721 - accuracy: 0.9800 - val_loss: 0.2006 - val_accuracy: 0.9584\n",
      "Epoch 8/20\n",
      "7/7 [==============================] - 0s 17ms/step - loss: 0.1556 - accuracy: 0.9900 - val_loss: 0.1861 - val_accuracy: 0.9625\n",
      "Epoch 9/20\n",
      "7/7 [==============================] - 0s 17ms/step - loss: 0.1413 - accuracy: 0.9950 - val_loss: 0.1727 - val_accuracy: 0.9655\n",
      "Epoch 10/20\n",
      "7/7 [==============================] - 0s 16ms/step - loss: 0.1289 - accuracy: 0.9950 - val_loss: 0.1616 - val_accuracy: 0.9675\n",
      "Epoch 11/20\n",
      "7/7 [==============================] - 0s 21ms/step - loss: 0.1186 - accuracy: 1.0000 - val_loss: 0.1517 - val_accuracy: 0.9716\n",
      "Epoch 12/20\n",
      "7/7 [==============================] - 0s 18ms/step - loss: 0.1097 - accuracy: 1.0000 - val_loss: 0.1439 - val_accuracy: 0.9746\n",
      "Epoch 13/20\n",
      "7/7 [==============================] - 0s 19ms/step - loss: 0.1020 - accuracy: 1.0000 - val_loss: 0.1370 - val_accuracy: 0.9757\n",
      "Epoch 14/20\n",
      "7/7 [==============================] - 0s 20ms/step - loss: 0.0957 - accuracy: 1.0000 - val_loss: 0.1307 - val_accuracy: 0.9757\n",
      "Epoch 15/20\n",
      "7/7 [==============================] - 0s 22ms/step - loss: 0.0897 - accuracy: 1.0000 - val_loss: 0.1251 - val_accuracy: 0.9757\n",
      "Epoch 16/20\n",
      "7/7 [==============================] - 0s 32ms/step - loss: 0.0845 - accuracy: 1.0000 - val_loss: 0.1202 - val_accuracy: 0.9777\n",
      "Epoch 17/20\n",
      "7/7 [==============================] - 0s 18ms/step - loss: 0.0798 - accuracy: 1.0000 - val_loss: 0.1166 - val_accuracy: 0.9787\n",
      "Epoch 18/20\n",
      "7/7 [==============================] - 0s 19ms/step - loss: 0.0758 - accuracy: 1.0000 - val_loss: 0.1124 - val_accuracy: 0.9797\n",
      "Epoch 19/20\n",
      "7/7 [==============================] - 0s 18ms/step - loss: 0.0720 - accuracy: 1.0000 - val_loss: 0.1087 - val_accuracy: 0.9787\n",
      "Epoch 20/20\n",
      "7/7 [==============================] - 0s 19ms/step - loss: 0.0686 - accuracy: 1.0000 - val_loss: 0.1052 - val_accuracy: 0.9787\n"
     ]
    }
   ],
   "source": [
    "history = model_B.fit(X_train_B, y_train_B, epochs=20,\n",
    "                      validation_data=(X_valid_B, y_valid_B))"
   ]
  },
  {
   "cell_type": "code",
   "execution_count": null,
   "metadata": {
    "id": "DLFjFhJUre_1"
   },
   "outputs": [],
   "source": []
  },
  {
   "cell_type": "code",
   "execution_count": null,
   "metadata": {
    "id": "J7_wfPO2rfCY"
   },
   "outputs": [],
   "source": [
    "model_A = keras.models.load_model(\"my_model_A.h5\")\n",
    "model_B_on_A = keras.models.Sequential(model_A.layers[:-1])\n",
    "model_B_on_A.add(keras.layers.Dense(1, activation=\"sigmoid\"))"
   ]
  },
  {
   "cell_type": "code",
   "execution_count": null,
   "metadata": {
    "id": "atZp4fYbrfFQ"
   },
   "outputs": [],
   "source": [
    "model_A_clone = keras.models.clone_model(model_A)\n",
    "model_A_clone.set_weights(model_A.get_weights())"
   ]
  },
  {
   "cell_type": "code",
   "execution_count": null,
   "metadata": {
    "id": "lPCwMzuZrfHm"
   },
   "outputs": [],
   "source": [
    "for layer in model_B_on_A.layers[:-1]:\n",
    "    layer.trainable = False\n",
    "\n",
    "model_B_on_A.compile(loss=\"binary_crossentropy\",\n",
    "                     optimizer=keras.optimizers.SGD(learning_rate=1e-3),\n",
    "                     metrics=[\"accuracy\"])"
   ]
  },
  {
   "cell_type": "code",
   "execution_count": null,
   "metadata": {
    "colab": {
     "base_uri": "https://localhost:8080/"
    },
    "id": "MmbjDdsvrfJ9",
    "outputId": "001b7655-e5ee-45da-8a28-d2ae2492812d"
   },
   "outputs": [
    {
     "name": "stdout",
     "output_type": "stream",
     "text": [
      "Epoch 1/4\n",
      "7/7 [==============================] - 1s 43ms/step - loss: 1.0516 - accuracy: 0.2750 - val_loss: 0.9521 - val_accuracy: 0.3458\n",
      "Epoch 2/4\n",
      "7/7 [==============================] - 0s 17ms/step - loss: 0.9510 - accuracy: 0.3550 - val_loss: 0.8633 - val_accuracy: 0.4138\n",
      "Epoch 3/4\n",
      "7/7 [==============================] - 0s 16ms/step - loss: 0.8618 - accuracy: 0.4250 - val_loss: 0.7837 - val_accuracy: 0.4767\n",
      "Epoch 4/4\n",
      "7/7 [==============================] - 0s 14ms/step - loss: 0.7819 - accuracy: 0.5300 - val_loss: 0.7140 - val_accuracy: 0.5538\n",
      "Epoch 1/16\n",
      "7/7 [==============================] - 1s 43ms/step - loss: 0.5642 - accuracy: 0.7550 - val_loss: 0.3994 - val_accuracy: 0.8509\n",
      "Epoch 2/16\n",
      "7/7 [==============================] - 0s 17ms/step - loss: 0.3407 - accuracy: 0.8850 - val_loss: 0.2825 - val_accuracy: 0.9290\n",
      "Epoch 3/16\n",
      "7/7 [==============================] - 0s 18ms/step - loss: 0.2434 - accuracy: 0.9400 - val_loss: 0.2180 - val_accuracy: 0.9584\n",
      "Epoch 4/16\n",
      "7/7 [==============================] - 0s 19ms/step - loss: 0.1885 - accuracy: 0.9650 - val_loss: 0.1794 - val_accuracy: 0.9675\n",
      "Epoch 5/16\n",
      "7/7 [==============================] - 0s 17ms/step - loss: 0.1544 - accuracy: 0.9750 - val_loss: 0.1533 - val_accuracy: 0.9746\n",
      "Epoch 6/16\n",
      "7/7 [==============================] - 0s 17ms/step - loss: 0.1312 - accuracy: 0.9750 - val_loss: 0.1358 - val_accuracy: 0.9767\n",
      "Epoch 7/16\n",
      "7/7 [==============================] - 0s 19ms/step - loss: 0.1154 - accuracy: 0.9800 - val_loss: 0.1224 - val_accuracy: 0.9807\n",
      "Epoch 8/16\n",
      "7/7 [==============================] - 0s 19ms/step - loss: 0.1030 - accuracy: 0.9800 - val_loss: 0.1113 - val_accuracy: 0.9817\n",
      "Epoch 9/16\n",
      "7/7 [==============================] - 0s 17ms/step - loss: 0.0930 - accuracy: 0.9900 - val_loss: 0.1027 - val_accuracy: 0.9828\n",
      "Epoch 10/16\n",
      "7/7 [==============================] - 0s 16ms/step - loss: 0.0852 - accuracy: 0.9900 - val_loss: 0.0956 - val_accuracy: 0.9838\n",
      "Epoch 11/16\n",
      "7/7 [==============================] - 0s 19ms/step - loss: 0.0785 - accuracy: 0.9900 - val_loss: 0.0898 - val_accuracy: 0.9848\n",
      "Epoch 12/16\n",
      "7/7 [==============================] - 0s 32ms/step - loss: 0.0732 - accuracy: 0.9900 - val_loss: 0.0845 - val_accuracy: 0.9868\n",
      "Epoch 13/16\n",
      "7/7 [==============================] - 0s 19ms/step - loss: 0.0683 - accuracy: 0.9900 - val_loss: 0.0802 - val_accuracy: 0.9868\n",
      "Epoch 14/16\n",
      "7/7 [==============================] - 0s 18ms/step - loss: 0.0642 - accuracy: 0.9900 - val_loss: 0.0762 - val_accuracy: 0.9868\n",
      "Epoch 15/16\n",
      "7/7 [==============================] - 0s 18ms/step - loss: 0.0605 - accuracy: 0.9900 - val_loss: 0.0728 - val_accuracy: 0.9868\n",
      "Epoch 16/16\n",
      "7/7 [==============================] - 0s 20ms/step - loss: 0.0574 - accuracy: 0.9900 - val_loss: 0.0698 - val_accuracy: 0.9878\n"
     ]
    }
   ],
   "source": [
    "history = model_B_on_A.fit(X_train_B, y_train_B, epochs=4,\n",
    "                           validation_data=(X_valid_B, y_valid_B))\n",
    "\n",
    "for layer in model_B_on_A.layers[:-1]:\n",
    "    layer.trainable = True\n",
    "\n",
    "model_B_on_A.compile(loss=\"binary_crossentropy\",\n",
    "                     optimizer=keras.optimizers.SGD(learning_rate=1e-3),\n",
    "                     metrics=[\"accuracy\"])\n",
    "history = model_B_on_A.fit(X_train_B, y_train_B, epochs=16,\n",
    "                           validation_data=(X_valid_B, y_valid_B))"
   ]
  },
  {
   "cell_type": "code",
   "execution_count": null,
   "metadata": {
    "colab": {
     "base_uri": "https://localhost:8080/"
    },
    "id": "0OAqS8W_rfMT",
    "outputId": "5f9643ed-9d99-431d-ffae-e3dc229531e2"
   },
   "outputs": [
    {
     "name": "stdout",
     "output_type": "stream",
     "text": [
      "63/63 [==============================] - 0s 2ms/step - loss: 0.0669 - accuracy: 0.9950\n"
     ]
    },
    {
     "data": {
      "text/plain": [
       "[0.06687863171100616, 0.9950000047683716]"
      ]
     },
     "execution_count": 21,
     "metadata": {},
     "output_type": "execute_result"
    }
   ],
   "source": [
    "model_B_on_A.evaluate(X_test_B, y_test_B)"
   ]
  },
  {
   "cell_type": "markdown",
   "metadata": {
    "id": "BXffXLgAsUBK"
   },
   "source": [
    "Accuracy : 0.9950"
   ]
  },
  {
   "cell_type": "code",
   "execution_count": null,
   "metadata": {
    "id": "KwCrPF8TshYB"
   },
   "outputs": [],
   "source": []
  },
  {
   "cell_type": "code",
   "execution_count": null,
   "metadata": {
    "id": "h1xZa5kysjAt"
   },
   "outputs": [],
   "source": []
  },
  {
   "cell_type": "code",
   "execution_count": null,
   "metadata": {
    "colab": {
     "base_uri": "https://localhost:8080/"
    },
    "id": "BU2i0wQxsjC-",
    "outputId": "11effcdd-815c-4ddb-9927-e3150b87f724"
   },
   "outputs": [
    {
     "name": "stdout",
     "output_type": "stream",
     "text": [
      "Epoch 1/10\n",
      "7/7 [==============================] - 0s 23ms/step - loss: 0.0546 - accuracy: 0.9900 - val_loss: 0.0670 - val_accuracy: 0.9888\n",
      "Epoch 2/10\n",
      "7/7 [==============================] - 0s 34ms/step - loss: 0.0519 - accuracy: 0.9900 - val_loss: 0.0645 - val_accuracy: 0.9888\n",
      "Epoch 3/10\n",
      "7/7 [==============================] - 0s 16ms/step - loss: 0.0495 - accuracy: 0.9900 - val_loss: 0.0623 - val_accuracy: 0.9888\n",
      "Epoch 4/10\n",
      "7/7 [==============================] - 0s 31ms/step - loss: 0.0474 - accuracy: 0.9900 - val_loss: 0.0604 - val_accuracy: 0.9888\n",
      "Epoch 5/10\n",
      "7/7 [==============================] - 0s 18ms/step - loss: 0.0455 - accuracy: 0.9900 - val_loss: 0.0585 - val_accuracy: 0.9888\n",
      "Epoch 6/10\n",
      "7/7 [==============================] - 0s 17ms/step - loss: 0.0438 - accuracy: 0.9900 - val_loss: 0.0567 - val_accuracy: 0.9888\n",
      "Epoch 7/10\n",
      "7/7 [==============================] - 0s 32ms/step - loss: 0.0421 - accuracy: 0.9950 - val_loss: 0.0551 - val_accuracy: 0.9888\n",
      "Epoch 8/10\n",
      "7/7 [==============================] - 0s 32ms/step - loss: 0.0405 - accuracy: 0.9950 - val_loss: 0.0536 - val_accuracy: 0.9888\n",
      "Epoch 9/10\n",
      "7/7 [==============================] - 0s 18ms/step - loss: 0.0390 - accuracy: 0.9950 - val_loss: 0.0522 - val_accuracy: 0.9888\n",
      "Epoch 10/10\n",
      "7/7 [==============================] - 0s 18ms/step - loss: 0.0376 - accuracy: 0.9950 - val_loss: 0.0509 - val_accuracy: 0.9888\n",
      "Epoch 1/26\n",
      "7/7 [==============================] - 1s 47ms/step - loss: 0.0364 - accuracy: 0.9950 - val_loss: 0.0497 - val_accuracy: 0.9888\n",
      "Epoch 2/26\n",
      "7/7 [==============================] - 0s 32ms/step - loss: 0.0352 - accuracy: 0.9950 - val_loss: 0.0487 - val_accuracy: 0.9888\n",
      "Epoch 3/26\n",
      "7/7 [==============================] - 0s 20ms/step - loss: 0.0341 - accuracy: 0.9950 - val_loss: 0.0476 - val_accuracy: 0.9888\n",
      "Epoch 4/26\n",
      "7/7 [==============================] - 0s 19ms/step - loss: 0.0331 - accuracy: 0.9950 - val_loss: 0.0466 - val_accuracy: 0.9888\n",
      "Epoch 5/26\n",
      "7/7 [==============================] - 0s 33ms/step - loss: 0.0321 - accuracy: 0.9950 - val_loss: 0.0457 - val_accuracy: 0.9888\n",
      "Epoch 6/26\n",
      "7/7 [==============================] - 0s 19ms/step - loss: 0.0311 - accuracy: 0.9950 - val_loss: 0.0448 - val_accuracy: 0.9888\n",
      "Epoch 7/26\n",
      "7/7 [==============================] - 0s 18ms/step - loss: 0.0303 - accuracy: 0.9950 - val_loss: 0.0442 - val_accuracy: 0.9888\n",
      "Epoch 8/26\n",
      "7/7 [==============================] - 0s 25ms/step - loss: 0.0294 - accuracy: 1.0000 - val_loss: 0.0434 - val_accuracy: 0.9888\n",
      "Epoch 9/26\n",
      "7/7 [==============================] - 0s 21ms/step - loss: 0.0286 - accuracy: 1.0000 - val_loss: 0.0426 - val_accuracy: 0.9888\n",
      "Epoch 10/26\n",
      "7/7 [==============================] - 0s 17ms/step - loss: 0.0278 - accuracy: 1.0000 - val_loss: 0.0419 - val_accuracy: 0.9888\n",
      "Epoch 11/26\n",
      "7/7 [==============================] - 0s 18ms/step - loss: 0.0272 - accuracy: 1.0000 - val_loss: 0.0412 - val_accuracy: 0.9888\n",
      "Epoch 12/26\n",
      "7/7 [==============================] - 0s 17ms/step - loss: 0.0265 - accuracy: 1.0000 - val_loss: 0.0406 - val_accuracy: 0.9888\n",
      "Epoch 13/26\n",
      "7/7 [==============================] - 0s 19ms/step - loss: 0.0259 - accuracy: 1.0000 - val_loss: 0.0401 - val_accuracy: 0.9888\n",
      "Epoch 14/26\n",
      "7/7 [==============================] - 0s 17ms/step - loss: 0.0254 - accuracy: 1.0000 - val_loss: 0.0395 - val_accuracy: 0.9899\n",
      "Epoch 15/26\n",
      "7/7 [==============================] - 0s 18ms/step - loss: 0.0248 - accuracy: 1.0000 - val_loss: 0.0390 - val_accuracy: 0.9899\n",
      "Epoch 16/26\n",
      "7/7 [==============================] - 0s 17ms/step - loss: 0.0243 - accuracy: 1.0000 - val_loss: 0.0385 - val_accuracy: 0.9899\n",
      "Epoch 17/26\n",
      "7/7 [==============================] - 0s 17ms/step - loss: 0.0238 - accuracy: 1.0000 - val_loss: 0.0380 - val_accuracy: 0.9899\n",
      "Epoch 18/26\n",
      "7/7 [==============================] - 0s 18ms/step - loss: 0.0233 - accuracy: 1.0000 - val_loss: 0.0376 - val_accuracy: 0.9899\n",
      "Epoch 19/26\n",
      "7/7 [==============================] - 0s 18ms/step - loss: 0.0228 - accuracy: 1.0000 - val_loss: 0.0373 - val_accuracy: 0.9888\n",
      "Epoch 20/26\n",
      "7/7 [==============================] - 0s 17ms/step - loss: 0.0223 - accuracy: 1.0000 - val_loss: 0.0368 - val_accuracy: 0.9899\n",
      "Epoch 21/26\n",
      "7/7 [==============================] - 0s 31ms/step - loss: 0.0219 - accuracy: 1.0000 - val_loss: 0.0364 - val_accuracy: 0.9888\n",
      "Epoch 22/26\n",
      "7/7 [==============================] - 0s 30ms/step - loss: 0.0214 - accuracy: 1.0000 - val_loss: 0.0361 - val_accuracy: 0.9888\n",
      "Epoch 23/26\n",
      "7/7 [==============================] - 0s 18ms/step - loss: 0.0210 - accuracy: 1.0000 - val_loss: 0.0357 - val_accuracy: 0.9899\n",
      "Epoch 24/26\n",
      "7/7 [==============================] - 0s 16ms/step - loss: 0.0206 - accuracy: 1.0000 - val_loss: 0.0355 - val_accuracy: 0.9888\n",
      "Epoch 25/26\n",
      "7/7 [==============================] - 0s 18ms/step - loss: 0.0202 - accuracy: 1.0000 - val_loss: 0.0351 - val_accuracy: 0.9899\n",
      "Epoch 26/26\n",
      "7/7 [==============================] - 0s 32ms/step - loss: 0.0198 - accuracy: 1.0000 - val_loss: 0.0347 - val_accuracy: 0.9899\n"
     ]
    }
   ],
   "source": [
    "history = model_B_on_A.fit(X_train_B, y_train_B, epochs=10,\n",
    "                           validation_data=(X_valid_B, y_valid_B))\n",
    "\n",
    "for layer in model_B_on_A.layers[:-1]:\n",
    "    layer.trainable = True\n",
    "\n",
    "model_B_on_A.compile(loss=\"binary_crossentropy\",\n",
    "                     optimizer=keras.optimizers.SGD(learning_rate=1e-3),\n",
    "                     metrics=[\"accuracy\"])\n",
    "history = model_B_on_A.fit(X_train_B, y_train_B, epochs=26,\n",
    "                           validation_data=(X_valid_B, y_valid_B))"
   ]
  },
  {
   "cell_type": "code",
   "execution_count": null,
   "metadata": {
    "colab": {
     "base_uri": "https://localhost:8080/"
    },
    "id": "N9UrlUD0sjFh",
    "outputId": "838cc599-54eb-4bd6-f9f7-756f628a9269"
   },
   "outputs": [
    {
     "name": "stdout",
     "output_type": "stream",
     "text": [
      "63/63 [==============================] - 0s 2ms/step - loss: 0.0283 - accuracy: 0.9975\n"
     ]
    },
    {
     "data": {
      "text/plain": [
       "[0.028272384777665138, 0.9975000023841858]"
      ]
     },
     "execution_count": 23,
     "metadata": {},
     "output_type": "execute_result"
    }
   ],
   "source": [
    "model_B_on_A.evaluate(X_test_B, y_test_B)"
   ]
  },
  {
   "cell_type": "markdown",
   "metadata": {
    "id": "sFuSEvqJuBi_"
   },
   "source": [
    "Accuracy : .9975"
   ]
  },
  {
   "cell_type": "code",
   "execution_count": null,
   "metadata": {
    "id": "TB3irKcMsjH8"
   },
   "outputs": [],
   "source": []
  },
  {
   "cell_type": "code",
   "execution_count": null,
   "metadata": {
    "colab": {
     "base_uri": "https://localhost:8080/"
    },
    "id": "LcBoI8KvsjKh",
    "outputId": "37de2c53-98ca-4a96-8f4d-bc73cd156e62"
   },
   "outputs": [
    {
     "name": "stdout",
     "output_type": "stream",
     "text": [
      "Epoch 1/50\n",
      "7/7 [==============================] - 0s 23ms/step - loss: 0.0195 - accuracy: 1.0000 - val_loss: 0.0343 - val_accuracy: 0.9899\n",
      "Epoch 2/50\n",
      "7/7 [==============================] - 0s 20ms/step - loss: 0.0191 - accuracy: 1.0000 - val_loss: 0.0340 - val_accuracy: 0.9899\n",
      "Epoch 3/50\n",
      "7/7 [==============================] - 0s 31ms/step - loss: 0.0188 - accuracy: 1.0000 - val_loss: 0.0337 - val_accuracy: 0.9899\n",
      "Epoch 4/50\n",
      "7/7 [==============================] - 0s 16ms/step - loss: 0.0185 - accuracy: 1.0000 - val_loss: 0.0334 - val_accuracy: 0.9899\n",
      "Epoch 5/50\n",
      "7/7 [==============================] - 0s 18ms/step - loss: 0.0182 - accuracy: 1.0000 - val_loss: 0.0331 - val_accuracy: 0.9899\n",
      "Epoch 6/50\n",
      "7/7 [==============================] - 0s 18ms/step - loss: 0.0179 - accuracy: 1.0000 - val_loss: 0.0329 - val_accuracy: 0.9888\n",
      "Epoch 7/50\n",
      "7/7 [==============================] - 0s 31ms/step - loss: 0.0176 - accuracy: 1.0000 - val_loss: 0.0326 - val_accuracy: 0.9888\n",
      "Epoch 8/50\n",
      "7/7 [==============================] - 0s 17ms/step - loss: 0.0173 - accuracy: 1.0000 - val_loss: 0.0323 - val_accuracy: 0.9888\n",
      "Epoch 9/50\n",
      "7/7 [==============================] - 0s 32ms/step - loss: 0.0170 - accuracy: 1.0000 - val_loss: 0.0321 - val_accuracy: 0.9888\n",
      "Epoch 10/50\n",
      "7/7 [==============================] - 0s 18ms/step - loss: 0.0168 - accuracy: 1.0000 - val_loss: 0.0318 - val_accuracy: 0.9888\n",
      "Epoch 11/50\n",
      "7/7 [==============================] - 0s 16ms/step - loss: 0.0165 - accuracy: 1.0000 - val_loss: 0.0315 - val_accuracy: 0.9899\n",
      "Epoch 12/50\n",
      "7/7 [==============================] - 0s 18ms/step - loss: 0.0162 - accuracy: 1.0000 - val_loss: 0.0313 - val_accuracy: 0.9888\n",
      "Epoch 13/50\n",
      "7/7 [==============================] - 0s 19ms/step - loss: 0.0160 - accuracy: 1.0000 - val_loss: 0.0311 - val_accuracy: 0.9888\n",
      "Epoch 14/50\n",
      "7/7 [==============================] - 0s 16ms/step - loss: 0.0157 - accuracy: 1.0000 - val_loss: 0.0308 - val_accuracy: 0.9888\n",
      "Epoch 15/50\n",
      "7/7 [==============================] - 0s 31ms/step - loss: 0.0155 - accuracy: 1.0000 - val_loss: 0.0305 - val_accuracy: 0.9899\n",
      "Epoch 16/50\n",
      "7/7 [==============================] - 0s 16ms/step - loss: 0.0152 - accuracy: 1.0000 - val_loss: 0.0303 - val_accuracy: 0.9899\n",
      "Epoch 17/50\n",
      "7/7 [==============================] - 0s 17ms/step - loss: 0.0150 - accuracy: 1.0000 - val_loss: 0.0301 - val_accuracy: 0.9899\n",
      "Epoch 18/50\n",
      "7/7 [==============================] - 0s 17ms/step - loss: 0.0148 - accuracy: 1.0000 - val_loss: 0.0299 - val_accuracy: 0.9899\n",
      "Epoch 19/50\n",
      "7/7 [==============================] - 0s 30ms/step - loss: 0.0146 - accuracy: 1.0000 - val_loss: 0.0297 - val_accuracy: 0.9899\n",
      "Epoch 20/50\n",
      "7/7 [==============================] - 0s 17ms/step - loss: 0.0143 - accuracy: 1.0000 - val_loss: 0.0295 - val_accuracy: 0.9899\n",
      "Epoch 21/50\n",
      "7/7 [==============================] - 0s 16ms/step - loss: 0.0142 - accuracy: 1.0000 - val_loss: 0.0294 - val_accuracy: 0.9899\n",
      "Epoch 22/50\n",
      "7/7 [==============================] - 0s 30ms/step - loss: 0.0140 - accuracy: 1.0000 - val_loss: 0.0292 - val_accuracy: 0.9899\n",
      "Epoch 23/50\n",
      "7/7 [==============================] - 0s 16ms/step - loss: 0.0138 - accuracy: 1.0000 - val_loss: 0.0290 - val_accuracy: 0.9899\n",
      "Epoch 24/50\n",
      "7/7 [==============================] - 0s 18ms/step - loss: 0.0136 - accuracy: 1.0000 - val_loss: 0.0288 - val_accuracy: 0.9899\n",
      "Epoch 25/50\n",
      "7/7 [==============================] - 0s 17ms/step - loss: 0.0134 - accuracy: 1.0000 - val_loss: 0.0287 - val_accuracy: 0.9888\n",
      "Epoch 26/50\n",
      "7/7 [==============================] - 0s 31ms/step - loss: 0.0132 - accuracy: 1.0000 - val_loss: 0.0285 - val_accuracy: 0.9899\n",
      "Epoch 27/50\n",
      "7/7 [==============================] - 0s 16ms/step - loss: 0.0131 - accuracy: 1.0000 - val_loss: 0.0284 - val_accuracy: 0.9888\n",
      "Epoch 28/50\n",
      "7/7 [==============================] - 0s 17ms/step - loss: 0.0129 - accuracy: 1.0000 - val_loss: 0.0283 - val_accuracy: 0.9888\n",
      "Epoch 29/50\n",
      "7/7 [==============================] - 0s 18ms/step - loss: 0.0127 - accuracy: 1.0000 - val_loss: 0.0281 - val_accuracy: 0.9888\n",
      "Epoch 30/50\n",
      "7/7 [==============================] - 0s 32ms/step - loss: 0.0126 - accuracy: 1.0000 - val_loss: 0.0279 - val_accuracy: 0.9899\n",
      "Epoch 31/50\n",
      "7/7 [==============================] - 0s 18ms/step - loss: 0.0124 - accuracy: 1.0000 - val_loss: 0.0278 - val_accuracy: 0.9899\n",
      "Epoch 32/50\n",
      "7/7 [==============================] - 0s 19ms/step - loss: 0.0123 - accuracy: 1.0000 - val_loss: 0.0277 - val_accuracy: 0.9899\n",
      "Epoch 33/50\n",
      "7/7 [==============================] - 0s 18ms/step - loss: 0.0121 - accuracy: 1.0000 - val_loss: 0.0276 - val_accuracy: 0.9899\n",
      "Epoch 34/50\n",
      "7/7 [==============================] - 0s 18ms/step - loss: 0.0120 - accuracy: 1.0000 - val_loss: 0.0274 - val_accuracy: 0.9899\n",
      "Epoch 35/50\n",
      "7/7 [==============================] - 0s 18ms/step - loss: 0.0119 - accuracy: 1.0000 - val_loss: 0.0273 - val_accuracy: 0.9899\n",
      "Epoch 36/50\n",
      "7/7 [==============================] - 0s 20ms/step - loss: 0.0117 - accuracy: 1.0000 - val_loss: 0.0272 - val_accuracy: 0.9899\n",
      "Epoch 37/50\n",
      "7/7 [==============================] - 0s 18ms/step - loss: 0.0116 - accuracy: 1.0000 - val_loss: 0.0271 - val_accuracy: 0.9899\n",
      "Epoch 38/50\n",
      "7/7 [==============================] - 0s 18ms/step - loss: 0.0115 - accuracy: 1.0000 - val_loss: 0.0270 - val_accuracy: 0.9899\n",
      "Epoch 39/50\n",
      "7/7 [==============================] - 0s 19ms/step - loss: 0.0113 - accuracy: 1.0000 - val_loss: 0.0269 - val_accuracy: 0.9899\n",
      "Epoch 40/50\n",
      "7/7 [==============================] - 0s 17ms/step - loss: 0.0112 - accuracy: 1.0000 - val_loss: 0.0268 - val_accuracy: 0.9899\n",
      "Epoch 41/50\n",
      "7/7 [==============================] - 0s 17ms/step - loss: 0.0111 - accuracy: 1.0000 - val_loss: 0.0266 - val_accuracy: 0.9899\n",
      "Epoch 42/50\n",
      "7/7 [==============================] - 0s 16ms/step - loss: 0.0110 - accuracy: 1.0000 - val_loss: 0.0266 - val_accuracy: 0.9899\n",
      "Epoch 43/50\n",
      "7/7 [==============================] - 0s 18ms/step - loss: 0.0109 - accuracy: 1.0000 - val_loss: 0.0264 - val_accuracy: 0.9899\n",
      "Epoch 44/50\n",
      "7/7 [==============================] - 0s 17ms/step - loss: 0.0108 - accuracy: 1.0000 - val_loss: 0.0263 - val_accuracy: 0.9899\n",
      "Epoch 45/50\n",
      "7/7 [==============================] - 0s 17ms/step - loss: 0.0106 - accuracy: 1.0000 - val_loss: 0.0262 - val_accuracy: 0.9899\n",
      "Epoch 46/50\n",
      "7/7 [==============================] - 0s 19ms/step - loss: 0.0105 - accuracy: 1.0000 - val_loss: 0.0261 - val_accuracy: 0.9899\n",
      "Epoch 47/50\n",
      "7/7 [==============================] - 0s 16ms/step - loss: 0.0104 - accuracy: 1.0000 - val_loss: 0.0260 - val_accuracy: 0.9899\n",
      "Epoch 48/50\n",
      "7/7 [==============================] - 0s 18ms/step - loss: 0.0103 - accuracy: 1.0000 - val_loss: 0.0259 - val_accuracy: 0.9899\n",
      "Epoch 49/50\n",
      "7/7 [==============================] - 0s 19ms/step - loss: 0.0102 - accuracy: 1.0000 - val_loss: 0.0258 - val_accuracy: 0.9899\n",
      "Epoch 50/50\n",
      "7/7 [==============================] - 0s 18ms/step - loss: 0.0101 - accuracy: 1.0000 - val_loss: 0.0258 - val_accuracy: 0.9899\n",
      "Epoch 1/70\n",
      "7/7 [==============================] - 1s 45ms/step - loss: 0.0100 - accuracy: 1.0000 - val_loss: 0.0257 - val_accuracy: 0.9899\n",
      "Epoch 2/70\n",
      "7/7 [==============================] - 0s 17ms/step - loss: 0.0099 - accuracy: 1.0000 - val_loss: 0.0256 - val_accuracy: 0.9899\n",
      "Epoch 3/70\n",
      "7/7 [==============================] - 0s 16ms/step - loss: 0.0098 - accuracy: 1.0000 - val_loss: 0.0256 - val_accuracy: 0.9899\n",
      "Epoch 4/70\n",
      "7/7 [==============================] - 0s 17ms/step - loss: 0.0097 - accuracy: 1.0000 - val_loss: 0.0255 - val_accuracy: 0.9899\n",
      "Epoch 5/70\n",
      "7/7 [==============================] - 0s 17ms/step - loss: 0.0096 - accuracy: 1.0000 - val_loss: 0.0254 - val_accuracy: 0.9899\n",
      "Epoch 6/70\n",
      "7/7 [==============================] - 0s 18ms/step - loss: 0.0095 - accuracy: 1.0000 - val_loss: 0.0253 - val_accuracy: 0.9899\n",
      "Epoch 7/70\n",
      "7/7 [==============================] - 0s 20ms/step - loss: 0.0094 - accuracy: 1.0000 - val_loss: 0.0251 - val_accuracy: 0.9899\n",
      "Epoch 8/70\n",
      "7/7 [==============================] - 0s 31ms/step - loss: 0.0092 - accuracy: 1.0000 - val_loss: 0.0251 - val_accuracy: 0.9899\n",
      "Epoch 9/70\n",
      "7/7 [==============================] - 0s 19ms/step - loss: 0.0092 - accuracy: 1.0000 - val_loss: 0.0250 - val_accuracy: 0.9899\n",
      "Epoch 10/70\n",
      "7/7 [==============================] - 0s 18ms/step - loss: 0.0091 - accuracy: 1.0000 - val_loss: 0.0249 - val_accuracy: 0.9899\n",
      "Epoch 11/70\n",
      "7/7 [==============================] - 0s 17ms/step - loss: 0.0090 - accuracy: 1.0000 - val_loss: 0.0248 - val_accuracy: 0.9899\n",
      "Epoch 12/70\n",
      "7/7 [==============================] - 0s 31ms/step - loss: 0.0089 - accuracy: 1.0000 - val_loss: 0.0248 - val_accuracy: 0.9899\n",
      "Epoch 13/70\n",
      "7/7 [==============================] - 0s 17ms/step - loss: 0.0088 - accuracy: 1.0000 - val_loss: 0.0247 - val_accuracy: 0.9899\n",
      "Epoch 14/70\n",
      "7/7 [==============================] - 0s 21ms/step - loss: 0.0087 - accuracy: 1.0000 - val_loss: 0.0246 - val_accuracy: 0.9899\n",
      "Epoch 15/70\n",
      "7/7 [==============================] - 0s 19ms/step - loss: 0.0087 - accuracy: 1.0000 - val_loss: 0.0246 - val_accuracy: 0.9899\n",
      "Epoch 16/70\n",
      "7/7 [==============================] - 0s 19ms/step - loss: 0.0085 - accuracy: 1.0000 - val_loss: 0.0246 - val_accuracy: 0.9899\n",
      "Epoch 17/70\n",
      "7/7 [==============================] - 0s 18ms/step - loss: 0.0085 - accuracy: 1.0000 - val_loss: 0.0245 - val_accuracy: 0.9899\n",
      "Epoch 18/70\n",
      "7/7 [==============================] - 0s 18ms/step - loss: 0.0084 - accuracy: 1.0000 - val_loss: 0.0244 - val_accuracy: 0.9899\n",
      "Epoch 19/70\n",
      "7/7 [==============================] - 0s 18ms/step - loss: 0.0083 - accuracy: 1.0000 - val_loss: 0.0244 - val_accuracy: 0.9899\n",
      "Epoch 20/70\n",
      "7/7 [==============================] - 0s 17ms/step - loss: 0.0083 - accuracy: 1.0000 - val_loss: 0.0243 - val_accuracy: 0.9899\n",
      "Epoch 21/70\n",
      "7/7 [==============================] - 0s 19ms/step - loss: 0.0082 - accuracy: 1.0000 - val_loss: 0.0242 - val_accuracy: 0.9899\n",
      "Epoch 22/70\n",
      "7/7 [==============================] - 0s 32ms/step - loss: 0.0081 - accuracy: 1.0000 - val_loss: 0.0242 - val_accuracy: 0.9899\n",
      "Epoch 23/70\n",
      "7/7 [==============================] - 0s 18ms/step - loss: 0.0080 - accuracy: 1.0000 - val_loss: 0.0241 - val_accuracy: 0.9899\n",
      "Epoch 24/70\n",
      "7/7 [==============================] - 0s 18ms/step - loss: 0.0080 - accuracy: 1.0000 - val_loss: 0.0240 - val_accuracy: 0.9899\n",
      "Epoch 25/70\n",
      "7/7 [==============================] - 0s 18ms/step - loss: 0.0079 - accuracy: 1.0000 - val_loss: 0.0240 - val_accuracy: 0.9899\n",
      "Epoch 26/70\n",
      "7/7 [==============================] - 0s 18ms/step - loss: 0.0078 - accuracy: 1.0000 - val_loss: 0.0239 - val_accuracy: 0.9899\n",
      "Epoch 27/70\n",
      "7/7 [==============================] - 0s 19ms/step - loss: 0.0078 - accuracy: 1.0000 - val_loss: 0.0238 - val_accuracy: 0.9899\n",
      "Epoch 28/70\n",
      "7/7 [==============================] - 0s 18ms/step - loss: 0.0077 - accuracy: 1.0000 - val_loss: 0.0237 - val_accuracy: 0.9899\n",
      "Epoch 29/70\n",
      "7/7 [==============================] - 0s 20ms/step - loss: 0.0076 - accuracy: 1.0000 - val_loss: 0.0237 - val_accuracy: 0.9899\n",
      "Epoch 30/70\n",
      "7/7 [==============================] - 0s 20ms/step - loss: 0.0076 - accuracy: 1.0000 - val_loss: 0.0236 - val_accuracy: 0.9899\n",
      "Epoch 31/70\n",
      "7/7 [==============================] - 0s 32ms/step - loss: 0.0075 - accuracy: 1.0000 - val_loss: 0.0236 - val_accuracy: 0.9899\n",
      "Epoch 32/70\n",
      "7/7 [==============================] - 0s 25ms/step - loss: 0.0074 - accuracy: 1.0000 - val_loss: 0.0236 - val_accuracy: 0.9899\n",
      "Epoch 33/70\n",
      "7/7 [==============================] - 0s 18ms/step - loss: 0.0074 - accuracy: 1.0000 - val_loss: 0.0235 - val_accuracy: 0.9899\n",
      "Epoch 34/70\n",
      "7/7 [==============================] - 0s 32ms/step - loss: 0.0073 - accuracy: 1.0000 - val_loss: 0.0235 - val_accuracy: 0.9899\n",
      "Epoch 35/70\n",
      "7/7 [==============================] - 0s 18ms/step - loss: 0.0072 - accuracy: 1.0000 - val_loss: 0.0234 - val_accuracy: 0.9899\n",
      "Epoch 36/70\n",
      "7/7 [==============================] - 0s 31ms/step - loss: 0.0072 - accuracy: 1.0000 - val_loss: 0.0234 - val_accuracy: 0.9899\n",
      "Epoch 37/70\n",
      "7/7 [==============================] - 0s 18ms/step - loss: 0.0071 - accuracy: 1.0000 - val_loss: 0.0233 - val_accuracy: 0.9899\n",
      "Epoch 38/70\n",
      "7/7 [==============================] - 0s 18ms/step - loss: 0.0071 - accuracy: 1.0000 - val_loss: 0.0232 - val_accuracy: 0.9899\n",
      "Epoch 39/70\n",
      "7/7 [==============================] - 0s 17ms/step - loss: 0.0070 - accuracy: 1.0000 - val_loss: 0.0232 - val_accuracy: 0.9899\n",
      "Epoch 40/70\n",
      "7/7 [==============================] - 0s 17ms/step - loss: 0.0069 - accuracy: 1.0000 - val_loss: 0.0231 - val_accuracy: 0.9899\n",
      "Epoch 41/70\n",
      "7/7 [==============================] - 0s 17ms/step - loss: 0.0069 - accuracy: 1.0000 - val_loss: 0.0231 - val_accuracy: 0.9899\n",
      "Epoch 42/70\n",
      "7/7 [==============================] - 0s 17ms/step - loss: 0.0068 - accuracy: 1.0000 - val_loss: 0.0230 - val_accuracy: 0.9899\n",
      "Epoch 43/70\n",
      "7/7 [==============================] - 0s 17ms/step - loss: 0.0068 - accuracy: 1.0000 - val_loss: 0.0230 - val_accuracy: 0.9899\n",
      "Epoch 44/70\n",
      "7/7 [==============================] - 0s 31ms/step - loss: 0.0067 - accuracy: 1.0000 - val_loss: 0.0229 - val_accuracy: 0.9899\n",
      "Epoch 45/70\n",
      "7/7 [==============================] - 0s 19ms/step - loss: 0.0067 - accuracy: 1.0000 - val_loss: 0.0229 - val_accuracy: 0.9899\n",
      "Epoch 46/70\n",
      "7/7 [==============================] - 0s 19ms/step - loss: 0.0066 - accuracy: 1.0000 - val_loss: 0.0228 - val_accuracy: 0.9899\n",
      "Epoch 47/70\n",
      "7/7 [==============================] - 0s 18ms/step - loss: 0.0066 - accuracy: 1.0000 - val_loss: 0.0228 - val_accuracy: 0.9899\n",
      "Epoch 48/70\n",
      "7/7 [==============================] - 0s 32ms/step - loss: 0.0065 - accuracy: 1.0000 - val_loss: 0.0228 - val_accuracy: 0.9899\n",
      "Epoch 49/70\n",
      "7/7 [==============================] - 0s 19ms/step - loss: 0.0065 - accuracy: 1.0000 - val_loss: 0.0227 - val_accuracy: 0.9899\n",
      "Epoch 50/70\n",
      "7/7 [==============================] - 0s 32ms/step - loss: 0.0064 - accuracy: 1.0000 - val_loss: 0.0227 - val_accuracy: 0.9899\n",
      "Epoch 51/70\n",
      "7/7 [==============================] - 0s 20ms/step - loss: 0.0064 - accuracy: 1.0000 - val_loss: 0.0227 - val_accuracy: 0.9899\n",
      "Epoch 52/70\n",
      "7/7 [==============================] - 0s 18ms/step - loss: 0.0063 - accuracy: 1.0000 - val_loss: 0.0226 - val_accuracy: 0.9899\n",
      "Epoch 53/70\n",
      "7/7 [==============================] - 0s 19ms/step - loss: 0.0063 - accuracy: 1.0000 - val_loss: 0.0226 - val_accuracy: 0.9899\n",
      "Epoch 54/70\n",
      "7/7 [==============================] - 0s 19ms/step - loss: 0.0062 - accuracy: 1.0000 - val_loss: 0.0225 - val_accuracy: 0.9899\n",
      "Epoch 55/70\n",
      "7/7 [==============================] - 0s 18ms/step - loss: 0.0062 - accuracy: 1.0000 - val_loss: 0.0225 - val_accuracy: 0.9899\n",
      "Epoch 56/70\n",
      "7/7 [==============================] - 0s 18ms/step - loss: 0.0062 - accuracy: 1.0000 - val_loss: 0.0225 - val_accuracy: 0.9899\n",
      "Epoch 57/70\n",
      "7/7 [==============================] - 0s 19ms/step - loss: 0.0061 - accuracy: 1.0000 - val_loss: 0.0224 - val_accuracy: 0.9899\n",
      "Epoch 58/70\n",
      "7/7 [==============================] - 0s 17ms/step - loss: 0.0061 - accuracy: 1.0000 - val_loss: 0.0224 - val_accuracy: 0.9899\n",
      "Epoch 59/70\n",
      "7/7 [==============================] - 0s 21ms/step - loss: 0.0060 - accuracy: 1.0000 - val_loss: 0.0223 - val_accuracy: 0.9899\n",
      "Epoch 60/70\n",
      "7/7 [==============================] - 0s 20ms/step - loss: 0.0060 - accuracy: 1.0000 - val_loss: 0.0223 - val_accuracy: 0.9899\n",
      "Epoch 61/70\n",
      "7/7 [==============================] - 0s 18ms/step - loss: 0.0060 - accuracy: 1.0000 - val_loss: 0.0223 - val_accuracy: 0.9899\n",
      "Epoch 62/70\n",
      "7/7 [==============================] - 0s 31ms/step - loss: 0.0059 - accuracy: 1.0000 - val_loss: 0.0222 - val_accuracy: 0.9899\n",
      "Epoch 63/70\n",
      "7/7 [==============================] - 0s 18ms/step - loss: 0.0059 - accuracy: 1.0000 - val_loss: 0.0222 - val_accuracy: 0.9899\n",
      "Epoch 64/70\n",
      "7/7 [==============================] - 0s 17ms/step - loss: 0.0058 - accuracy: 1.0000 - val_loss: 0.0221 - val_accuracy: 0.9899\n",
      "Epoch 65/70\n",
      "7/7 [==============================] - 0s 18ms/step - loss: 0.0058 - accuracy: 1.0000 - val_loss: 0.0221 - val_accuracy: 0.9899\n",
      "Epoch 66/70\n",
      "7/7 [==============================] - 0s 18ms/step - loss: 0.0058 - accuracy: 1.0000 - val_loss: 0.0221 - val_accuracy: 0.9899\n",
      "Epoch 67/70\n",
      "7/7 [==============================] - 0s 18ms/step - loss: 0.0057 - accuracy: 1.0000 - val_loss: 0.0221 - val_accuracy: 0.9899\n",
      "Epoch 68/70\n",
      "7/7 [==============================] - 0s 17ms/step - loss: 0.0057 - accuracy: 1.0000 - val_loss: 0.0220 - val_accuracy: 0.9899\n",
      "Epoch 69/70\n",
      "7/7 [==============================] - 0s 31ms/step - loss: 0.0057 - accuracy: 1.0000 - val_loss: 0.0220 - val_accuracy: 0.9899\n",
      "Epoch 70/70\n",
      "7/7 [==============================] - 0s 19ms/step - loss: 0.0056 - accuracy: 1.0000 - val_loss: 0.0220 - val_accuracy: 0.9899\n"
     ]
    }
   ],
   "source": [
    "history = model_B_on_A.fit(X_train_B, y_train_B, epochs=50,\n",
    "                           validation_data=(X_valid_B, y_valid_B))\n",
    "\n",
    "for layer in model_B_on_A.layers[:-1]:\n",
    "    layer.trainable = True\n",
    "\n",
    "model_B_on_A.compile(loss=\"binary_crossentropy\",\n",
    "                     optimizer=keras.optimizers.SGD(learning_rate=1e-3),\n",
    "                     metrics=[\"accuracy\"])\n",
    "history = model_B_on_A.fit(X_train_B, y_train_B, epochs=70,\n",
    "                           validation_data=(X_valid_B, y_valid_B))"
   ]
  },
  {
   "cell_type": "code",
   "execution_count": null,
   "metadata": {
    "colab": {
     "base_uri": "https://localhost:8080/"
    },
    "id": "69rt0MxXsjM5",
    "outputId": "d5105d39-3ca5-4f74-c463-bbcf59676d5c"
   },
   "outputs": [
    {
     "name": "stdout",
     "output_type": "stream",
     "text": [
      "63/63 [==============================] - 0s 2ms/step - loss: 0.0134 - accuracy: 0.9980\n"
     ]
    },
    {
     "data": {
      "text/plain": [
       "[0.013400241732597351, 0.9980000257492065]"
      ]
     },
     "execution_count": 25,
     "metadata": {},
     "output_type": "execute_result"
    }
   ],
   "source": [
    "model_B_on_A.evaluate(X_test_B, y_test_B)"
   ]
  },
  {
   "cell_type": "code",
   "execution_count": null,
   "metadata": {
    "id": "_3V7FP7isjPO"
   },
   "outputs": [],
   "source": []
  },
  {
   "cell_type": "code",
   "execution_count": null,
   "metadata": {
    "colab": {
     "base_uri": "https://localhost:8080/"
    },
    "id": "T1qHSSU7sjRT",
    "outputId": "e49e23eb-da85-4f85-f700-92ddf40bce32"
   },
   "outputs": [
    {
     "name": "stdout",
     "output_type": "stream",
     "text": [
      "Epoch 1/100\n",
      "7/7 [==============================] - 0s 24ms/step - loss: 0.0056 - accuracy: 1.0000 - val_loss: 0.0219 - val_accuracy: 0.9899\n",
      "Epoch 2/100\n",
      "7/7 [==============================] - 0s 18ms/step - loss: 0.0056 - accuracy: 1.0000 - val_loss: 0.0219 - val_accuracy: 0.9899\n",
      "Epoch 3/100\n",
      "7/7 [==============================] - 0s 19ms/step - loss: 0.0055 - accuracy: 1.0000 - val_loss: 0.0219 - val_accuracy: 0.9899\n",
      "Epoch 4/100\n",
      "7/7 [==============================] - 0s 18ms/step - loss: 0.0055 - accuracy: 1.0000 - val_loss: 0.0219 - val_accuracy: 0.9899\n",
      "Epoch 5/100\n",
      "7/7 [==============================] - 0s 18ms/step - loss: 0.0054 - accuracy: 1.0000 - val_loss: 0.0218 - val_accuracy: 0.9899\n",
      "Epoch 6/100\n",
      "7/7 [==============================] - 0s 31ms/step - loss: 0.0054 - accuracy: 1.0000 - val_loss: 0.0218 - val_accuracy: 0.9899\n",
      "Epoch 7/100\n",
      "7/7 [==============================] - 0s 16ms/step - loss: 0.0054 - accuracy: 1.0000 - val_loss: 0.0217 - val_accuracy: 0.9899\n",
      "Epoch 8/100\n",
      "7/7 [==============================] - 0s 17ms/step - loss: 0.0053 - accuracy: 1.0000 - val_loss: 0.0217 - val_accuracy: 0.9899\n",
      "Epoch 9/100\n",
      "7/7 [==============================] - 0s 17ms/step - loss: 0.0053 - accuracy: 1.0000 - val_loss: 0.0216 - val_accuracy: 0.9899\n",
      "Epoch 10/100\n",
      "7/7 [==============================] - 0s 16ms/step - loss: 0.0052 - accuracy: 1.0000 - val_loss: 0.0216 - val_accuracy: 0.9899\n",
      "Epoch 11/100\n",
      "7/7 [==============================] - 0s 17ms/step - loss: 0.0052 - accuracy: 1.0000 - val_loss: 0.0216 - val_accuracy: 0.9899\n",
      "Epoch 12/100\n",
      "7/7 [==============================] - 0s 19ms/step - loss: 0.0052 - accuracy: 1.0000 - val_loss: 0.0216 - val_accuracy: 0.9899\n",
      "Epoch 13/100\n",
      "7/7 [==============================] - 0s 18ms/step - loss: 0.0052 - accuracy: 1.0000 - val_loss: 0.0215 - val_accuracy: 0.9899\n",
      "Epoch 14/100\n",
      "7/7 [==============================] - 0s 16ms/step - loss: 0.0051 - accuracy: 1.0000 - val_loss: 0.0215 - val_accuracy: 0.9899\n",
      "Epoch 15/100\n",
      "7/7 [==============================] - 0s 17ms/step - loss: 0.0051 - accuracy: 1.0000 - val_loss: 0.0214 - val_accuracy: 0.9899\n",
      "Epoch 16/100\n",
      "7/7 [==============================] - 0s 16ms/step - loss: 0.0051 - accuracy: 1.0000 - val_loss: 0.0214 - val_accuracy: 0.9899\n",
      "Epoch 17/100\n",
      "7/7 [==============================] - 0s 16ms/step - loss: 0.0050 - accuracy: 1.0000 - val_loss: 0.0214 - val_accuracy: 0.9899\n",
      "Epoch 18/100\n",
      "7/7 [==============================] - 0s 17ms/step - loss: 0.0050 - accuracy: 1.0000 - val_loss: 0.0214 - val_accuracy: 0.9909\n",
      "Epoch 19/100\n",
      "7/7 [==============================] - 0s 17ms/step - loss: 0.0050 - accuracy: 1.0000 - val_loss: 0.0214 - val_accuracy: 0.9909\n",
      "Epoch 20/100\n",
      "7/7 [==============================] - 0s 32ms/step - loss: 0.0050 - accuracy: 1.0000 - val_loss: 0.0213 - val_accuracy: 0.9909\n",
      "Epoch 21/100\n",
      "7/7 [==============================] - 0s 20ms/step - loss: 0.0049 - accuracy: 1.0000 - val_loss: 0.0213 - val_accuracy: 0.9909\n",
      "Epoch 22/100\n",
      "7/7 [==============================] - 0s 32ms/step - loss: 0.0049 - accuracy: 1.0000 - val_loss: 0.0213 - val_accuracy: 0.9909\n",
      "Epoch 23/100\n",
      "7/7 [==============================] - 0s 20ms/step - loss: 0.0049 - accuracy: 1.0000 - val_loss: 0.0213 - val_accuracy: 0.9909\n",
      "Epoch 24/100\n",
      "7/7 [==============================] - 0s 19ms/step - loss: 0.0048 - accuracy: 1.0000 - val_loss: 0.0212 - val_accuracy: 0.9909\n",
      "Epoch 25/100\n",
      "7/7 [==============================] - 0s 18ms/step - loss: 0.0048 - accuracy: 1.0000 - val_loss: 0.0212 - val_accuracy: 0.9909\n",
      "Epoch 26/100\n",
      "7/7 [==============================] - 0s 19ms/step - loss: 0.0048 - accuracy: 1.0000 - val_loss: 0.0212 - val_accuracy: 0.9909\n",
      "Epoch 27/100\n",
      "7/7 [==============================] - 0s 18ms/step - loss: 0.0048 - accuracy: 1.0000 - val_loss: 0.0212 - val_accuracy: 0.9909\n",
      "Epoch 28/100\n",
      "7/7 [==============================] - 0s 18ms/step - loss: 0.0047 - accuracy: 1.0000 - val_loss: 0.0211 - val_accuracy: 0.9909\n",
      "Epoch 29/100\n",
      "7/7 [==============================] - 0s 31ms/step - loss: 0.0047 - accuracy: 1.0000 - val_loss: 0.0211 - val_accuracy: 0.9909\n",
      "Epoch 30/100\n",
      "7/7 [==============================] - 0s 17ms/step - loss: 0.0047 - accuracy: 1.0000 - val_loss: 0.0211 - val_accuracy: 0.9909\n",
      "Epoch 31/100\n",
      "7/7 [==============================] - 0s 17ms/step - loss: 0.0047 - accuracy: 1.0000 - val_loss: 0.0211 - val_accuracy: 0.9909\n",
      "Epoch 32/100\n",
      "7/7 [==============================] - 0s 17ms/step - loss: 0.0046 - accuracy: 1.0000 - val_loss: 0.0210 - val_accuracy: 0.9909\n",
      "Epoch 33/100\n",
      "7/7 [==============================] - 0s 18ms/step - loss: 0.0046 - accuracy: 1.0000 - val_loss: 0.0210 - val_accuracy: 0.9909\n",
      "Epoch 34/100\n",
      "7/7 [==============================] - 0s 18ms/step - loss: 0.0046 - accuracy: 1.0000 - val_loss: 0.0210 - val_accuracy: 0.9909\n",
      "Epoch 35/100\n",
      "7/7 [==============================] - 0s 16ms/step - loss: 0.0046 - accuracy: 1.0000 - val_loss: 0.0210 - val_accuracy: 0.9909\n",
      "Epoch 36/100\n",
      "7/7 [==============================] - 0s 17ms/step - loss: 0.0046 - accuracy: 1.0000 - val_loss: 0.0210 - val_accuracy: 0.9909\n",
      "Epoch 37/100\n",
      "7/7 [==============================] - 0s 17ms/step - loss: 0.0045 - accuracy: 1.0000 - val_loss: 0.0209 - val_accuracy: 0.9909\n",
      "Epoch 38/100\n",
      "7/7 [==============================] - 0s 17ms/step - loss: 0.0045 - accuracy: 1.0000 - val_loss: 0.0209 - val_accuracy: 0.9909\n",
      "Epoch 39/100\n",
      "7/7 [==============================] - 0s 17ms/step - loss: 0.0045 - accuracy: 1.0000 - val_loss: 0.0209 - val_accuracy: 0.9909\n",
      "Epoch 40/100\n",
      "7/7 [==============================] - 0s 18ms/step - loss: 0.0045 - accuracy: 1.0000 - val_loss: 0.0209 - val_accuracy: 0.9909\n",
      "Epoch 41/100\n",
      "7/7 [==============================] - 0s 16ms/step - loss: 0.0044 - accuracy: 1.0000 - val_loss: 0.0209 - val_accuracy: 0.9909\n",
      "Epoch 42/100\n",
      "7/7 [==============================] - 0s 16ms/step - loss: 0.0044 - accuracy: 1.0000 - val_loss: 0.0208 - val_accuracy: 0.9909\n",
      "Epoch 43/100\n",
      "7/7 [==============================] - 0s 18ms/step - loss: 0.0044 - accuracy: 1.0000 - val_loss: 0.0208 - val_accuracy: 0.9909\n",
      "Epoch 44/100\n",
      "7/7 [==============================] - 0s 17ms/step - loss: 0.0044 - accuracy: 1.0000 - val_loss: 0.0208 - val_accuracy: 0.9909\n",
      "Epoch 45/100\n",
      "7/7 [==============================] - 0s 18ms/step - loss: 0.0043 - accuracy: 1.0000 - val_loss: 0.0208 - val_accuracy: 0.9909\n",
      "Epoch 46/100\n",
      "7/7 [==============================] - 0s 17ms/step - loss: 0.0043 - accuracy: 1.0000 - val_loss: 0.0208 - val_accuracy: 0.9909\n",
      "Epoch 47/100\n",
      "7/7 [==============================] - 0s 16ms/step - loss: 0.0043 - accuracy: 1.0000 - val_loss: 0.0208 - val_accuracy: 0.9909\n",
      "Epoch 48/100\n",
      "7/7 [==============================] - 0s 18ms/step - loss: 0.0043 - accuracy: 1.0000 - val_loss: 0.0207 - val_accuracy: 0.9909\n",
      "Epoch 49/100\n",
      "7/7 [==============================] - 0s 16ms/step - loss: 0.0043 - accuracy: 1.0000 - val_loss: 0.0207 - val_accuracy: 0.9909\n",
      "Epoch 50/100\n",
      "7/7 [==============================] - 0s 17ms/step - loss: 0.0042 - accuracy: 1.0000 - val_loss: 0.0207 - val_accuracy: 0.9909\n",
      "Epoch 51/100\n",
      "7/7 [==============================] - 0s 17ms/step - loss: 0.0042 - accuracy: 1.0000 - val_loss: 0.0207 - val_accuracy: 0.9909\n",
      "Epoch 52/100\n",
      "7/7 [==============================] - 0s 17ms/step - loss: 0.0042 - accuracy: 1.0000 - val_loss: 0.0206 - val_accuracy: 0.9909\n",
      "Epoch 53/100\n",
      "7/7 [==============================] - 0s 17ms/step - loss: 0.0042 - accuracy: 1.0000 - val_loss: 0.0206 - val_accuracy: 0.9909\n",
      "Epoch 54/100\n",
      "7/7 [==============================] - 0s 20ms/step - loss: 0.0042 - accuracy: 1.0000 - val_loss: 0.0206 - val_accuracy: 0.9909\n",
      "Epoch 55/100\n",
      "7/7 [==============================] - 0s 19ms/step - loss: 0.0041 - accuracy: 1.0000 - val_loss: 0.0206 - val_accuracy: 0.9909\n",
      "Epoch 56/100\n",
      "7/7 [==============================] - 0s 18ms/step - loss: 0.0041 - accuracy: 1.0000 - val_loss: 0.0206 - val_accuracy: 0.9909\n",
      "Epoch 57/100\n",
      "7/7 [==============================] - 0s 18ms/step - loss: 0.0041 - accuracy: 1.0000 - val_loss: 0.0206 - val_accuracy: 0.9909\n",
      "Epoch 58/100\n",
      "7/7 [==============================] - 0s 18ms/step - loss: 0.0041 - accuracy: 1.0000 - val_loss: 0.0206 - val_accuracy: 0.9909\n",
      "Epoch 59/100\n",
      "7/7 [==============================] - 0s 18ms/step - loss: 0.0041 - accuracy: 1.0000 - val_loss: 0.0205 - val_accuracy: 0.9909\n",
      "Epoch 60/100\n",
      "7/7 [==============================] - 0s 17ms/step - loss: 0.0040 - accuracy: 1.0000 - val_loss: 0.0205 - val_accuracy: 0.9909\n",
      "Epoch 61/100\n",
      "7/7 [==============================] - 0s 32ms/step - loss: 0.0040 - accuracy: 1.0000 - val_loss: 0.0205 - val_accuracy: 0.9909\n",
      "Epoch 62/100\n",
      "7/7 [==============================] - 0s 18ms/step - loss: 0.0040 - accuracy: 1.0000 - val_loss: 0.0205 - val_accuracy: 0.9909\n",
      "Epoch 63/100\n",
      "7/7 [==============================] - 0s 19ms/step - loss: 0.0040 - accuracy: 1.0000 - val_loss: 0.0205 - val_accuracy: 0.9909\n",
      "Epoch 64/100\n",
      "7/7 [==============================] - 0s 19ms/step - loss: 0.0040 - accuracy: 1.0000 - val_loss: 0.0205 - val_accuracy: 0.9909\n",
      "Epoch 65/100\n",
      "7/7 [==============================] - 0s 19ms/step - loss: 0.0039 - accuracy: 1.0000 - val_loss: 0.0205 - val_accuracy: 0.9909\n",
      "Epoch 66/100\n",
      "7/7 [==============================] - 0s 18ms/step - loss: 0.0039 - accuracy: 1.0000 - val_loss: 0.0205 - val_accuracy: 0.9909\n",
      "Epoch 67/100\n",
      "7/7 [==============================] - 0s 18ms/step - loss: 0.0039 - accuracy: 1.0000 - val_loss: 0.0205 - val_accuracy: 0.9909\n",
      "Epoch 68/100\n",
      "7/7 [==============================] - 0s 19ms/step - loss: 0.0039 - accuracy: 1.0000 - val_loss: 0.0204 - val_accuracy: 0.9909\n",
      "Epoch 69/100\n",
      "7/7 [==============================] - 0s 18ms/step - loss: 0.0039 - accuracy: 1.0000 - val_loss: 0.0204 - val_accuracy: 0.9909\n",
      "Epoch 70/100\n",
      "7/7 [==============================] - 0s 18ms/step - loss: 0.0039 - accuracy: 1.0000 - val_loss: 0.0204 - val_accuracy: 0.9909\n",
      "Epoch 71/100\n",
      "7/7 [==============================] - 0s 18ms/step - loss: 0.0038 - accuracy: 1.0000 - val_loss: 0.0204 - val_accuracy: 0.9909\n",
      "Epoch 72/100\n",
      "7/7 [==============================] - 0s 18ms/step - loss: 0.0038 - accuracy: 1.0000 - val_loss: 0.0204 - val_accuracy: 0.9909\n",
      "Epoch 73/100\n",
      "7/7 [==============================] - 0s 18ms/step - loss: 0.0038 - accuracy: 1.0000 - val_loss: 0.0204 - val_accuracy: 0.9909\n",
      "Epoch 74/100\n",
      "7/7 [==============================] - 0s 19ms/step - loss: 0.0038 - accuracy: 1.0000 - val_loss: 0.0203 - val_accuracy: 0.9909\n",
      "Epoch 75/100\n",
      "7/7 [==============================] - 0s 18ms/step - loss: 0.0038 - accuracy: 1.0000 - val_loss: 0.0203 - val_accuracy: 0.9909\n",
      "Epoch 76/100\n",
      "7/7 [==============================] - 0s 17ms/step - loss: 0.0038 - accuracy: 1.0000 - val_loss: 0.0203 - val_accuracy: 0.9909\n",
      "Epoch 77/100\n",
      "7/7 [==============================] - 0s 18ms/step - loss: 0.0037 - accuracy: 1.0000 - val_loss: 0.0203 - val_accuracy: 0.9909\n",
      "Epoch 78/100\n",
      "7/7 [==============================] - 0s 21ms/step - loss: 0.0037 - accuracy: 1.0000 - val_loss: 0.0203 - val_accuracy: 0.9909\n",
      "Epoch 79/100\n",
      "7/7 [==============================] - 0s 19ms/step - loss: 0.0037 - accuracy: 1.0000 - val_loss: 0.0202 - val_accuracy: 0.9909\n",
      "Epoch 80/100\n",
      "7/7 [==============================] - 0s 18ms/step - loss: 0.0037 - accuracy: 1.0000 - val_loss: 0.0202 - val_accuracy: 0.9909\n",
      "Epoch 81/100\n",
      "7/7 [==============================] - 0s 17ms/step - loss: 0.0037 - accuracy: 1.0000 - val_loss: 0.0202 - val_accuracy: 0.9909\n",
      "Epoch 82/100\n",
      "7/7 [==============================] - 0s 32ms/step - loss: 0.0037 - accuracy: 1.0000 - val_loss: 0.0202 - val_accuracy: 0.9909\n",
      "Epoch 83/100\n",
      "7/7 [==============================] - 0s 20ms/step - loss: 0.0036 - accuracy: 1.0000 - val_loss: 0.0202 - val_accuracy: 0.9909\n",
      "Epoch 84/100\n",
      "7/7 [==============================] - 0s 17ms/step - loss: 0.0036 - accuracy: 1.0000 - val_loss: 0.0201 - val_accuracy: 0.9909\n",
      "Epoch 85/100\n",
      "7/7 [==============================] - 0s 20ms/step - loss: 0.0036 - accuracy: 1.0000 - val_loss: 0.0201 - val_accuracy: 0.9909\n",
      "Epoch 86/100\n",
      "7/7 [==============================] - 0s 18ms/step - loss: 0.0036 - accuracy: 1.0000 - val_loss: 0.0201 - val_accuracy: 0.9909\n",
      "Epoch 87/100\n",
      "7/7 [==============================] - 0s 17ms/step - loss: 0.0036 - accuracy: 1.0000 - val_loss: 0.0201 - val_accuracy: 0.9909\n",
      "Epoch 88/100\n",
      "7/7 [==============================] - 0s 18ms/step - loss: 0.0036 - accuracy: 1.0000 - val_loss: 0.0201 - val_accuracy: 0.9909\n",
      "Epoch 89/100\n",
      "7/7 [==============================] - 0s 19ms/step - loss: 0.0035 - accuracy: 1.0000 - val_loss: 0.0201 - val_accuracy: 0.9909\n",
      "Epoch 90/100\n",
      "7/7 [==============================] - 0s 18ms/step - loss: 0.0035 - accuracy: 1.0000 - val_loss: 0.0201 - val_accuracy: 0.9909\n",
      "Epoch 91/100\n",
      "7/7 [==============================] - 0s 19ms/step - loss: 0.0035 - accuracy: 1.0000 - val_loss: 0.0201 - val_accuracy: 0.9909\n",
      "Epoch 92/100\n",
      "7/7 [==============================] - 0s 18ms/step - loss: 0.0035 - accuracy: 1.0000 - val_loss: 0.0201 - val_accuracy: 0.9909\n",
      "Epoch 93/100\n",
      "7/7 [==============================] - 0s 18ms/step - loss: 0.0035 - accuracy: 1.0000 - val_loss: 0.0201 - val_accuracy: 0.9909\n",
      "Epoch 94/100\n",
      "7/7 [==============================] - 0s 20ms/step - loss: 0.0035 - accuracy: 1.0000 - val_loss: 0.0201 - val_accuracy: 0.9909\n",
      "Epoch 95/100\n",
      "7/7 [==============================] - 0s 18ms/step - loss: 0.0035 - accuracy: 1.0000 - val_loss: 0.0201 - val_accuracy: 0.9909\n",
      "Epoch 96/100\n",
      "7/7 [==============================] - 0s 19ms/step - loss: 0.0034 - accuracy: 1.0000 - val_loss: 0.0200 - val_accuracy: 0.9909\n",
      "Epoch 97/100\n",
      "7/7 [==============================] - 0s 19ms/step - loss: 0.0034 - accuracy: 1.0000 - val_loss: 0.0200 - val_accuracy: 0.9909\n",
      "Epoch 98/100\n",
      "7/7 [==============================] - 0s 17ms/step - loss: 0.0034 - accuracy: 1.0000 - val_loss: 0.0200 - val_accuracy: 0.9909\n",
      "Epoch 99/100\n",
      "7/7 [==============================] - 0s 19ms/step - loss: 0.0034 - accuracy: 1.0000 - val_loss: 0.0200 - val_accuracy: 0.9909\n",
      "Epoch 100/100\n",
      "7/7 [==============================] - 0s 18ms/step - loss: 0.0034 - accuracy: 1.0000 - val_loss: 0.0200 - val_accuracy: 0.9909\n",
      "Epoch 1/120\n",
      "7/7 [==============================] - 1s 42ms/step - loss: 0.0034 - accuracy: 1.0000 - val_loss: 0.0199 - val_accuracy: 0.9909\n",
      "Epoch 2/120\n",
      "7/7 [==============================] - 0s 17ms/step - loss: 0.0034 - accuracy: 1.0000 - val_loss: 0.0199 - val_accuracy: 0.9909\n",
      "Epoch 3/120\n",
      "7/7 [==============================] - 0s 16ms/step - loss: 0.0033 - accuracy: 1.0000 - val_loss: 0.0199 - val_accuracy: 0.9909\n",
      "Epoch 4/120\n",
      "7/7 [==============================] - 0s 16ms/step - loss: 0.0033 - accuracy: 1.0000 - val_loss: 0.0199 - val_accuracy: 0.9909\n",
      "Epoch 5/120\n",
      "7/7 [==============================] - 0s 17ms/step - loss: 0.0033 - accuracy: 1.0000 - val_loss: 0.0199 - val_accuracy: 0.9909\n",
      "Epoch 6/120\n",
      "7/7 [==============================] - 0s 32ms/step - loss: 0.0033 - accuracy: 1.0000 - val_loss: 0.0198 - val_accuracy: 0.9909\n",
      "Epoch 7/120\n",
      "7/7 [==============================] - 0s 18ms/step - loss: 0.0033 - accuracy: 1.0000 - val_loss: 0.0198 - val_accuracy: 0.9909\n",
      "Epoch 8/120\n",
      "7/7 [==============================] - 0s 20ms/step - loss: 0.0033 - accuracy: 1.0000 - val_loss: 0.0198 - val_accuracy: 0.9909\n",
      "Epoch 9/120\n",
      "7/7 [==============================] - 0s 20ms/step - loss: 0.0033 - accuracy: 1.0000 - val_loss: 0.0198 - val_accuracy: 0.9909\n",
      "Epoch 10/120\n",
      "7/7 [==============================] - 0s 20ms/step - loss: 0.0033 - accuracy: 1.0000 - val_loss: 0.0198 - val_accuracy: 0.9909\n",
      "Epoch 11/120\n",
      "7/7 [==============================] - 0s 18ms/step - loss: 0.0032 - accuracy: 1.0000 - val_loss: 0.0198 - val_accuracy: 0.9909\n",
      "Epoch 12/120\n",
      "7/7 [==============================] - 0s 18ms/step - loss: 0.0032 - accuracy: 1.0000 - val_loss: 0.0198 - val_accuracy: 0.9909\n",
      "Epoch 13/120\n",
      "7/7 [==============================] - 0s 18ms/step - loss: 0.0032 - accuracy: 1.0000 - val_loss: 0.0198 - val_accuracy: 0.9909\n",
      "Epoch 14/120\n",
      "7/7 [==============================] - 0s 16ms/step - loss: 0.0032 - accuracy: 1.0000 - val_loss: 0.0197 - val_accuracy: 0.9909\n",
      "Epoch 15/120\n",
      "7/7 [==============================] - 0s 17ms/step - loss: 0.0032 - accuracy: 1.0000 - val_loss: 0.0197 - val_accuracy: 0.9909\n",
      "Epoch 16/120\n",
      "7/7 [==============================] - 0s 17ms/step - loss: 0.0032 - accuracy: 1.0000 - val_loss: 0.0198 - val_accuracy: 0.9909\n",
      "Epoch 17/120\n",
      "7/7 [==============================] - 0s 17ms/step - loss: 0.0032 - accuracy: 1.0000 - val_loss: 0.0198 - val_accuracy: 0.9909\n",
      "Epoch 18/120\n",
      "7/7 [==============================] - 0s 17ms/step - loss: 0.0031 - accuracy: 1.0000 - val_loss: 0.0198 - val_accuracy: 0.9909\n",
      "Epoch 19/120\n",
      "7/7 [==============================] - 0s 17ms/step - loss: 0.0031 - accuracy: 1.0000 - val_loss: 0.0197 - val_accuracy: 0.9909\n",
      "Epoch 20/120\n",
      "7/7 [==============================] - 0s 16ms/step - loss: 0.0031 - accuracy: 1.0000 - val_loss: 0.0197 - val_accuracy: 0.9909\n",
      "Epoch 21/120\n",
      "7/7 [==============================] - 0s 17ms/step - loss: 0.0031 - accuracy: 1.0000 - val_loss: 0.0197 - val_accuracy: 0.9909\n",
      "Epoch 22/120\n",
      "7/7 [==============================] - 0s 16ms/step - loss: 0.0031 - accuracy: 1.0000 - val_loss: 0.0197 - val_accuracy: 0.9909\n",
      "Epoch 23/120\n",
      "7/7 [==============================] - 0s 17ms/step - loss: 0.0031 - accuracy: 1.0000 - val_loss: 0.0197 - val_accuracy: 0.9909\n",
      "Epoch 24/120\n",
      "7/7 [==============================] - 0s 18ms/step - loss: 0.0031 - accuracy: 1.0000 - val_loss: 0.0197 - val_accuracy: 0.9909\n",
      "Epoch 25/120\n",
      "7/7 [==============================] - 0s 17ms/step - loss: 0.0031 - accuracy: 1.0000 - val_loss: 0.0197 - val_accuracy: 0.9909\n",
      "Epoch 26/120\n",
      "7/7 [==============================] - 0s 16ms/step - loss: 0.0031 - accuracy: 1.0000 - val_loss: 0.0197 - val_accuracy: 0.9909\n",
      "Epoch 27/120\n",
      "7/7 [==============================] - 0s 16ms/step - loss: 0.0030 - accuracy: 1.0000 - val_loss: 0.0197 - val_accuracy: 0.9909\n",
      "Epoch 28/120\n",
      "7/7 [==============================] - 0s 19ms/step - loss: 0.0030 - accuracy: 1.0000 - val_loss: 0.0197 - val_accuracy: 0.9909\n",
      "Epoch 29/120\n",
      "7/7 [==============================] - 0s 16ms/step - loss: 0.0030 - accuracy: 1.0000 - val_loss: 0.0196 - val_accuracy: 0.9909\n",
      "Epoch 30/120\n",
      "7/7 [==============================] - 0s 17ms/step - loss: 0.0030 - accuracy: 1.0000 - val_loss: 0.0196 - val_accuracy: 0.9909\n",
      "Epoch 31/120\n",
      "7/7 [==============================] - 0s 19ms/step - loss: 0.0030 - accuracy: 1.0000 - val_loss: 0.0196 - val_accuracy: 0.9909\n",
      "Epoch 32/120\n",
      "7/7 [==============================] - 0s 18ms/step - loss: 0.0030 - accuracy: 1.0000 - val_loss: 0.0196 - val_accuracy: 0.9909\n",
      "Epoch 33/120\n",
      "7/7 [==============================] - 0s 17ms/step - loss: 0.0030 - accuracy: 1.0000 - val_loss: 0.0196 - val_accuracy: 0.9909\n",
      "Epoch 34/120\n",
      "7/7 [==============================] - 0s 18ms/step - loss: 0.0030 - accuracy: 1.0000 - val_loss: 0.0196 - val_accuracy: 0.9909\n",
      "Epoch 35/120\n",
      "7/7 [==============================] - 0s 19ms/step - loss: 0.0030 - accuracy: 1.0000 - val_loss: 0.0196 - val_accuracy: 0.9909\n",
      "Epoch 36/120\n",
      "7/7 [==============================] - 0s 18ms/step - loss: 0.0029 - accuracy: 1.0000 - val_loss: 0.0196 - val_accuracy: 0.9909\n",
      "Epoch 37/120\n",
      "7/7 [==============================] - 0s 17ms/step - loss: 0.0029 - accuracy: 1.0000 - val_loss: 0.0195 - val_accuracy: 0.9909\n",
      "Epoch 38/120\n",
      "7/7 [==============================] - 0s 18ms/step - loss: 0.0029 - accuracy: 1.0000 - val_loss: 0.0195 - val_accuracy: 0.9909\n",
      "Epoch 39/120\n",
      "7/7 [==============================] - 0s 32ms/step - loss: 0.0029 - accuracy: 1.0000 - val_loss: 0.0195 - val_accuracy: 0.9909\n",
      "Epoch 40/120\n",
      "7/7 [==============================] - 0s 17ms/step - loss: 0.0029 - accuracy: 1.0000 - val_loss: 0.0195 - val_accuracy: 0.9909\n",
      "Epoch 41/120\n",
      "7/7 [==============================] - 0s 18ms/step - loss: 0.0029 - accuracy: 1.0000 - val_loss: 0.0195 - val_accuracy: 0.9909\n",
      "Epoch 42/120\n",
      "7/7 [==============================] - 0s 17ms/step - loss: 0.0029 - accuracy: 1.0000 - val_loss: 0.0195 - val_accuracy: 0.9909\n",
      "Epoch 43/120\n",
      "7/7 [==============================] - 0s 18ms/step - loss: 0.0029 - accuracy: 1.0000 - val_loss: 0.0195 - val_accuracy: 0.9909\n",
      "Epoch 44/120\n",
      "7/7 [==============================] - 0s 18ms/step - loss: 0.0029 - accuracy: 1.0000 - val_loss: 0.0195 - val_accuracy: 0.9909\n",
      "Epoch 45/120\n",
      "7/7 [==============================] - 0s 18ms/step - loss: 0.0028 - accuracy: 1.0000 - val_loss: 0.0194 - val_accuracy: 0.9909\n",
      "Epoch 46/120\n",
      "7/7 [==============================] - 0s 20ms/step - loss: 0.0028 - accuracy: 1.0000 - val_loss: 0.0194 - val_accuracy: 0.9909\n",
      "Epoch 47/120\n",
      "7/7 [==============================] - 0s 20ms/step - loss: 0.0028 - accuracy: 1.0000 - val_loss: 0.0194 - val_accuracy: 0.9909\n",
      "Epoch 48/120\n",
      "7/7 [==============================] - 0s 19ms/step - loss: 0.0028 - accuracy: 1.0000 - val_loss: 0.0194 - val_accuracy: 0.9909\n",
      "Epoch 49/120\n",
      "7/7 [==============================] - 0s 18ms/step - loss: 0.0028 - accuracy: 1.0000 - val_loss: 0.0194 - val_accuracy: 0.9909\n",
      "Epoch 50/120\n",
      "7/7 [==============================] - 0s 19ms/step - loss: 0.0028 - accuracy: 1.0000 - val_loss: 0.0194 - val_accuracy: 0.9909\n",
      "Epoch 51/120\n",
      "7/7 [==============================] - 0s 18ms/step - loss: 0.0028 - accuracy: 1.0000 - val_loss: 0.0194 - val_accuracy: 0.9909\n",
      "Epoch 52/120\n",
      "7/7 [==============================] - 0s 18ms/step - loss: 0.0028 - accuracy: 1.0000 - val_loss: 0.0194 - val_accuracy: 0.9909\n",
      "Epoch 53/120\n",
      "7/7 [==============================] - 0s 18ms/step - loss: 0.0028 - accuracy: 1.0000 - val_loss: 0.0194 - val_accuracy: 0.9909\n",
      "Epoch 54/120\n",
      "7/7 [==============================] - 0s 17ms/step - loss: 0.0028 - accuracy: 1.0000 - val_loss: 0.0193 - val_accuracy: 0.9909\n",
      "Epoch 55/120\n",
      "7/7 [==============================] - 0s 19ms/step - loss: 0.0028 - accuracy: 1.0000 - val_loss: 0.0193 - val_accuracy: 0.9909\n",
      "Epoch 56/120\n",
      "7/7 [==============================] - 0s 21ms/step - loss: 0.0027 - accuracy: 1.0000 - val_loss: 0.0193 - val_accuracy: 0.9909\n",
      "Epoch 57/120\n",
      "7/7 [==============================] - 0s 19ms/step - loss: 0.0027 - accuracy: 1.0000 - val_loss: 0.0193 - val_accuracy: 0.9909\n",
      "Epoch 58/120\n",
      "7/7 [==============================] - 0s 18ms/step - loss: 0.0027 - accuracy: 1.0000 - val_loss: 0.0193 - val_accuracy: 0.9909\n",
      "Epoch 59/120\n",
      "7/7 [==============================] - 0s 19ms/step - loss: 0.0027 - accuracy: 1.0000 - val_loss: 0.0193 - val_accuracy: 0.9909\n",
      "Epoch 60/120\n",
      "7/7 [==============================] - 0s 18ms/step - loss: 0.0027 - accuracy: 1.0000 - val_loss: 0.0193 - val_accuracy: 0.9909\n",
      "Epoch 61/120\n",
      "7/7 [==============================] - 0s 17ms/step - loss: 0.0027 - accuracy: 1.0000 - val_loss: 0.0192 - val_accuracy: 0.9909\n",
      "Epoch 62/120\n",
      "7/7 [==============================] - 0s 19ms/step - loss: 0.0027 - accuracy: 1.0000 - val_loss: 0.0192 - val_accuracy: 0.9909\n",
      "Epoch 63/120\n",
      "7/7 [==============================] - 0s 20ms/step - loss: 0.0027 - accuracy: 1.0000 - val_loss: 0.0192 - val_accuracy: 0.9909\n",
      "Epoch 64/120\n",
      "7/7 [==============================] - 0s 20ms/step - loss: 0.0027 - accuracy: 1.0000 - val_loss: 0.0192 - val_accuracy: 0.9909\n",
      "Epoch 65/120\n",
      "7/7 [==============================] - 0s 17ms/step - loss: 0.0027 - accuracy: 1.0000 - val_loss: 0.0192 - val_accuracy: 0.9909\n",
      "Epoch 66/120\n",
      "7/7 [==============================] - 0s 16ms/step - loss: 0.0027 - accuracy: 1.0000 - val_loss: 0.0192 - val_accuracy: 0.9909\n",
      "Epoch 67/120\n",
      "7/7 [==============================] - 0s 17ms/step - loss: 0.0026 - accuracy: 1.0000 - val_loss: 0.0192 - val_accuracy: 0.9909\n",
      "Epoch 68/120\n",
      "7/7 [==============================] - 0s 18ms/step - loss: 0.0026 - accuracy: 1.0000 - val_loss: 0.0192 - val_accuracy: 0.9909\n",
      "Epoch 69/120\n",
      "7/7 [==============================] - 0s 17ms/step - loss: 0.0026 - accuracy: 1.0000 - val_loss: 0.0192 - val_accuracy: 0.9909\n",
      "Epoch 70/120\n",
      "7/7 [==============================] - 0s 17ms/step - loss: 0.0026 - accuracy: 1.0000 - val_loss: 0.0192 - val_accuracy: 0.9909\n",
      "Epoch 71/120\n",
      "7/7 [==============================] - 0s 16ms/step - loss: 0.0026 - accuracy: 1.0000 - val_loss: 0.0192 - val_accuracy: 0.9909\n",
      "Epoch 72/120\n",
      "7/7 [==============================] - 0s 18ms/step - loss: 0.0026 - accuracy: 1.0000 - val_loss: 0.0192 - val_accuracy: 0.9909\n",
      "Epoch 73/120\n",
      "7/7 [==============================] - 0s 35ms/step - loss: 0.0026 - accuracy: 1.0000 - val_loss: 0.0192 - val_accuracy: 0.9909\n",
      "Epoch 74/120\n",
      "7/7 [==============================] - 0s 19ms/step - loss: 0.0026 - accuracy: 1.0000 - val_loss: 0.0192 - val_accuracy: 0.9909\n",
      "Epoch 75/120\n",
      "7/7 [==============================] - 0s 32ms/step - loss: 0.0026 - accuracy: 1.0000 - val_loss: 0.0191 - val_accuracy: 0.9909\n",
      "Epoch 76/120\n",
      "7/7 [==============================] - 0s 19ms/step - loss: 0.0026 - accuracy: 1.0000 - val_loss: 0.0191 - val_accuracy: 0.9909\n",
      "Epoch 77/120\n",
      "7/7 [==============================] - 0s 18ms/step - loss: 0.0026 - accuracy: 1.0000 - val_loss: 0.0191 - val_accuracy: 0.9909\n",
      "Epoch 78/120\n",
      "7/7 [==============================] - 0s 18ms/step - loss: 0.0026 - accuracy: 1.0000 - val_loss: 0.0192 - val_accuracy: 0.9909\n",
      "Epoch 79/120\n",
      "7/7 [==============================] - 0s 19ms/step - loss: 0.0025 - accuracy: 1.0000 - val_loss: 0.0191 - val_accuracy: 0.9909\n",
      "Epoch 80/120\n",
      "7/7 [==============================] - 0s 33ms/step - loss: 0.0025 - accuracy: 1.0000 - val_loss: 0.0191 - val_accuracy: 0.9909\n",
      "Epoch 81/120\n",
      "7/7 [==============================] - 0s 19ms/step - loss: 0.0025 - accuracy: 1.0000 - val_loss: 0.0191 - val_accuracy: 0.9909\n",
      "Epoch 82/120\n",
      "7/7 [==============================] - 0s 19ms/step - loss: 0.0025 - accuracy: 1.0000 - val_loss: 0.0191 - val_accuracy: 0.9909\n",
      "Epoch 83/120\n",
      "7/7 [==============================] - 0s 18ms/step - loss: 0.0025 - accuracy: 1.0000 - val_loss: 0.0191 - val_accuracy: 0.9909\n",
      "Epoch 84/120\n",
      "7/7 [==============================] - 0s 19ms/step - loss: 0.0025 - accuracy: 1.0000 - val_loss: 0.0191 - val_accuracy: 0.9909\n",
      "Epoch 85/120\n",
      "7/7 [==============================] - 0s 20ms/step - loss: 0.0025 - accuracy: 1.0000 - val_loss: 0.0191 - val_accuracy: 0.9909\n",
      "Epoch 86/120\n",
      "7/7 [==============================] - 0s 18ms/step - loss: 0.0025 - accuracy: 1.0000 - val_loss: 0.0191 - val_accuracy: 0.9909\n",
      "Epoch 87/120\n",
      "7/7 [==============================] - 0s 18ms/step - loss: 0.0025 - accuracy: 1.0000 - val_loss: 0.0191 - val_accuracy: 0.9909\n",
      "Epoch 88/120\n",
      "7/7 [==============================] - 0s 18ms/step - loss: 0.0025 - accuracy: 1.0000 - val_loss: 0.0191 - val_accuracy: 0.9909\n",
      "Epoch 89/120\n",
      "7/7 [==============================] - 0s 18ms/step - loss: 0.0025 - accuracy: 1.0000 - val_loss: 0.0191 - val_accuracy: 0.9909\n",
      "Epoch 90/120\n",
      "7/7 [==============================] - 0s 17ms/step - loss: 0.0025 - accuracy: 1.0000 - val_loss: 0.0190 - val_accuracy: 0.9909\n",
      "Epoch 91/120\n",
      "7/7 [==============================] - 0s 16ms/step - loss: 0.0025 - accuracy: 1.0000 - val_loss: 0.0190 - val_accuracy: 0.9909\n",
      "Epoch 92/120\n",
      "7/7 [==============================] - 0s 17ms/step - loss: 0.0024 - accuracy: 1.0000 - val_loss: 0.0190 - val_accuracy: 0.9909\n",
      "Epoch 93/120\n",
      "7/7 [==============================] - 0s 16ms/step - loss: 0.0024 - accuracy: 1.0000 - val_loss: 0.0190 - val_accuracy: 0.9909\n",
      "Epoch 94/120\n",
      "7/7 [==============================] - 0s 16ms/step - loss: 0.0024 - accuracy: 1.0000 - val_loss: 0.0190 - val_accuracy: 0.9909\n",
      "Epoch 95/120\n",
      "7/7 [==============================] - 0s 18ms/step - loss: 0.0024 - accuracy: 1.0000 - val_loss: 0.0190 - val_accuracy: 0.9909\n",
      "Epoch 96/120\n",
      "7/7 [==============================] - 0s 31ms/step - loss: 0.0024 - accuracy: 1.0000 - val_loss: 0.0190 - val_accuracy: 0.9909\n",
      "Epoch 97/120\n",
      "7/7 [==============================] - 0s 18ms/step - loss: 0.0024 - accuracy: 1.0000 - val_loss: 0.0190 - val_accuracy: 0.9909\n",
      "Epoch 98/120\n",
      "7/7 [==============================] - 0s 18ms/step - loss: 0.0024 - accuracy: 1.0000 - val_loss: 0.0190 - val_accuracy: 0.9909\n",
      "Epoch 99/120\n",
      "7/7 [==============================] - 0s 16ms/step - loss: 0.0024 - accuracy: 1.0000 - val_loss: 0.0190 - val_accuracy: 0.9909\n",
      "Epoch 100/120\n",
      "7/7 [==============================] - 0s 17ms/step - loss: 0.0024 - accuracy: 1.0000 - val_loss: 0.0190 - val_accuracy: 0.9909\n",
      "Epoch 101/120\n",
      "7/7 [==============================] - 0s 15ms/step - loss: 0.0024 - accuracy: 1.0000 - val_loss: 0.0190 - val_accuracy: 0.9909\n",
      "Epoch 102/120\n",
      "7/7 [==============================] - 0s 19ms/step - loss: 0.0024 - accuracy: 1.0000 - val_loss: 0.0190 - val_accuracy: 0.9909\n",
      "Epoch 103/120\n",
      "7/7 [==============================] - 0s 17ms/step - loss: 0.0024 - accuracy: 1.0000 - val_loss: 0.0190 - val_accuracy: 0.9909\n",
      "Epoch 104/120\n",
      "7/7 [==============================] - 0s 31ms/step - loss: 0.0024 - accuracy: 1.0000 - val_loss: 0.0190 - val_accuracy: 0.9909\n",
      "Epoch 105/120\n",
      "7/7 [==============================] - 0s 16ms/step - loss: 0.0024 - accuracy: 1.0000 - val_loss: 0.0190 - val_accuracy: 0.9909\n",
      "Epoch 106/120\n",
      "7/7 [==============================] - 0s 19ms/step - loss: 0.0023 - accuracy: 1.0000 - val_loss: 0.0190 - val_accuracy: 0.9909\n",
      "Epoch 107/120\n",
      "7/7 [==============================] - 0s 17ms/step - loss: 0.0023 - accuracy: 1.0000 - val_loss: 0.0190 - val_accuracy: 0.9909\n",
      "Epoch 108/120\n",
      "7/7 [==============================] - 0s 17ms/step - loss: 0.0023 - accuracy: 1.0000 - val_loss: 0.0189 - val_accuracy: 0.9909\n",
      "Epoch 109/120\n",
      "7/7 [==============================] - 0s 16ms/step - loss: 0.0023 - accuracy: 1.0000 - val_loss: 0.0189 - val_accuracy: 0.9909\n",
      "Epoch 110/120\n",
      "7/7 [==============================] - 0s 17ms/step - loss: 0.0023 - accuracy: 1.0000 - val_loss: 0.0189 - val_accuracy: 0.9909\n",
      "Epoch 111/120\n",
      "7/7 [==============================] - 0s 17ms/step - loss: 0.0023 - accuracy: 1.0000 - val_loss: 0.0189 - val_accuracy: 0.9909\n",
      "Epoch 112/120\n",
      "7/7 [==============================] - 0s 32ms/step - loss: 0.0023 - accuracy: 1.0000 - val_loss: 0.0189 - val_accuracy: 0.9909\n",
      "Epoch 113/120\n",
      "7/7 [==============================] - 0s 18ms/step - loss: 0.0023 - accuracy: 1.0000 - val_loss: 0.0189 - val_accuracy: 0.9909\n",
      "Epoch 114/120\n",
      "7/7 [==============================] - 0s 21ms/step - loss: 0.0023 - accuracy: 1.0000 - val_loss: 0.0189 - val_accuracy: 0.9909\n",
      "Epoch 115/120\n",
      "7/7 [==============================] - 0s 18ms/step - loss: 0.0023 - accuracy: 1.0000 - val_loss: 0.0189 - val_accuracy: 0.9909\n",
      "Epoch 116/120\n",
      "7/7 [==============================] - 0s 32ms/step - loss: 0.0023 - accuracy: 1.0000 - val_loss: 0.0189 - val_accuracy: 0.9909\n",
      "Epoch 117/120\n",
      "7/7 [==============================] - 0s 18ms/step - loss: 0.0023 - accuracy: 1.0000 - val_loss: 0.0189 - val_accuracy: 0.9909\n",
      "Epoch 118/120\n",
      "7/7 [==============================] - 0s 19ms/step - loss: 0.0023 - accuracy: 1.0000 - val_loss: 0.0189 - val_accuracy: 0.9909\n",
      "Epoch 119/120\n",
      "7/7 [==============================] - 0s 19ms/step - loss: 0.0023 - accuracy: 1.0000 - val_loss: 0.0189 - val_accuracy: 0.9909\n",
      "Epoch 120/120\n",
      "7/7 [==============================] - 0s 17ms/step - loss: 0.0023 - accuracy: 1.0000 - val_loss: 0.0188 - val_accuracy: 0.9909\n"
     ]
    }
   ],
   "source": [
    "history = model_B_on_A.fit(X_train_B, y_train_B, epochs=100,\n",
    "                           validation_data=(X_valid_B, y_valid_B))\n",
    "\n",
    "for layer in model_B_on_A.layers[:-1]:\n",
    "    layer.trainable = True\n",
    "\n",
    "model_B_on_A.compile(loss=\"binary_crossentropy\",\n",
    "                     optimizer=keras.optimizers.SGD(learning_rate=1e-3),\n",
    "                     metrics=[\"accuracy\"])\n",
    "history = model_B_on_A.fit(X_train_B, y_train_B, epochs=120,\n",
    "                           validation_data=(X_valid_B, y_valid_B))"
   ]
  },
  {
   "cell_type": "code",
   "execution_count": null,
   "metadata": {
    "colab": {
     "base_uri": "https://localhost:8080/"
    },
    "id": "UFTRDa8Rtg9k",
    "outputId": "3fe05f05-2cb7-4643-cc5c-b58f86c1ab78"
   },
   "outputs": [
    {
     "name": "stdout",
     "output_type": "stream",
     "text": [
      "63/63 [==============================] - 0s 2ms/step - loss: 0.0090 - accuracy: 0.9985\n"
     ]
    },
    {
     "data": {
      "text/plain": [
       "[0.00898818764835596, 0.9984999895095825]"
      ]
     },
     "execution_count": 27,
     "metadata": {},
     "output_type": "execute_result"
    }
   ],
   "source": [
    "model_B_on_A.evaluate(X_test_B, y_test_B)"
   ]
  },
  {
   "cell_type": "markdown",
   "metadata": {
    "id": "4fqJTYYguKNk"
   },
   "source": [
    "Accuracy : 0.9985"
   ]
  },
  {
   "cell_type": "code",
   "execution_count": null,
   "metadata": {
    "id": "rDyDjwVKvKOg"
   },
   "outputs": [],
   "source": []
  },
  {
   "cell_type": "code",
   "execution_count": null,
   "metadata": {
    "colab": {
     "base_uri": "https://localhost:8080/"
    },
    "id": "6oe6BO7LvKRH",
    "outputId": "5194d650-c42e-4fe7-ece3-71a46983239a"
   },
   "outputs": [
    {
     "name": "stdout",
     "output_type": "stream",
     "text": [
      "Epoch 1/20\n",
      "7/7 [==============================] - 0s 25ms/step - loss: 4.5727e-04 - accuracy: 1.0000 - val_loss: 0.0175 - val_accuracy: 0.9929\n",
      "Epoch 2/20\n",
      "7/7 [==============================] - 0s 19ms/step - loss: 4.5614e-04 - accuracy: 1.0000 - val_loss: 0.0175 - val_accuracy: 0.9929\n",
      "Epoch 3/20\n",
      "7/7 [==============================] - 0s 33ms/step - loss: 4.5515e-04 - accuracy: 1.0000 - val_loss: 0.0175 - val_accuracy: 0.9929\n",
      "Epoch 4/20\n",
      "7/7 [==============================] - 0s 19ms/step - loss: 4.5410e-04 - accuracy: 1.0000 - val_loss: 0.0175 - val_accuracy: 0.9929\n",
      "Epoch 5/20\n",
      "7/7 [==============================] - 0s 19ms/step - loss: 4.5287e-04 - accuracy: 1.0000 - val_loss: 0.0175 - val_accuracy: 0.9929\n",
      "Epoch 6/20\n",
      "7/7 [==============================] - 0s 21ms/step - loss: 4.5192e-04 - accuracy: 1.0000 - val_loss: 0.0175 - val_accuracy: 0.9929\n",
      "Epoch 7/20\n",
      "7/7 [==============================] - 0s 32ms/step - loss: 4.5088e-04 - accuracy: 1.0000 - val_loss: 0.0175 - val_accuracy: 0.9929\n",
      "Epoch 8/20\n",
      "7/7 [==============================] - 0s 19ms/step - loss: 4.4984e-04 - accuracy: 1.0000 - val_loss: 0.0175 - val_accuracy: 0.9929\n",
      "Epoch 9/20\n",
      "7/7 [==============================] - 0s 33ms/step - loss: 4.4888e-04 - accuracy: 1.0000 - val_loss: 0.0175 - val_accuracy: 0.9929\n",
      "Epoch 10/20\n",
      "7/7 [==============================] - 0s 20ms/step - loss: 4.4786e-04 - accuracy: 1.0000 - val_loss: 0.0175 - val_accuracy: 0.9929\n",
      "Epoch 11/20\n",
      "7/7 [==============================] - 0s 19ms/step - loss: 4.4686e-04 - accuracy: 1.0000 - val_loss: 0.0175 - val_accuracy: 0.9929\n",
      "Epoch 12/20\n",
      "7/7 [==============================] - 0s 18ms/step - loss: 4.4577e-04 - accuracy: 1.0000 - val_loss: 0.0175 - val_accuracy: 0.9929\n",
      "Epoch 13/20\n",
      "7/7 [==============================] - 0s 20ms/step - loss: 4.4420e-04 - accuracy: 1.0000 - val_loss: 0.0175 - val_accuracy: 0.9929\n",
      "Epoch 14/20\n",
      "7/7 [==============================] - 0s 19ms/step - loss: 4.4320e-04 - accuracy: 1.0000 - val_loss: 0.0175 - val_accuracy: 0.9929\n",
      "Epoch 15/20\n",
      "7/7 [==============================] - 0s 17ms/step - loss: 4.4228e-04 - accuracy: 1.0000 - val_loss: 0.0175 - val_accuracy: 0.9929\n",
      "Epoch 16/20\n",
      "7/7 [==============================] - 0s 17ms/step - loss: 4.4121e-04 - accuracy: 1.0000 - val_loss: 0.0175 - val_accuracy: 0.9929\n",
      "Epoch 17/20\n",
      "7/7 [==============================] - 0s 18ms/step - loss: 4.4030e-04 - accuracy: 1.0000 - val_loss: 0.0175 - val_accuracy: 0.9929\n",
      "Epoch 18/20\n",
      "7/7 [==============================] - 0s 17ms/step - loss: 4.3889e-04 - accuracy: 1.0000 - val_loss: 0.0175 - val_accuracy: 0.9929\n",
      "Epoch 19/20\n",
      "7/7 [==============================] - 0s 17ms/step - loss: 4.3776e-04 - accuracy: 1.0000 - val_loss: 0.0175 - val_accuracy: 0.9929\n",
      "Epoch 20/20\n",
      "7/7 [==============================] - 0s 31ms/step - loss: 4.3686e-04 - accuracy: 1.0000 - val_loss: 0.0175 - val_accuracy: 0.9929\n",
      "Epoch 1/16\n",
      "7/7 [==============================] - 1s 49ms/step - loss: 4.3598e-04 - accuracy: 1.0000 - val_loss: 0.0175 - val_accuracy: 0.9929\n",
      "Epoch 2/16\n",
      "7/7 [==============================] - 0s 19ms/step - loss: 4.3497e-04 - accuracy: 1.0000 - val_loss: 0.0175 - val_accuracy: 0.9929\n",
      "Epoch 3/16\n",
      "7/7 [==============================] - 0s 21ms/step - loss: 4.3393e-04 - accuracy: 1.0000 - val_loss: 0.0175 - val_accuracy: 0.9929\n",
      "Epoch 4/16\n",
      "7/7 [==============================] - 0s 19ms/step - loss: 4.3299e-04 - accuracy: 1.0000 - val_loss: 0.0175 - val_accuracy: 0.9929\n",
      "Epoch 5/16\n",
      "7/7 [==============================] - 0s 19ms/step - loss: 4.3213e-04 - accuracy: 1.0000 - val_loss: 0.0175 - val_accuracy: 0.9929\n",
      "Epoch 6/16\n",
      "7/7 [==============================] - 0s 19ms/step - loss: 4.3117e-04 - accuracy: 1.0000 - val_loss: 0.0175 - val_accuracy: 0.9929\n",
      "Epoch 7/16\n",
      "7/7 [==============================] - 0s 32ms/step - loss: 4.3014e-04 - accuracy: 1.0000 - val_loss: 0.0175 - val_accuracy: 0.9929\n",
      "Epoch 8/16\n",
      "7/7 [==============================] - 0s 20ms/step - loss: 4.2930e-04 - accuracy: 1.0000 - val_loss: 0.0175 - val_accuracy: 0.9929\n",
      "Epoch 9/16\n",
      "7/7 [==============================] - 0s 33ms/step - loss: 4.2835e-04 - accuracy: 1.0000 - val_loss: 0.0175 - val_accuracy: 0.9929\n",
      "Epoch 10/16\n",
      "7/7 [==============================] - 0s 20ms/step - loss: 4.2741e-04 - accuracy: 1.0000 - val_loss: 0.0175 - val_accuracy: 0.9929\n",
      "Epoch 11/16\n",
      "7/7 [==============================] - 0s 19ms/step - loss: 4.2659e-04 - accuracy: 1.0000 - val_loss: 0.0175 - val_accuracy: 0.9929\n",
      "Epoch 12/16\n",
      "7/7 [==============================] - 0s 18ms/step - loss: 4.2559e-04 - accuracy: 1.0000 - val_loss: 0.0175 - val_accuracy: 0.9929\n",
      "Epoch 13/16\n",
      "7/7 [==============================] - 0s 19ms/step - loss: 4.2468e-04 - accuracy: 1.0000 - val_loss: 0.0175 - val_accuracy: 0.9929\n",
      "Epoch 14/16\n",
      "7/7 [==============================] - 0s 17ms/step - loss: 4.2372e-04 - accuracy: 1.0000 - val_loss: 0.0175 - val_accuracy: 0.9929\n",
      "Epoch 15/16\n",
      "7/7 [==============================] - 0s 18ms/step - loss: 4.2273e-04 - accuracy: 1.0000 - val_loss: 0.0175 - val_accuracy: 0.9929\n",
      "Epoch 16/16\n",
      "7/7 [==============================] - 0s 19ms/step - loss: 4.2198e-04 - accuracy: 1.0000 - val_loss: 0.0175 - val_accuracy: 0.9929\n"
     ]
    }
   ],
   "source": [
    "history = model_B_on_A.fit(X_train_B, y_train_B, epochs=20,\n",
    "                           validation_data=(X_valid_B, y_valid_B))\n",
    "\n",
    "for layer in model_B_on_A.layers[:-1]:\n",
    "    layer.trainable = True\n",
    "\n",
    "model_B_on_A.compile(loss=\"binary_crossentropy\", optimizer=keras.optimizers.Adagrad(learning_rate=1e-3), metrics=[\"accuracy\"])\n",
    "history = model_B_on_A.fit(X_train_B, y_train_B, epochs=16,\n",
    "                           validation_data=(X_valid_B, y_valid_B))\n"
   ]
  },
  {
   "cell_type": "code",
   "execution_count": null,
   "metadata": {
    "colab": {
     "base_uri": "https://localhost:8080/"
    },
    "id": "QNAM3mXevKTv",
    "outputId": "f61d5b15-76fe-45a7-a3ca-5b635620f41b"
   },
   "outputs": [
    {
     "name": "stdout",
     "output_type": "stream",
     "text": [
      "63/63 [==============================] - 0s 3ms/step - loss: 0.0057 - accuracy: 0.9985\n"
     ]
    },
    {
     "data": {
      "text/plain": [
       "[0.005740430671721697, 0.9984999895095825]"
      ]
     },
     "execution_count": 38,
     "metadata": {},
     "output_type": "execute_result"
    }
   ],
   "source": [
    "model_B_on_A.evaluate(X_test_B, y_test_B)"
   ]
  },
  {
   "cell_type": "markdown",
   "metadata": {
    "id": "qMNjd14wwqaf"
   },
   "source": [
    "Accuracy : 0.9985"
   ]
  }
 ],
 "metadata": {
  "colab": {
   "name": "Homework3_DL.ipynb",
   "provenance": []
  },
  "kernelspec": {
   "display_name": "Python 3 (ipykernel)",
   "language": "python",
   "name": "python3"
  },
  "language_info": {
   "codemirror_mode": {
    "name": "ipython",
    "version": 3
   },
   "file_extension": ".py",
   "mimetype": "text/x-python",
   "name": "python",
   "nbconvert_exporter": "python",
   "pygments_lexer": "ipython3",
   "version": "3.8.2"
  }
 },
 "nbformat": 4,
 "nbformat_minor": 1
}
