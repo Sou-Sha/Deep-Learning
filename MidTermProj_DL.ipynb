{
 "cells": [
  {
   "cell_type": "markdown",
   "id": "d92ac340",
   "metadata": {},
   "source": [
    "Kaggle Competition Practice: Digit Recognizer\n",
    "\n",
    "You will build DNN to compete with worldwide teams.\n",
    "\n",
    "https://www.kaggle.com/c/digit-recognizer"
   ]
  },
  {
   "cell_type": "markdown",
   "id": "59b939db",
   "metadata": {},
   "source": [
    "SoumyaSharma102\n",
    "Score: 0.99242"
   ]
  },
  {
   "cell_type": "code",
   "execution_count": 1,
   "id": "b7df1654",
   "metadata": {
    "_cell_guid": "b1076dfc-b9ad-4769-8c92-a6c4dae69d19",
    "_uuid": "8f2839f25d086af736a60e9eeb907d3b93b6e0e5",
    "execution": {
     "iopub.execute_input": "2022-03-13T19:51:08.526739Z",
     "iopub.status.busy": "2022-03-13T19:51:08.519514Z",
     "iopub.status.idle": "2022-03-13T19:51:08.533116Z",
     "shell.execute_reply": "2022-03-13T19:51:08.533653Z",
     "shell.execute_reply.started": "2022-03-13T18:45:46.165825Z"
    },
    "papermill": {
     "duration": 0.030746,
     "end_time": "2022-03-13T19:51:08.533949",
     "exception": false,
     "start_time": "2022-03-13T19:51:08.503203",
     "status": "completed"
    },
    "tags": []
   },
   "outputs": [
    {
     "name": "stdout",
     "output_type": "stream",
     "text": [
      "/kaggle/input/digit-recognizer/sample_submission.csv\n",
      "/kaggle/input/digit-recognizer/train.csv\n",
      "/kaggle/input/digit-recognizer/test.csv\n"
     ]
    }
   ],
   "source": [
    "# This Python 3 environment comes with many helpful analytics libraries installed\n",
    "# It is defined by the kaggle/python Docker image: https://github.com/kaggle/docker-python\n",
    "# For example, here's several helpful packages to load\n",
    "\n",
    "import numpy as np # linear algebra\n",
    "import pandas as pd # data processing, CSV file I/O (e.g. pd.read_csv)\n",
    "\n",
    "# Input data files are available in the read-only \"../input/\" directory\n",
    "# For example, running this (by clicking run or pressing Shift+Enter) will list all files under the input directory\n",
    "\n",
    "import os\n",
    "for dirname, _, filenames in os.walk('/kaggle/input'):\n",
    "    for filename in filenames:\n",
    "        print(os.path.join(dirname, filename))\n",
    "\n",
    "# You can write up to 20GB to the current directory (/kaggle/working/) that gets preserved as output when you create a version using \"Save & Run All\" \n",
    "# You can also write temporary files to /kaggle/temp/, but they won't be saved outside of the current session"
   ]
  },
  {
   "cell_type": "code",
   "execution_count": 2,
   "id": "8ea1891d",
   "metadata": {
    "execution": {
     "iopub.execute_input": "2022-03-13T19:51:08.568336Z",
     "iopub.status.busy": "2022-03-13T19:51:08.566782Z",
     "iopub.status.idle": "2022-03-13T19:51:14.056835Z",
     "shell.execute_reply": "2022-03-13T19:51:14.057339Z",
     "shell.execute_reply.started": "2022-03-13T18:45:48.645228Z"
    },
    "papermill": {
     "duration": 5.509048,
     "end_time": "2022-03-13T19:51:14.057516",
     "exception": false,
     "start_time": "2022-03-13T19:51:08.548468",
     "status": "completed"
    },
    "tags": []
   },
   "outputs": [],
   "source": [
    "import numpy as np\n",
    "import pandas as pd\n",
    "import matplotlib.pyplot as plt\n",
    "%matplotlib inline\n",
    "import seaborn as sns\n",
    "import tensorflow as tf\n",
    "from tensorflow import keras\n",
    "\n",
    "from keras.utils.np_utils import to_categorical\n",
    "from sklearn.model_selection import train_test_split\n",
    "\n",
    "from keras.layers import Input,InputLayer, Dense, Activation, ZeroPadding2D, BatchNormalization, Flatten, Conv2D\n",
    "from keras.layers import AveragePooling2D, MaxPooling2D, Dropout\n",
    "from keras.models import Sequential,Model\n",
    "from keras.callbacks import ModelCheckpoint,LearningRateScheduler\n",
    "import keras\n",
    "from keras import backend as K"
   ]
  },
  {
   "cell_type": "code",
   "execution_count": 3,
   "id": "bec10850",
   "metadata": {
    "execution": {
     "iopub.execute_input": "2022-03-13T19:51:14.086234Z",
     "iopub.status.busy": "2022-03-13T19:51:14.085531Z",
     "iopub.status.idle": "2022-03-13T19:51:19.387103Z",
     "shell.execute_reply": "2022-03-13T19:51:19.387578Z",
     "shell.execute_reply.started": "2022-03-13T18:46:10.611611Z"
    },
    "papermill": {
     "duration": 5.318484,
     "end_time": "2022-03-13T19:51:19.387739",
     "exception": false,
     "start_time": "2022-03-13T19:51:14.069255",
     "status": "completed"
    },
    "tags": []
   },
   "outputs": [
    {
     "data": {
      "text/html": [
       "<div>\n",
       "<style scoped>\n",
       "    .dataframe tbody tr th:only-of-type {\n",
       "        vertical-align: middle;\n",
       "    }\n",
       "\n",
       "    .dataframe tbody tr th {\n",
       "        vertical-align: top;\n",
       "    }\n",
       "\n",
       "    .dataframe thead th {\n",
       "        text-align: right;\n",
       "    }\n",
       "</style>\n",
       "<table border=\"1\" class=\"dataframe\">\n",
       "  <thead>\n",
       "    <tr style=\"text-align: right;\">\n",
       "      <th></th>\n",
       "      <th>label</th>\n",
       "      <th>pixel0</th>\n",
       "      <th>pixel1</th>\n",
       "      <th>pixel2</th>\n",
       "      <th>pixel3</th>\n",
       "      <th>pixel4</th>\n",
       "      <th>pixel5</th>\n",
       "      <th>pixel6</th>\n",
       "      <th>pixel7</th>\n",
       "      <th>pixel8</th>\n",
       "      <th>...</th>\n",
       "      <th>pixel774</th>\n",
       "      <th>pixel775</th>\n",
       "      <th>pixel776</th>\n",
       "      <th>pixel777</th>\n",
       "      <th>pixel778</th>\n",
       "      <th>pixel779</th>\n",
       "      <th>pixel780</th>\n",
       "      <th>pixel781</th>\n",
       "      <th>pixel782</th>\n",
       "      <th>pixel783</th>\n",
       "    </tr>\n",
       "  </thead>\n",
       "  <tbody>\n",
       "    <tr>\n",
       "      <th>0</th>\n",
       "      <td>1</td>\n",
       "      <td>0</td>\n",
       "      <td>0</td>\n",
       "      <td>0</td>\n",
       "      <td>0</td>\n",
       "      <td>0</td>\n",
       "      <td>0</td>\n",
       "      <td>0</td>\n",
       "      <td>0</td>\n",
       "      <td>0</td>\n",
       "      <td>...</td>\n",
       "      <td>0</td>\n",
       "      <td>0</td>\n",
       "      <td>0</td>\n",
       "      <td>0</td>\n",
       "      <td>0</td>\n",
       "      <td>0</td>\n",
       "      <td>0</td>\n",
       "      <td>0</td>\n",
       "      <td>0</td>\n",
       "      <td>0</td>\n",
       "    </tr>\n",
       "    <tr>\n",
       "      <th>1</th>\n",
       "      <td>0</td>\n",
       "      <td>0</td>\n",
       "      <td>0</td>\n",
       "      <td>0</td>\n",
       "      <td>0</td>\n",
       "      <td>0</td>\n",
       "      <td>0</td>\n",
       "      <td>0</td>\n",
       "      <td>0</td>\n",
       "      <td>0</td>\n",
       "      <td>...</td>\n",
       "      <td>0</td>\n",
       "      <td>0</td>\n",
       "      <td>0</td>\n",
       "      <td>0</td>\n",
       "      <td>0</td>\n",
       "      <td>0</td>\n",
       "      <td>0</td>\n",
       "      <td>0</td>\n",
       "      <td>0</td>\n",
       "      <td>0</td>\n",
       "    </tr>\n",
       "    <tr>\n",
       "      <th>2</th>\n",
       "      <td>1</td>\n",
       "      <td>0</td>\n",
       "      <td>0</td>\n",
       "      <td>0</td>\n",
       "      <td>0</td>\n",
       "      <td>0</td>\n",
       "      <td>0</td>\n",
       "      <td>0</td>\n",
       "      <td>0</td>\n",
       "      <td>0</td>\n",
       "      <td>...</td>\n",
       "      <td>0</td>\n",
       "      <td>0</td>\n",
       "      <td>0</td>\n",
       "      <td>0</td>\n",
       "      <td>0</td>\n",
       "      <td>0</td>\n",
       "      <td>0</td>\n",
       "      <td>0</td>\n",
       "      <td>0</td>\n",
       "      <td>0</td>\n",
       "    </tr>\n",
       "    <tr>\n",
       "      <th>3</th>\n",
       "      <td>4</td>\n",
       "      <td>0</td>\n",
       "      <td>0</td>\n",
       "      <td>0</td>\n",
       "      <td>0</td>\n",
       "      <td>0</td>\n",
       "      <td>0</td>\n",
       "      <td>0</td>\n",
       "      <td>0</td>\n",
       "      <td>0</td>\n",
       "      <td>...</td>\n",
       "      <td>0</td>\n",
       "      <td>0</td>\n",
       "      <td>0</td>\n",
       "      <td>0</td>\n",
       "      <td>0</td>\n",
       "      <td>0</td>\n",
       "      <td>0</td>\n",
       "      <td>0</td>\n",
       "      <td>0</td>\n",
       "      <td>0</td>\n",
       "    </tr>\n",
       "    <tr>\n",
       "      <th>4</th>\n",
       "      <td>0</td>\n",
       "      <td>0</td>\n",
       "      <td>0</td>\n",
       "      <td>0</td>\n",
       "      <td>0</td>\n",
       "      <td>0</td>\n",
       "      <td>0</td>\n",
       "      <td>0</td>\n",
       "      <td>0</td>\n",
       "      <td>0</td>\n",
       "      <td>...</td>\n",
       "      <td>0</td>\n",
       "      <td>0</td>\n",
       "      <td>0</td>\n",
       "      <td>0</td>\n",
       "      <td>0</td>\n",
       "      <td>0</td>\n",
       "      <td>0</td>\n",
       "      <td>0</td>\n",
       "      <td>0</td>\n",
       "      <td>0</td>\n",
       "    </tr>\n",
       "  </tbody>\n",
       "</table>\n",
       "<p>5 rows × 785 columns</p>\n",
       "</div>"
      ],
      "text/plain": [
       "   label  pixel0  pixel1  pixel2  pixel3  pixel4  pixel5  pixel6  pixel7  \\\n",
       "0      1       0       0       0       0       0       0       0       0   \n",
       "1      0       0       0       0       0       0       0       0       0   \n",
       "2      1       0       0       0       0       0       0       0       0   \n",
       "3      4       0       0       0       0       0       0       0       0   \n",
       "4      0       0       0       0       0       0       0       0       0   \n",
       "\n",
       "   pixel8  ...  pixel774  pixel775  pixel776  pixel777  pixel778  pixel779  \\\n",
       "0       0  ...         0         0         0         0         0         0   \n",
       "1       0  ...         0         0         0         0         0         0   \n",
       "2       0  ...         0         0         0         0         0         0   \n",
       "3       0  ...         0         0         0         0         0         0   \n",
       "4       0  ...         0         0         0         0         0         0   \n",
       "\n",
       "   pixel780  pixel781  pixel782  pixel783  \n",
       "0         0         0         0         0  \n",
       "1         0         0         0         0  \n",
       "2         0         0         0         0  \n",
       "3         0         0         0         0  \n",
       "4         0         0         0         0  \n",
       "\n",
       "[5 rows x 785 columns]"
      ]
     },
     "execution_count": 3,
     "metadata": {},
     "output_type": "execute_result"
    }
   ],
   "source": [
    "train = pd.read_csv(\"/kaggle/input/digit-recognizer/train.csv\")\n",
    "test = pd.read_csv(\"/kaggle/input/digit-recognizer/test.csv\")\n",
    "train.head()"
   ]
  },
  {
   "cell_type": "code",
   "execution_count": 4,
   "id": "e008ff70",
   "metadata": {
    "execution": {
     "iopub.execute_input": "2022-03-13T19:51:19.504709Z",
     "iopub.status.busy": "2022-03-13T19:51:19.503535Z",
     "iopub.status.idle": "2022-03-13T19:51:19.598789Z",
     "shell.execute_reply": "2022-03-13T19:51:19.599252Z",
     "shell.execute_reply.started": "2022-03-13T18:46:18.252359Z"
    },
    "papermill": {
     "duration": 0.197655,
     "end_time": "2022-03-13T19:51:19.599413",
     "exception": false,
     "start_time": "2022-03-13T19:51:19.401758",
     "status": "completed"
    },
    "tags": []
   },
   "outputs": [
    {
     "data": {
      "text/plain": [
       "((42000, 784), (42000,), (28000, 784))"
      ]
     },
     "execution_count": 4,
     "metadata": {},
     "output_type": "execute_result"
    }
   ],
   "source": [
    "y_train = train['label'].astype('float32')\n",
    "X_train = train.drop(['label'], axis=1).astype('int32')\n",
    "X_test = test.astype('float32')\n",
    "X_train.shape, y_train.shape, X_test.shape"
   ]
  },
  {
   "cell_type": "code",
   "execution_count": 5,
   "id": "57bfa178",
   "metadata": {
    "execution": {
     "iopub.execute_input": "2022-03-13T19:51:19.642211Z",
     "iopub.status.busy": "2022-03-13T19:51:19.641239Z",
     "iopub.status.idle": "2022-03-13T19:51:19.800540Z",
     "shell.execute_reply": "2022-03-13T19:51:19.800990Z",
     "shell.execute_reply.started": "2022-03-13T18:46:20.296909Z"
    },
    "papermill": {
     "duration": 0.189124,
     "end_time": "2022-03-13T19:51:19.801164",
     "exception": false,
     "start_time": "2022-03-13T19:51:19.612040",
     "status": "completed"
    },
    "tags": []
   },
   "outputs": [],
   "source": [
    "X_train = X_train/255\n",
    "X_test = X_test/255\n",
    "\n",
    "X_train = X_train.values.reshape(-1,28,28,1)\n",
    "X_test = X_test.values.reshape(-1,28,28,1)\n",
    "\n",
    "y_train = to_categorical(y_train, num_classes = 10)"
   ]
  },
  {
   "cell_type": "code",
   "execution_count": 6,
   "id": "e9f8ba97",
   "metadata": {
    "execution": {
     "iopub.execute_input": "2022-03-13T19:51:19.832424Z",
     "iopub.status.busy": "2022-03-13T19:51:19.827896Z",
     "iopub.status.idle": "2022-03-13T19:51:20.206054Z",
     "shell.execute_reply": "2022-03-13T19:51:20.204835Z",
     "shell.execute_reply.started": "2022-03-13T18:46:22.099000Z"
    },
    "papermill": {
     "duration": 0.392634,
     "end_time": "2022-03-13T19:51:20.206207",
     "exception": false,
     "start_time": "2022-03-13T19:51:19.813573",
     "status": "completed"
    },
    "tags": []
   },
   "outputs": [],
   "source": [
    "X_train, X_valid, y_train, y_valid = train_test_split(X_train, y_train, test_size = 0.1, random_state=42)"
   ]
  },
  {
   "cell_type": "code",
   "execution_count": 7,
   "id": "edc2e357",
   "metadata": {
    "execution": {
     "iopub.execute_input": "2022-03-13T19:51:20.242705Z",
     "iopub.status.busy": "2022-03-13T19:51:20.242159Z",
     "iopub.status.idle": "2022-03-13T19:51:22.526143Z",
     "shell.execute_reply": "2022-03-13T19:51:22.525529Z",
     "shell.execute_reply.started": "2022-03-13T18:46:24.580020Z"
    },
    "papermill": {
     "duration": 2.307535,
     "end_time": "2022-03-13T19:51:22.526277",
     "exception": false,
     "start_time": "2022-03-13T19:51:20.218742",
     "status": "completed"
    },
    "tags": []
   },
   "outputs": [
    {
     "name": "stdout",
     "output_type": "stream",
     "text": [
      "Model: \"Predict\"\n",
      "_________________________________________________________________\n",
      "Layer (type)                 Output Shape              Param #   \n",
      "=================================================================\n",
      "input_1 (InputLayer)         [(None, 28, 28, 1)]       0         \n",
      "_________________________________________________________________\n",
      "layer_conv1 (Conv2D)         (None, 28, 28, 64)        640       \n",
      "_________________________________________________________________\n",
      "batch_normalization (BatchNo (None, 28, 28, 64)        256       \n",
      "_________________________________________________________________\n",
      "activation (Activation)      (None, 28, 28, 64)        0         \n",
      "_________________________________________________________________\n",
      "maxPool1 (MaxPooling2D)      (None, 14, 14, 64)        0         \n",
      "_________________________________________________________________\n",
      "layer_conv2 (Conv2D)         (None, 14, 14, 32)        18464     \n",
      "_________________________________________________________________\n",
      "batch_normalization_1 (Batch (None, 14, 14, 32)        128       \n",
      "_________________________________________________________________\n",
      "activation_1 (Activation)    (None, 14, 14, 32)        0         \n",
      "_________________________________________________________________\n",
      "maxPool2 (MaxPooling2D)      (None, 7, 7, 32)          0         \n",
      "_________________________________________________________________\n",
      "conv3 (Conv2D)               (None, 7, 7, 32)          9248      \n",
      "_________________________________________________________________\n",
      "batch_normalization_2 (Batch (None, 7, 7, 32)          128       \n",
      "_________________________________________________________________\n",
      "activation_2 (Activation)    (None, 7, 7, 32)          0         \n",
      "_________________________________________________________________\n",
      "maxPool3 (MaxPooling2D)      (None, 3, 3, 32)          0         \n",
      "_________________________________________________________________\n",
      "flatten (Flatten)            (None, 288)               0         \n",
      "_________________________________________________________________\n",
      "fc0 (Dense)                  (None, 64)                18496     \n",
      "_________________________________________________________________\n",
      "dropout (Dropout)            (None, 64)                0         \n",
      "_________________________________________________________________\n",
      "fc1 (Dense)                  (None, 32)                2080      \n",
      "_________________________________________________________________\n",
      "dropout_1 (Dropout)          (None, 32)                0         \n",
      "_________________________________________________________________\n",
      "fc2 (Dense)                  (None, 10)                330       \n",
      "=================================================================\n",
      "Total params: 49,770\n",
      "Trainable params: 49,514\n",
      "Non-trainable params: 256\n",
      "_________________________________________________________________\n"
     ]
    },
    {
     "name": "stderr",
     "output_type": "stream",
     "text": [
      "2022-03-13 19:51:20.328085: I tensorflow/stream_executor/cuda/cuda_gpu_executor.cc:937] successful NUMA node read from SysFS had negative value (-1), but there must be at least one NUMA node, so returning NUMA node zero\n",
      "2022-03-13 19:51:20.422383: I tensorflow/stream_executor/cuda/cuda_gpu_executor.cc:937] successful NUMA node read from SysFS had negative value (-1), but there must be at least one NUMA node, so returning NUMA node zero\n",
      "2022-03-13 19:51:20.423115: I tensorflow/stream_executor/cuda/cuda_gpu_executor.cc:937] successful NUMA node read from SysFS had negative value (-1), but there must be at least one NUMA node, so returning NUMA node zero\n",
      "2022-03-13 19:51:20.424323: I tensorflow/core/platform/cpu_feature_guard.cc:142] This TensorFlow binary is optimized with oneAPI Deep Neural Network Library (oneDNN) to use the following CPU instructions in performance-critical operations:  AVX2 AVX512F FMA\n",
      "To enable them in other operations, rebuild TensorFlow with the appropriate compiler flags.\n",
      "2022-03-13 19:51:20.425354: I tensorflow/stream_executor/cuda/cuda_gpu_executor.cc:937] successful NUMA node read from SysFS had negative value (-1), but there must be at least one NUMA node, so returning NUMA node zero\n",
      "2022-03-13 19:51:20.426047: I tensorflow/stream_executor/cuda/cuda_gpu_executor.cc:937] successful NUMA node read from SysFS had negative value (-1), but there must be at least one NUMA node, so returning NUMA node zero\n",
      "2022-03-13 19:51:20.426664: I tensorflow/stream_executor/cuda/cuda_gpu_executor.cc:937] successful NUMA node read from SysFS had negative value (-1), but there must be at least one NUMA node, so returning NUMA node zero\n",
      "2022-03-13 19:51:22.091210: I tensorflow/stream_executor/cuda/cuda_gpu_executor.cc:937] successful NUMA node read from SysFS had negative value (-1), but there must be at least one NUMA node, so returning NUMA node zero\n",
      "2022-03-13 19:51:22.092042: I tensorflow/stream_executor/cuda/cuda_gpu_executor.cc:937] successful NUMA node read from SysFS had negative value (-1), but there must be at least one NUMA node, so returning NUMA node zero\n",
      "2022-03-13 19:51:22.092714: I tensorflow/stream_executor/cuda/cuda_gpu_executor.cc:937] successful NUMA node read from SysFS had negative value (-1), but there must be at least one NUMA node, so returning NUMA node zero\n",
      "2022-03-13 19:51:22.093293: I tensorflow/core/common_runtime/gpu/gpu_device.cc:1510] Created device /job:localhost/replica:0/task:0/device:GPU:0 with 15403 MB memory:  -> device: 0, name: Tesla P100-PCIE-16GB, pci bus id: 0000:00:04.0, compute capability: 6.0\n"
     ]
    }
   ],
   "source": [
    "input_shape = (28,28,1)\n",
    "X_input = Input(input_shape)\n",
    "\n",
    "# layer 1\n",
    "x = Conv2D(64,(3,3),strides=(1,1),name='layer_conv1',padding='same')(X_input)\n",
    "x = BatchNormalization()(x)\n",
    "x = Activation('relu')(x)\n",
    "x = MaxPooling2D((2,2),name='maxPool1')(x)\n",
    "# layer 2\n",
    "x = Conv2D(32,(3,3),strides=(1,1),name='layer_conv2',padding='same')(x)\n",
    "x = BatchNormalization()(x)\n",
    "x = Activation('relu')(x)\n",
    "x = MaxPooling2D((2,2),name='maxPool2')(x)\n",
    "# layer 3\n",
    "x = Conv2D(32,(3,3),strides=(1,1),name='conv3',padding='same')(x)\n",
    "x = BatchNormalization()(x)\n",
    "x = Activation('relu')(x)\n",
    "x = MaxPooling2D((2,2), name='maxPool3')(x)\n",
    "# fc\n",
    "x = Flatten()(x)\n",
    "x = Dense(64,activation ='relu',name='fc0')(x)\n",
    "x = Dropout(0.25)(x)\n",
    "x = Dense(32,activation ='relu',name='fc1')(x)\n",
    "x = Dropout(0.25)(x)\n",
    "x = Dense(10,activation ='softmax',name='fc2')(x)\n",
    "\n",
    "model_A = Model(inputs=X_input, outputs=x, name='Predict')\n",
    "model_A.summary()"
   ]
  },
  {
   "cell_type": "code",
   "execution_count": 8,
   "id": "5dd19db0",
   "metadata": {
    "execution": {
     "iopub.execute_input": "2022-03-13T19:51:22.563229Z",
     "iopub.status.busy": "2022-03-13T19:51:22.562571Z",
     "iopub.status.idle": "2022-03-13T19:52:45.389807Z",
     "shell.execute_reply": "2022-03-13T19:52:45.390260Z",
     "shell.execute_reply.started": "2022-03-13T18:46:52.268048Z"
    },
    "papermill": {
     "duration": 82.850011,
     "end_time": "2022-03-13T19:52:45.390430",
     "exception": false,
     "start_time": "2022-03-13T19:51:22.540419",
     "status": "completed"
    },
    "tags": []
   },
   "outputs": [
    {
     "name": "stderr",
     "output_type": "stream",
     "text": [
      "2022-03-13 19:51:22.884556: I tensorflow/compiler/mlir/mlir_graph_optimization_pass.cc:185] None of the MLIR Optimization Passes are enabled (registered 2)\n"
     ]
    },
    {
     "name": "stdout",
     "output_type": "stream",
     "text": [
      "Epoch 1/30\n"
     ]
    },
    {
     "name": "stderr",
     "output_type": "stream",
     "text": [
      "2022-03-13 19:51:24.285850: I tensorflow/stream_executor/cuda/cuda_dnn.cc:369] Loaded cuDNN version 8005\n"
     ]
    },
    {
     "name": "stdout",
     "output_type": "stream",
     "text": [
      "378/378 [==============================] - 9s 6ms/step - loss: 1.8001 - accuracy: 0.3793 - val_loss: 1.9774 - val_accuracy: 0.3667\n",
      "Epoch 2/30\n",
      "378/378 [==============================] - 2s 5ms/step - loss: 1.2106 - accuracy: 0.6011 - val_loss: 0.7610 - val_accuracy: 0.8643\n",
      "Epoch 3/30\n",
      "378/378 [==============================] - 2s 5ms/step - loss: 0.9395 - accuracy: 0.7025 - val_loss: 0.5190 - val_accuracy: 0.9062\n",
      "Epoch 4/30\n",
      "378/378 [==============================] - 2s 5ms/step - loss: 0.7759 - accuracy: 0.7604 - val_loss: 0.3975 - val_accuracy: 0.9248\n",
      "Epoch 5/30\n",
      "378/378 [==============================] - 2s 5ms/step - loss: 0.6748 - accuracy: 0.7943 - val_loss: 0.3315 - val_accuracy: 0.9352\n",
      "Epoch 6/30\n",
      "378/378 [==============================] - 2s 5ms/step - loss: 0.5946 - accuracy: 0.8237 - val_loss: 0.2804 - val_accuracy: 0.9443\n",
      "Epoch 7/30\n",
      "378/378 [==============================] - 2s 5ms/step - loss: 0.5416 - accuracy: 0.8371 - val_loss: 0.2457 - val_accuracy: 0.9474\n",
      "Epoch 8/30\n",
      "378/378 [==============================] - 2s 5ms/step - loss: 0.4916 - accuracy: 0.8540 - val_loss: 0.2212 - val_accuracy: 0.9533\n",
      "Epoch 9/30\n",
      "378/378 [==============================] - 2s 5ms/step - loss: 0.4561 - accuracy: 0.8668 - val_loss: 0.2027 - val_accuracy: 0.9562\n",
      "Epoch 10/30\n",
      "378/378 [==============================] - 2s 5ms/step - loss: 0.4287 - accuracy: 0.8754 - val_loss: 0.1836 - val_accuracy: 0.9598\n",
      "Epoch 11/30\n",
      "378/378 [==============================] - 2s 5ms/step - loss: 0.4036 - accuracy: 0.8818 - val_loss: 0.1711 - val_accuracy: 0.9624\n",
      "Epoch 12/30\n",
      "378/378 [==============================] - 2s 5ms/step - loss: 0.3787 - accuracy: 0.8897 - val_loss: 0.1612 - val_accuracy: 0.9640\n",
      "Epoch 13/30\n",
      "378/378 [==============================] - 2s 6ms/step - loss: 0.3589 - accuracy: 0.8962 - val_loss: 0.1512 - val_accuracy: 0.9657\n",
      "Epoch 14/30\n",
      "378/378 [==============================] - 2s 5ms/step - loss: 0.3462 - accuracy: 0.9002 - val_loss: 0.1457 - val_accuracy: 0.9662\n",
      "Epoch 15/30\n",
      "378/378 [==============================] - 2s 5ms/step - loss: 0.3270 - accuracy: 0.9051 - val_loss: 0.1373 - val_accuracy: 0.9676\n",
      "Epoch 16/30\n",
      "378/378 [==============================] - 2s 5ms/step - loss: 0.3265 - accuracy: 0.9051 - val_loss: 0.1330 - val_accuracy: 0.9686\n",
      "Epoch 17/30\n",
      "378/378 [==============================] - 2s 5ms/step - loss: 0.3035 - accuracy: 0.9127 - val_loss: 0.1262 - val_accuracy: 0.9686\n",
      "Epoch 18/30\n",
      "378/378 [==============================] - 2s 5ms/step - loss: 0.2907 - accuracy: 0.9158 - val_loss: 0.1225 - val_accuracy: 0.9690\n",
      "Epoch 19/30\n",
      "378/378 [==============================] - 2s 5ms/step - loss: 0.2829 - accuracy: 0.9185 - val_loss: 0.1179 - val_accuracy: 0.9712\n",
      "Epoch 20/30\n",
      "378/378 [==============================] - 2s 5ms/step - loss: 0.2771 - accuracy: 0.9211 - val_loss: 0.1142 - val_accuracy: 0.9707\n",
      "Epoch 21/30\n",
      "378/378 [==============================] - 2s 5ms/step - loss: 0.2667 - accuracy: 0.9263 - val_loss: 0.1112 - val_accuracy: 0.9717\n",
      "Epoch 22/30\n",
      "378/378 [==============================] - 2s 5ms/step - loss: 0.2612 - accuracy: 0.9244 - val_loss: 0.1079 - val_accuracy: 0.9724\n",
      "Epoch 23/30\n",
      "378/378 [==============================] - 2s 5ms/step - loss: 0.2494 - accuracy: 0.9309 - val_loss: 0.1052 - val_accuracy: 0.9724\n",
      "Epoch 24/30\n",
      "378/378 [==============================] - 2s 5ms/step - loss: 0.2459 - accuracy: 0.9299 - val_loss: 0.1035 - val_accuracy: 0.9724\n",
      "Epoch 25/30\n",
      "378/378 [==============================] - 2s 5ms/step - loss: 0.2415 - accuracy: 0.9307 - val_loss: 0.1014 - val_accuracy: 0.9745\n",
      "Epoch 26/30\n",
      "378/378 [==============================] - 2s 5ms/step - loss: 0.2358 - accuracy: 0.9348 - val_loss: 0.0989 - val_accuracy: 0.9748\n",
      "Epoch 27/30\n",
      "378/378 [==============================] - 2s 5ms/step - loss: 0.2316 - accuracy: 0.9353 - val_loss: 0.0970 - val_accuracy: 0.9748\n",
      "Epoch 28/30\n",
      "378/378 [==============================] - 2s 5ms/step - loss: 0.2253 - accuracy: 0.9360 - val_loss: 0.0945 - val_accuracy: 0.9755\n",
      "Epoch 29/30\n",
      "378/378 [==============================] - 2s 5ms/step - loss: 0.2181 - accuracy: 0.9387 - val_loss: 0.0931 - val_accuracy: 0.9745\n",
      "Epoch 30/30\n",
      "378/378 [==============================] - 2s 6ms/step - loss: 0.2141 - accuracy: 0.9386 - val_loss: 0.0911 - val_accuracy: 0.9752\n"
     ]
    },
    {
     "data": {
      "text/plain": [
       "<keras.callbacks.History at 0x7febd0751950>"
      ]
     },
     "execution_count": 8,
     "metadata": {},
     "output_type": "execute_result"
    }
   ],
   "source": [
    "model_A.compile(optimizer='Adagrad',loss='categorical_crossentropy',metrics=['accuracy'])\n",
    "model_A.fit(X_train, y_train, epochs=30, batch_size=100, validation_data=(X_valid, y_valid))"
   ]
  },
  {
   "cell_type": "code",
   "execution_count": 9,
   "id": "d0ed5938",
   "metadata": {
    "execution": {
     "iopub.execute_input": "2022-03-13T19:52:46.063330Z",
     "iopub.status.busy": "2022-03-13T19:52:46.062563Z",
     "iopub.status.idle": "2022-03-13T19:53:42.991565Z",
     "shell.execute_reply": "2022-03-13T19:53:42.991002Z",
     "shell.execute_reply.started": "2022-03-13T18:51:38.597712Z"
    },
    "papermill": {
     "duration": 57.268028,
     "end_time": "2022-03-13T19:53:42.991708",
     "exception": false,
     "start_time": "2022-03-13T19:52:45.723680",
     "status": "completed"
    },
    "tags": []
   },
   "outputs": [
    {
     "name": "stdout",
     "output_type": "stream",
     "text": [
      "Epoch 1/30\n",
      "378/378 [==============================] - 3s 6ms/step - loss: 0.1758 - accuracy: 0.9517 - val_loss: 0.0708 - val_accuracy: 0.9800\n",
      "Epoch 2/30\n",
      "378/378 [==============================] - 2s 5ms/step - loss: 0.1013 - accuracy: 0.9726 - val_loss: 0.0592 - val_accuracy: 0.9838\n",
      "Epoch 3/30\n",
      "378/378 [==============================] - 2s 5ms/step - loss: 0.0803 - accuracy: 0.9782 - val_loss: 0.0839 - val_accuracy: 0.9762\n",
      "Epoch 4/30\n",
      "378/378 [==============================] - 2s 5ms/step - loss: 0.0658 - accuracy: 0.9823 - val_loss: 0.0711 - val_accuracy: 0.9810\n",
      "Epoch 5/30\n",
      "378/378 [==============================] - 2s 5ms/step - loss: 0.0561 - accuracy: 0.9839 - val_loss: 0.0408 - val_accuracy: 0.9862\n",
      "Epoch 6/30\n",
      "378/378 [==============================] - 2s 6ms/step - loss: 0.0541 - accuracy: 0.9857 - val_loss: 0.0496 - val_accuracy: 0.9857\n",
      "Epoch 7/30\n",
      "378/378 [==============================] - 2s 5ms/step - loss: 0.0409 - accuracy: 0.9884 - val_loss: 0.0492 - val_accuracy: 0.9855\n",
      "Epoch 8/30\n",
      "378/378 [==============================] - 2s 5ms/step - loss: 0.0400 - accuracy: 0.9891 - val_loss: 0.0741 - val_accuracy: 0.9810\n",
      "Epoch 9/30\n",
      "378/378 [==============================] - 2s 5ms/step - loss: 0.0374 - accuracy: 0.9897 - val_loss: 0.0729 - val_accuracy: 0.9838\n",
      "Epoch 10/30\n",
      "378/378 [==============================] - 2s 5ms/step - loss: 0.0345 - accuracy: 0.9902 - val_loss: 0.0426 - val_accuracy: 0.9879\n",
      "Epoch 11/30\n",
      "378/378 [==============================] - 2s 5ms/step - loss: 0.0321 - accuracy: 0.9914 - val_loss: 0.0485 - val_accuracy: 0.9871\n",
      "Epoch 12/30\n",
      "378/378 [==============================] - 2s 5ms/step - loss: 0.0306 - accuracy: 0.9919 - val_loss: 0.0575 - val_accuracy: 0.9838\n",
      "Epoch 13/30\n",
      "378/378 [==============================] - 2s 5ms/step - loss: 0.0256 - accuracy: 0.9924 - val_loss: 0.0507 - val_accuracy: 0.9852\n",
      "Epoch 14/30\n",
      "378/378 [==============================] - 2s 5ms/step - loss: 0.0242 - accuracy: 0.9935 - val_loss: 0.0518 - val_accuracy: 0.9860\n",
      "Epoch 15/30\n",
      "378/378 [==============================] - 2s 5ms/step - loss: 0.0248 - accuracy: 0.9928 - val_loss: 0.0716 - val_accuracy: 0.9824\n",
      "Epoch 16/30\n",
      "378/378 [==============================] - 2s 5ms/step - loss: 0.0242 - accuracy: 0.9930 - val_loss: 0.0459 - val_accuracy: 0.9893\n",
      "Epoch 17/30\n",
      "378/378 [==============================] - 2s 5ms/step - loss: 0.0222 - accuracy: 0.9935 - val_loss: 0.0563 - val_accuracy: 0.9864\n",
      "Epoch 18/30\n",
      "378/378 [==============================] - 2s 5ms/step - loss: 0.0177 - accuracy: 0.9949 - val_loss: 0.0399 - val_accuracy: 0.9900\n",
      "Epoch 19/30\n",
      "378/378 [==============================] - 2s 5ms/step - loss: 0.0244 - accuracy: 0.9931 - val_loss: 0.0486 - val_accuracy: 0.9879\n",
      "Epoch 20/30\n",
      "378/378 [==============================] - 2s 5ms/step - loss: 0.0169 - accuracy: 0.9947 - val_loss: 0.0344 - val_accuracy: 0.9926\n",
      "Epoch 21/30\n",
      "378/378 [==============================] - 2s 5ms/step - loss: 0.0192 - accuracy: 0.9943 - val_loss: 0.0416 - val_accuracy: 0.9893\n",
      "Epoch 22/30\n",
      "378/378 [==============================] - 2s 5ms/step - loss: 0.0151 - accuracy: 0.9956 - val_loss: 0.0393 - val_accuracy: 0.9907\n",
      "Epoch 23/30\n",
      "378/378 [==============================] - 2s 6ms/step - loss: 0.0142 - accuracy: 0.9958 - val_loss: 0.0611 - val_accuracy: 0.9864\n",
      "Epoch 24/30\n",
      "378/378 [==============================] - 2s 5ms/step - loss: 0.0173 - accuracy: 0.9953 - val_loss: 0.0511 - val_accuracy: 0.9860\n",
      "Epoch 25/30\n",
      "378/378 [==============================] - 2s 5ms/step - loss: 0.0125 - accuracy: 0.9967 - val_loss: 0.0899 - val_accuracy: 0.9819\n",
      "Epoch 26/30\n",
      "378/378 [==============================] - 2s 5ms/step - loss: 0.0196 - accuracy: 0.9939 - val_loss: 0.0458 - val_accuracy: 0.9902\n",
      "Epoch 27/30\n",
      "378/378 [==============================] - 2s 5ms/step - loss: 0.0129 - accuracy: 0.9967 - val_loss: 0.0428 - val_accuracy: 0.9924\n",
      "Epoch 28/30\n",
      "378/378 [==============================] - 2s 5ms/step - loss: 0.0131 - accuracy: 0.9963 - val_loss: 0.0606 - val_accuracy: 0.9881\n",
      "Epoch 29/30\n",
      "378/378 [==============================] - 2s 5ms/step - loss: 0.0135 - accuracy: 0.9961 - val_loss: 0.0555 - val_accuracy: 0.9907\n",
      "Epoch 30/30\n",
      "378/378 [==============================] - 2s 5ms/step - loss: 0.0117 - accuracy: 0.9966 - val_loss: 0.0565 - val_accuracy: 0.9890\n"
     ]
    },
    {
     "data": {
      "text/plain": [
       "<keras.callbacks.History at 0x7febd0b9bd10>"
      ]
     },
     "execution_count": 9,
     "metadata": {},
     "output_type": "execute_result"
    }
   ],
   "source": [
    "model_A.compile(optimizer='adam',loss='categorical_crossentropy',metrics=['accuracy'])\n",
    "model_A.fit(X_train, y_train, epochs=30, batch_size=100, validation_data=(X_valid, y_valid))"
   ]
  },
  {
   "cell_type": "code",
   "execution_count": 10,
   "id": "bcb0dcb5",
   "metadata": {
    "execution": {
     "iopub.execute_input": "2022-03-13T19:53:44.559511Z",
     "iopub.status.busy": "2022-03-13T19:53:44.558660Z",
     "iopub.status.idle": "2022-03-13T19:55:08.331253Z",
     "shell.execute_reply": "2022-03-13T19:55:08.331679Z",
     "shell.execute_reply.started": "2022-03-13T19:31:59.904329Z"
    },
    "papermill": {
     "duration": 84.616219,
     "end_time": "2022-03-13T19:55:08.331816",
     "exception": false,
     "start_time": "2022-03-13T19:53:43.715597",
     "status": "completed"
    },
    "tags": []
   },
   "outputs": [
    {
     "name": "stdout",
     "output_type": "stream",
     "text": [
      "Epoch 1/30\n",
      "378/378 [==============================] - 3s 5ms/step - loss: 0.0068 - accuracy: 0.9980 - val_loss: 0.0507 - val_accuracy: 0.9905\n",
      "Epoch 2/30\n",
      "378/378 [==============================] - 2s 5ms/step - loss: 0.0052 - accuracy: 0.9985 - val_loss: 0.0506 - val_accuracy: 0.9902\n",
      "Epoch 3/30\n",
      "378/378 [==============================] - 2s 5ms/step - loss: 0.0042 - accuracy: 0.9989 - val_loss: 0.0492 - val_accuracy: 0.9907\n",
      "Epoch 4/30\n",
      "378/378 [==============================] - 2s 5ms/step - loss: 0.0038 - accuracy: 0.9992 - val_loss: 0.0489 - val_accuracy: 0.9910\n",
      "Epoch 5/30\n",
      "378/378 [==============================] - 2s 5ms/step - loss: 0.0038 - accuracy: 0.9991 - val_loss: 0.0504 - val_accuracy: 0.9902\n",
      "Epoch 6/30\n",
      "378/378 [==============================] - 2s 5ms/step - loss: 0.0041 - accuracy: 0.9988 - val_loss: 0.0497 - val_accuracy: 0.9907\n",
      "Epoch 7/30\n",
      "378/378 [==============================] - 2s 5ms/step - loss: 0.0036 - accuracy: 0.9990 - val_loss: 0.0481 - val_accuracy: 0.9912\n",
      "Epoch 8/30\n",
      "378/378 [==============================] - 2s 5ms/step - loss: 0.0034 - accuracy: 0.9991 - val_loss: 0.0495 - val_accuracy: 0.9912\n",
      "Epoch 9/30\n",
      "378/378 [==============================] - 2s 5ms/step - loss: 0.0037 - accuracy: 0.9991 - val_loss: 0.0498 - val_accuracy: 0.9917\n",
      "Epoch 10/30\n",
      "378/378 [==============================] - 2s 5ms/step - loss: 0.0035 - accuracy: 0.9992 - val_loss: 0.0508 - val_accuracy: 0.9914\n",
      "Epoch 11/30\n",
      "378/378 [==============================] - 2s 5ms/step - loss: 0.0037 - accuracy: 0.9990 - val_loss: 0.0510 - val_accuracy: 0.9912\n",
      "Epoch 12/30\n",
      "378/378 [==============================] - 2s 5ms/step - loss: 0.0036 - accuracy: 0.9989 - val_loss: 0.0500 - val_accuracy: 0.9912\n",
      "Epoch 13/30\n",
      "378/378 [==============================] - 2s 4ms/step - loss: 0.0032 - accuracy: 0.9992 - val_loss: 0.0512 - val_accuracy: 0.9910\n",
      "Epoch 14/30\n",
      "378/378 [==============================] - 2s 5ms/step - loss: 0.0028 - accuracy: 0.9992 - val_loss: 0.0527 - val_accuracy: 0.9907\n",
      "Epoch 15/30\n",
      "378/378 [==============================] - 2s 5ms/step - loss: 0.0031 - accuracy: 0.9991 - val_loss: 0.0522 - val_accuracy: 0.9914\n",
      "Epoch 16/30\n",
      "378/378 [==============================] - 2s 4ms/step - loss: 0.0037 - accuracy: 0.9990 - val_loss: 0.0522 - val_accuracy: 0.9917\n",
      "Epoch 17/30\n",
      "378/378 [==============================] - 2s 5ms/step - loss: 0.0035 - accuracy: 0.9991 - val_loss: 0.0517 - val_accuracy: 0.9921\n",
      "Epoch 18/30\n",
      "378/378 [==============================] - 2s 5ms/step - loss: 0.0034 - accuracy: 0.9991 - val_loss: 0.0532 - val_accuracy: 0.9917\n",
      "Epoch 19/30\n",
      "378/378 [==============================] - 2s 4ms/step - loss: 0.0024 - accuracy: 0.9995 - val_loss: 0.0533 - val_accuracy: 0.9914\n",
      "Epoch 20/30\n",
      "378/378 [==============================] - 2s 5ms/step - loss: 0.0032 - accuracy: 0.9990 - val_loss: 0.0532 - val_accuracy: 0.9917\n",
      "Epoch 21/30\n",
      "378/378 [==============================] - 2s 4ms/step - loss: 0.0027 - accuracy: 0.9994 - val_loss: 0.0526 - val_accuracy: 0.9921\n",
      "Epoch 22/30\n",
      "378/378 [==============================] - 2s 5ms/step - loss: 0.0032 - accuracy: 0.9992 - val_loss: 0.0527 - val_accuracy: 0.9921\n",
      "Epoch 23/30\n",
      "378/378 [==============================] - 2s 5ms/step - loss: 0.0031 - accuracy: 0.9992 - val_loss: 0.0531 - val_accuracy: 0.9912\n",
      "Epoch 24/30\n",
      "378/378 [==============================] - 2s 5ms/step - loss: 0.0026 - accuracy: 0.9994 - val_loss: 0.0532 - val_accuracy: 0.9919\n",
      "Epoch 25/30\n",
      "378/378 [==============================] - 2s 5ms/step - loss: 0.0025 - accuracy: 0.9995 - val_loss: 0.0541 - val_accuracy: 0.9919\n",
      "Epoch 26/30\n",
      "378/378 [==============================] - 2s 5ms/step - loss: 0.0026 - accuracy: 0.9993 - val_loss: 0.0540 - val_accuracy: 0.9917\n",
      "Epoch 27/30\n",
      "378/378 [==============================] - 2s 5ms/step - loss: 0.0030 - accuracy: 0.9991 - val_loss: 0.0541 - val_accuracy: 0.9921\n",
      "Epoch 28/30\n",
      "378/378 [==============================] - 2s 5ms/step - loss: 0.0027 - accuracy: 0.9992 - val_loss: 0.0546 - val_accuracy: 0.9919\n",
      "Epoch 29/30\n",
      "378/378 [==============================] - 2s 5ms/step - loss: 0.0029 - accuracy: 0.9991 - val_loss: 0.0550 - val_accuracy: 0.9912\n",
      "Epoch 30/30\n",
      "378/378 [==============================] - 2s 5ms/step - loss: 0.0026 - accuracy: 0.9992 - val_loss: 0.0544 - val_accuracy: 0.9917\n"
     ]
    },
    {
     "data": {
      "text/plain": [
       "<keras.callbacks.History at 0x7febd095cdd0>"
      ]
     },
     "execution_count": 10,
     "metadata": {},
     "output_type": "execute_result"
    }
   ],
   "source": [
    "model_A.compile(optimizer='SGD',loss='categorical_crossentropy',metrics=['accuracy'])\n",
    "model_A.fit(X_train, y_train, epochs=30, batch_size=100, validation_data=(X_valid, y_valid))"
   ]
  },
  {
   "cell_type": "code",
   "execution_count": 11,
   "id": "28b3af98",
   "metadata": {
    "execution": {
     "iopub.execute_input": "2022-03-13T19:55:10.281614Z",
     "iopub.status.busy": "2022-03-13T19:55:10.279125Z",
     "iopub.status.idle": "2022-03-13T19:55:47.298073Z",
     "shell.execute_reply": "2022-03-13T19:55:47.298529Z",
     "shell.execute_reply.started": "2022-03-13T19:49:38.851279Z"
    },
    "papermill": {
     "duration": 37.998526,
     "end_time": "2022-03-13T19:55:47.298704",
     "exception": false,
     "start_time": "2022-03-13T19:55:09.300178",
     "status": "completed"
    },
    "tags": []
   },
   "outputs": [
    {
     "name": "stdout",
     "output_type": "stream",
     "text": [
      "Epoch 1/20\n",
      "378/378 [==============================] - 3s 5ms/step - loss: 0.0024 - accuracy: 0.9995 - val_loss: 0.0554 - val_accuracy: 0.9912\n",
      "Epoch 2/20\n",
      "378/378 [==============================] - 2s 4ms/step - loss: 0.0028 - accuracy: 0.9992 - val_loss: 0.0552 - val_accuracy: 0.9917\n",
      "Epoch 3/20\n",
      "378/378 [==============================] - 2s 4ms/step - loss: 0.0024 - accuracy: 0.9994 - val_loss: 0.0550 - val_accuracy: 0.9919\n",
      "Epoch 4/20\n",
      "378/378 [==============================] - 2s 5ms/step - loss: 0.0024 - accuracy: 0.9994 - val_loss: 0.0554 - val_accuracy: 0.9917\n",
      "Epoch 5/20\n",
      "378/378 [==============================] - 2s 4ms/step - loss: 0.0029 - accuracy: 0.9993 - val_loss: 0.0556 - val_accuracy: 0.9914\n",
      "Epoch 6/20\n",
      "378/378 [==============================] - 2s 5ms/step - loss: 0.0021 - accuracy: 0.9995 - val_loss: 0.0565 - val_accuracy: 0.9914\n",
      "Epoch 7/20\n",
      "378/378 [==============================] - 2s 5ms/step - loss: 0.0027 - accuracy: 0.9994 - val_loss: 0.0564 - val_accuracy: 0.9914\n",
      "Epoch 8/20\n",
      "378/378 [==============================] - 2s 5ms/step - loss: 0.0022 - accuracy: 0.9993 - val_loss: 0.0564 - val_accuracy: 0.9914\n",
      "Epoch 9/20\n",
      "378/378 [==============================] - 2s 5ms/step - loss: 0.0027 - accuracy: 0.9992 - val_loss: 0.0560 - val_accuracy: 0.9912\n",
      "Epoch 10/20\n",
      "378/378 [==============================] - 2s 5ms/step - loss: 0.0024 - accuracy: 0.9995 - val_loss: 0.0557 - val_accuracy: 0.9919\n",
      "Epoch 11/20\n",
      "378/378 [==============================] - 2s 4ms/step - loss: 0.0028 - accuracy: 0.9994 - val_loss: 0.0543 - val_accuracy: 0.9924\n",
      "Epoch 12/20\n",
      "378/378 [==============================] - 2s 4ms/step - loss: 0.0024 - accuracy: 0.9995 - val_loss: 0.0548 - val_accuracy: 0.9919\n",
      "Epoch 13/20\n",
      "378/378 [==============================] - 2s 5ms/step - loss: 0.0027 - accuracy: 0.9991 - val_loss: 0.0546 - val_accuracy: 0.9914\n",
      "Epoch 14/20\n",
      "378/378 [==============================] - 2s 4ms/step - loss: 0.0028 - accuracy: 0.9992 - val_loss: 0.0562 - val_accuracy: 0.9914\n",
      "Epoch 15/20\n",
      "378/378 [==============================] - 2s 5ms/step - loss: 0.0025 - accuracy: 0.9994 - val_loss: 0.0541 - val_accuracy: 0.9921\n",
      "Epoch 16/20\n",
      "378/378 [==============================] - 2s 5ms/step - loss: 0.0023 - accuracy: 0.9994 - val_loss: 0.0550 - val_accuracy: 0.9919\n",
      "Epoch 17/20\n",
      "378/378 [==============================] - 2s 5ms/step - loss: 0.0022 - accuracy: 0.9994 - val_loss: 0.0560 - val_accuracy: 0.9917\n",
      "Epoch 18/20\n",
      "378/378 [==============================] - 2s 5ms/step - loss: 0.0016 - accuracy: 0.9996 - val_loss: 0.0570 - val_accuracy: 0.9914\n",
      "Epoch 19/20\n",
      "378/378 [==============================] - 2s 5ms/step - loss: 0.0027 - accuracy: 0.9994 - val_loss: 0.0559 - val_accuracy: 0.9919\n",
      "Epoch 20/20\n",
      "378/378 [==============================] - 2s 5ms/step - loss: 0.0021 - accuracy: 0.9996 - val_loss: 0.0563 - val_accuracy: 0.9914\n"
     ]
    },
    {
     "data": {
      "text/plain": [
       "<keras.callbacks.History at 0x7febceb38890>"
      ]
     },
     "execution_count": 11,
     "metadata": {},
     "output_type": "execute_result"
    }
   ],
   "source": [
    "model_A.compile(optimizer='SGD',loss='categorical_crossentropy',metrics=['accuracy'])\n",
    "model_A.fit(X_train, y_train, epochs=20, batch_size=100, validation_data=(X_valid, y_valid))"
   ]
  },
  {
   "cell_type": "code",
   "execution_count": 12,
   "id": "a81de0ba",
   "metadata": {
    "execution": {
     "iopub.execute_input": "2022-03-13T19:55:49.744156Z",
     "iopub.status.busy": "2022-03-13T19:55:49.743052Z",
     "iopub.status.idle": "2022-03-13T19:55:51.309881Z",
     "shell.execute_reply": "2022-03-13T19:55:51.309336Z",
     "shell.execute_reply.started": "2022-03-13T19:50:44.852412Z"
    },
    "papermill": {
     "duration": 2.749979,
     "end_time": "2022-03-13T19:55:51.310062",
     "exception": false,
     "start_time": "2022-03-13T19:55:48.560083",
     "status": "completed"
    },
    "tags": []
   },
   "outputs": [],
   "source": [
    "y_pred = model_A.predict(X_test)\n",
    "y_pred = np.argmax(y_pred,axis=1)\n",
    "\n",
    "submission = pd.DataFrame({'ImageId': list(range(1, len(y_pred)+1)), 'Label': y_pred})\n",
    "submission.to_csv(\"./submission.csv\",index=False)"
   ]
  }
 ],
 "metadata": {
  "kernelspec": {
   "display_name": "Python 3 (ipykernel)",
   "language": "python",
   "name": "python3"
  },
  "language_info": {
   "codemirror_mode": {
    "name": "ipython",
    "version": 3
   },
   "file_extension": ".py",
   "mimetype": "text/x-python",
   "name": "python",
   "nbconvert_exporter": "python",
   "pygments_lexer": "ipython3",
   "version": "3.8.2"
  },
  "papermill": {
   "default_parameters": {},
   "duration": 295.722314,
   "end_time": "2022-03-13T19:55:55.751584",
   "environment_variables": {},
   "exception": null,
   "input_path": "__notebook__.ipynb",
   "output_path": "__notebook__.ipynb",
   "parameters": {},
   "start_time": "2022-03-13T19:51:00.029270",
   "version": "2.3.3"
  }
 },
 "nbformat": 4,
 "nbformat_minor": 5
}
