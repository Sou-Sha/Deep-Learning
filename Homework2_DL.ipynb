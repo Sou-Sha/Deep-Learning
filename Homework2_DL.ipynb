{
 "cells": [
  {
   "cell_type": "markdown",
   "metadata": {},
   "source": [
    "Using what you learned today, design a MLP model to train the Fashion MNIST data for the best accuracy in test. You can use either sequential API or functional API. Describe how you come to your choice of hyperparameters. What’s the best result you can achieve?"
   ]
  },
  {
   "cell_type": "code",
   "execution_count": null,
   "metadata": {
    "id": "u86-1bBQgT3p"
   },
   "outputs": [],
   "source": [
    "import sys\n",
    "import tensorflow as tf\n",
    "assert tf.__version__ >= \"2.0\"\n",
    "import numpy as np\n",
    "import os\n",
    "import matplotlib.pyplot as plt\n",
    "\n",
    "from tensorflow import keras\n",
    "\n",
    "from matplotlib import pyplot\n",
    "from keras.datasets import fashion_mnist"
   ]
  },
  {
   "cell_type": "code",
   "execution_count": 12,
   "metadata": {
    "id": "Z6Mo1-cKkf5A"
   },
   "outputs": [],
   "source": [
    "(X_train_full, y_train_full), (X_test, y_test) = fashion_mnist.load_data()"
   ]
  },
  {
   "cell_type": "code",
   "execution_count": 13,
   "metadata": {
    "id": "maoBtCaxlW0C"
   },
   "outputs": [],
   "source": [
    "X_valid, X_train = X_train_full[:5000] / 255., X_train_full[5000:] / 255.\n",
    "y_valid, y_train = y_train_full[:5000], y_train_full[5000:]\n",
    "X_test = X_test / 255."
   ]
  },
  {
   "cell_type": "code",
   "execution_count": 14,
   "metadata": {
    "colab": {
     "base_uri": "https://localhost:8080/"
    },
    "id": "XjRy7y3ylij-",
    "outputId": "9882aa1b-968a-44dd-d4d4-219739068ab1"
   },
   "outputs": [
    {
     "name": "stdout",
     "output_type": "stream",
     "text": [
      "(5000, 28, 28)\n",
      "(55000, 28, 28)\n",
      "(5000,)\n",
      "(55000,)\n",
      "(10000, 28, 28)\n"
     ]
    }
   ],
   "source": [
    "print(X_valid.shape)\n",
    "print(X_train.shape)\n",
    "print(y_valid.shape)\n",
    "print(y_train.shape)\n",
    "print(X_test.shape)"
   ]
  },
  {
   "cell_type": "code",
   "execution_count": 15,
   "metadata": {
    "id": "WXmoXUPWk8gS"
   },
   "outputs": [],
   "source": [
    "class_names = [\"T-shirt/top\", \"Trouser\", \"Pullover\", \"Dress\", \"Coat\",\n",
    "               \"Sandal\", \"Shirt\", \"Sneaker\", \"Bag\", \"Ankle boot\"]"
   ]
  },
  {
   "cell_type": "markdown",
   "metadata": {
    "id": "VXXeyYNU3kzf"
   },
   "source": [
    "# Epochs"
   ]
  },
  {
   "cell_type": "code",
   "execution_count": 66,
   "metadata": {
    "id": "AdwlryiKnzaq"
   },
   "outputs": [],
   "source": [
    "model = keras.models.Sequential([\n",
    "    keras.layers.Flatten(input_shape=[28, 28]),\n",
    "    keras.layers.Dense(300, activation=\"relu\"),\n",
    "    keras.layers.Dense(100, activation=\"relu\"),\n",
    "    keras.layers.Dense(10, activation=\"softmax\")\n",
    "])"
   ]
  },
  {
   "cell_type": "code",
   "execution_count": 67,
   "metadata": {
    "id": "VQIKXLJepxu1"
   },
   "outputs": [],
   "source": [
    "model.compile(loss=\"sparse_categorical_crossentropy\",\n",
    "              optimizer=\"sgd\",\n",
    "              metrics=[\"accuracy\"])"
   ]
  },
  {
   "cell_type": "code",
   "execution_count": 68,
   "metadata": {
    "colab": {
     "base_uri": "https://localhost:8080/"
    },
    "id": "kMr2Ui9un05M",
    "outputId": "d4d38d67-118e-46f9-fc6f-188ddc81a54e"
   },
   "outputs": [
    {
     "name": "stdout",
     "output_type": "stream",
     "text": [
      "Epoch 1/30\n",
      "1719/1719 [==============================] - 7s 4ms/step - loss: 0.7006 - accuracy: 0.7723 - val_loss: 0.5055 - val_accuracy: 0.8302\n",
      "Epoch 2/30\n",
      "1719/1719 [==============================] - 6s 4ms/step - loss: 0.4837 - accuracy: 0.8314 - val_loss: 0.4490 - val_accuracy: 0.8422\n",
      "Epoch 3/30\n",
      "1719/1719 [==============================] - 6s 4ms/step - loss: 0.4410 - accuracy: 0.8462 - val_loss: 0.4459 - val_accuracy: 0.8414\n",
      "Epoch 4/30\n",
      "1719/1719 [==============================] - 6s 4ms/step - loss: 0.4132 - accuracy: 0.8546 - val_loss: 0.4049 - val_accuracy: 0.8566\n",
      "Epoch 5/30\n",
      "1719/1719 [==============================] - 6s 4ms/step - loss: 0.3950 - accuracy: 0.8609 - val_loss: 0.3952 - val_accuracy: 0.8604\n",
      "Epoch 6/30\n",
      "1719/1719 [==============================] - 6s 4ms/step - loss: 0.3790 - accuracy: 0.8664 - val_loss: 0.4043 - val_accuracy: 0.8594\n",
      "Epoch 7/30\n",
      "1719/1719 [==============================] - 6s 4ms/step - loss: 0.3675 - accuracy: 0.8695 - val_loss: 0.3635 - val_accuracy: 0.8746\n",
      "Epoch 8/30\n",
      "1719/1719 [==============================] - 6s 4ms/step - loss: 0.3556 - accuracy: 0.8744 - val_loss: 0.3681 - val_accuracy: 0.8692\n",
      "Epoch 9/30\n",
      "1719/1719 [==============================] - 6s 4ms/step - loss: 0.3450 - accuracy: 0.8775 - val_loss: 0.3512 - val_accuracy: 0.8762\n",
      "Epoch 10/30\n",
      "1719/1719 [==============================] - 7s 4ms/step - loss: 0.3350 - accuracy: 0.8812 - val_loss: 0.3422 - val_accuracy: 0.8796\n",
      "Epoch 11/30\n",
      "1719/1719 [==============================] - 6s 4ms/step - loss: 0.3280 - accuracy: 0.8831 - val_loss: 0.3327 - val_accuracy: 0.8826\n",
      "Epoch 12/30\n",
      "1719/1719 [==============================] - 6s 4ms/step - loss: 0.3197 - accuracy: 0.8857 - val_loss: 0.3353 - val_accuracy: 0.8804\n",
      "Epoch 13/30\n",
      "1719/1719 [==============================] - 6s 4ms/step - loss: 0.3120 - accuracy: 0.8882 - val_loss: 0.3305 - val_accuracy: 0.8816\n",
      "Epoch 14/30\n",
      "1719/1719 [==============================] - 6s 4ms/step - loss: 0.3060 - accuracy: 0.8898 - val_loss: 0.3292 - val_accuracy: 0.8832\n",
      "Epoch 15/30\n",
      "1719/1719 [==============================] - 6s 4ms/step - loss: 0.2993 - accuracy: 0.8921 - val_loss: 0.3215 - val_accuracy: 0.8834\n",
      "Epoch 16/30\n",
      "1719/1719 [==============================] - 6s 4ms/step - loss: 0.2935 - accuracy: 0.8953 - val_loss: 0.3225 - val_accuracy: 0.8840\n",
      "Epoch 17/30\n",
      "1719/1719 [==============================] - 6s 4ms/step - loss: 0.2872 - accuracy: 0.8965 - val_loss: 0.3291 - val_accuracy: 0.8784\n",
      "Epoch 18/30\n",
      "1719/1719 [==============================] - 6s 4ms/step - loss: 0.2826 - accuracy: 0.8985 - val_loss: 0.3149 - val_accuracy: 0.8854\n",
      "Epoch 19/30\n",
      "1719/1719 [==============================] - 6s 4ms/step - loss: 0.2763 - accuracy: 0.8998 - val_loss: 0.3239 - val_accuracy: 0.8832\n",
      "Epoch 20/30\n",
      "1719/1719 [==============================] - 7s 4ms/step - loss: 0.2716 - accuracy: 0.9034 - val_loss: 0.3061 - val_accuracy: 0.8878\n",
      "Epoch 21/30\n",
      "1719/1719 [==============================] - 6s 4ms/step - loss: 0.2662 - accuracy: 0.9038 - val_loss: 0.3142 - val_accuracy: 0.8830\n",
      "Epoch 22/30\n",
      "1719/1719 [==============================] - 6s 4ms/step - loss: 0.2623 - accuracy: 0.9054 - val_loss: 0.3094 - val_accuracy: 0.8878\n",
      "Epoch 23/30\n",
      "1719/1719 [==============================] - 6s 4ms/step - loss: 0.2585 - accuracy: 0.9060 - val_loss: 0.3067 - val_accuracy: 0.8890\n",
      "Epoch 24/30\n",
      "1719/1719 [==============================] - 8s 5ms/step - loss: 0.2526 - accuracy: 0.9101 - val_loss: 0.3132 - val_accuracy: 0.8874\n",
      "Epoch 25/30\n",
      "1719/1719 [==============================] - 7s 4ms/step - loss: 0.2488 - accuracy: 0.9109 - val_loss: 0.3138 - val_accuracy: 0.8866\n",
      "Epoch 26/30\n",
      "1719/1719 [==============================] - 6s 4ms/step - loss: 0.2448 - accuracy: 0.9122 - val_loss: 0.3400 - val_accuracy: 0.8748\n",
      "Epoch 27/30\n",
      "1719/1719 [==============================] - 7s 4ms/step - loss: 0.2407 - accuracy: 0.9132 - val_loss: 0.3115 - val_accuracy: 0.8870\n",
      "Epoch 28/30\n",
      "1719/1719 [==============================] - 6s 4ms/step - loss: 0.2369 - accuracy: 0.9147 - val_loss: 0.2954 - val_accuracy: 0.8940\n",
      "Epoch 29/30\n",
      "1719/1719 [==============================] - 7s 4ms/step - loss: 0.2322 - accuracy: 0.9164 - val_loss: 0.3027 - val_accuracy: 0.8888\n",
      "Epoch 30/30\n",
      "1719/1719 [==============================] - 6s 4ms/step - loss: 0.2291 - accuracy: 0.9181 - val_loss: 0.2977 - val_accuracy: 0.8898\n"
     ]
    }
   ],
   "source": [
    "history = model.fit(X_train, y_train, epochs=30,\n",
    "                    validation_data=(X_valid, y_valid))"
   ]
  },
  {
   "cell_type": "code",
   "execution_count": 69,
   "metadata": {
    "colab": {
     "base_uri": "https://localhost:8080/"
    },
    "id": "cr6pXEL5qLRr",
    "outputId": "6050bebd-929e-443c-fbbc-8dab3a501951"
   },
   "outputs": [
    {
     "name": "stdout",
     "output_type": "stream",
     "text": [
      "313/313 [==============================] - 1s 2ms/step - loss: 0.3365 - accuracy: 0.8780\n"
     ]
    }
   ],
   "source": [
    "score_sgd = model.evaluate(X_test, y_test)"
   ]
  },
  {
   "cell_type": "code",
   "execution_count": 70,
   "metadata": {
    "colab": {
     "base_uri": "https://localhost:8080/"
    },
    "id": "d-LfzK4Lq1cH",
    "outputId": "023c7a01-029e-4706-c93b-1e3d95b05f15"
   },
   "outputs": [
    {
     "name": "stdout",
     "output_type": "stream",
     "text": [
      "Epoch 1/25\n",
      "1719/1719 [==============================] - 6s 4ms/step - loss: 0.2260 - accuracy: 0.9174 - val_loss: 0.2945 - val_accuracy: 0.8914\n",
      "Epoch 2/25\n",
      "1719/1719 [==============================] - 6s 4ms/step - loss: 0.2224 - accuracy: 0.9190 - val_loss: 0.2933 - val_accuracy: 0.8922\n",
      "Epoch 3/25\n",
      "1719/1719 [==============================] - 6s 4ms/step - loss: 0.2184 - accuracy: 0.9211 - val_loss: 0.3125 - val_accuracy: 0.8908\n",
      "Epoch 4/25\n",
      "1719/1719 [==============================] - 6s 4ms/step - loss: 0.2143 - accuracy: 0.9224 - val_loss: 0.2905 - val_accuracy: 0.8968\n",
      "Epoch 5/25\n",
      "1719/1719 [==============================] - 6s 4ms/step - loss: 0.2111 - accuracy: 0.9238 - val_loss: 0.3402 - val_accuracy: 0.8760\n",
      "Epoch 6/25\n",
      "1719/1719 [==============================] - 6s 4ms/step - loss: 0.2087 - accuracy: 0.9253 - val_loss: 0.3215 - val_accuracy: 0.8870\n",
      "Epoch 7/25\n",
      "1719/1719 [==============================] - 6s 4ms/step - loss: 0.2044 - accuracy: 0.9273 - val_loss: 0.2940 - val_accuracy: 0.8938\n",
      "Epoch 8/25\n",
      "1719/1719 [==============================] - 6s 4ms/step - loss: 0.2015 - accuracy: 0.9277 - val_loss: 0.3027 - val_accuracy: 0.8940\n",
      "Epoch 9/25\n",
      "1719/1719 [==============================] - 6s 4ms/step - loss: 0.1996 - accuracy: 0.9287 - val_loss: 0.2877 - val_accuracy: 0.9002\n",
      "Epoch 10/25\n",
      "1719/1719 [==============================] - 6s 4ms/step - loss: 0.1958 - accuracy: 0.9298 - val_loss: 0.2898 - val_accuracy: 0.8964\n",
      "Epoch 11/25\n",
      "1719/1719 [==============================] - 6s 4ms/step - loss: 0.1924 - accuracy: 0.9300 - val_loss: 0.2891 - val_accuracy: 0.8952\n",
      "Epoch 12/25\n",
      "1719/1719 [==============================] - 6s 4ms/step - loss: 0.1892 - accuracy: 0.9323 - val_loss: 0.2823 - val_accuracy: 0.8952\n",
      "Epoch 13/25\n",
      "1719/1719 [==============================] - 6s 4ms/step - loss: 0.1869 - accuracy: 0.9334 - val_loss: 0.3020 - val_accuracy: 0.8948\n",
      "Epoch 14/25\n",
      "1719/1719 [==============================] - 6s 4ms/step - loss: 0.1834 - accuracy: 0.9353 - val_loss: 0.3219 - val_accuracy: 0.8834\n",
      "Epoch 15/25\n",
      "1719/1719 [==============================] - 6s 4ms/step - loss: 0.1805 - accuracy: 0.9351 - val_loss: 0.3431 - val_accuracy: 0.8830\n",
      "Epoch 16/25\n",
      "1719/1719 [==============================] - 6s 4ms/step - loss: 0.1777 - accuracy: 0.9367 - val_loss: 0.3056 - val_accuracy: 0.8918\n",
      "Epoch 17/25\n",
      "1719/1719 [==============================] - 6s 4ms/step - loss: 0.1758 - accuracy: 0.9371 - val_loss: 0.2942 - val_accuracy: 0.8940\n",
      "Epoch 18/25\n",
      "1719/1719 [==============================] - 7s 4ms/step - loss: 0.1716 - accuracy: 0.9386 - val_loss: 0.2995 - val_accuracy: 0.8968\n",
      "Epoch 19/25\n",
      "1719/1719 [==============================] - 7s 4ms/step - loss: 0.1691 - accuracy: 0.9403 - val_loss: 0.2986 - val_accuracy: 0.8928\n",
      "Epoch 20/25\n",
      "1719/1719 [==============================] - 6s 4ms/step - loss: 0.1672 - accuracy: 0.9412 - val_loss: 0.2928 - val_accuracy: 0.9002\n",
      "Epoch 21/25\n",
      "1719/1719 [==============================] - 6s 4ms/step - loss: 0.1636 - accuracy: 0.9423 - val_loss: 0.2870 - val_accuracy: 0.8988\n",
      "Epoch 22/25\n",
      "1719/1719 [==============================] - 6s 4ms/step - loss: 0.1621 - accuracy: 0.9427 - val_loss: 0.3017 - val_accuracy: 0.8946\n",
      "Epoch 23/25\n",
      "1719/1719 [==============================] - 6s 4ms/step - loss: 0.1590 - accuracy: 0.9433 - val_loss: 0.2924 - val_accuracy: 0.8970\n",
      "Epoch 24/25\n",
      "1719/1719 [==============================] - 7s 4ms/step - loss: 0.1572 - accuracy: 0.9443 - val_loss: 0.2975 - val_accuracy: 0.8962\n",
      "Epoch 25/25\n",
      "1719/1719 [==============================] - 7s 4ms/step - loss: 0.1543 - accuracy: 0.9461 - val_loss: 0.3071 - val_accuracy: 0.8908\n"
     ]
    }
   ],
   "source": [
    "history = model.fit(X_train, y_train, epochs=25,\n",
    "                    validation_data=(X_valid, y_valid))"
   ]
  },
  {
   "cell_type": "code",
   "execution_count": 71,
   "metadata": {
    "colab": {
     "base_uri": "https://localhost:8080/"
    },
    "id": "EUnx_zmBrH7e",
    "outputId": "2850247f-b82f-4fd5-e433-1a001fe72803"
   },
   "outputs": [
    {
     "name": "stdout",
     "output_type": "stream",
     "text": [
      "313/313 [==============================] - 1s 2ms/step - loss: 0.3425 - accuracy: 0.8839\n"
     ]
    }
   ],
   "source": [
    "score = model.evaluate(X_test, y_test)"
   ]
  },
  {
   "cell_type": "code",
   "execution_count": 72,
   "metadata": {
    "colab": {
     "base_uri": "https://localhost:8080/"
    },
    "id": "OFKcYF2-waNk",
    "outputId": "ac0cbf50-c84e-4423-c167-ce6bcc8e6edf"
   },
   "outputs": [
    {
     "name": "stdout",
     "output_type": "stream",
     "text": [
      "Epoch 1/45\n",
      "1719/1719 [==============================] - 6s 4ms/step - loss: 0.1523 - accuracy: 0.9461 - val_loss: 0.3180 - val_accuracy: 0.8926\n",
      "Epoch 2/45\n",
      "1719/1719 [==============================] - 6s 4ms/step - loss: 0.1490 - accuracy: 0.9475 - val_loss: 0.2969 - val_accuracy: 0.9016\n",
      "Epoch 3/45\n",
      "1719/1719 [==============================] - 6s 4ms/step - loss: 0.1478 - accuracy: 0.9473 - val_loss: 0.2886 - val_accuracy: 0.8996\n",
      "Epoch 4/45\n",
      "1719/1719 [==============================] - 6s 4ms/step - loss: 0.1446 - accuracy: 0.9487 - val_loss: 0.3120 - val_accuracy: 0.8926\n",
      "Epoch 5/45\n",
      "1719/1719 [==============================] - 6s 4ms/step - loss: 0.1420 - accuracy: 0.9499 - val_loss: 0.3014 - val_accuracy: 0.9016\n",
      "Epoch 6/45\n",
      "1719/1719 [==============================] - 6s 4ms/step - loss: 0.1403 - accuracy: 0.9504 - val_loss: 0.3063 - val_accuracy: 0.8964\n",
      "Epoch 7/45\n",
      "1719/1719 [==============================] - 6s 4ms/step - loss: 0.1380 - accuracy: 0.9502 - val_loss: 0.2963 - val_accuracy: 0.9012\n",
      "Epoch 8/45\n",
      "1719/1719 [==============================] - 6s 4ms/step - loss: 0.1358 - accuracy: 0.9519 - val_loss: 0.3007 - val_accuracy: 0.8946\n",
      "Epoch 9/45\n",
      "1719/1719 [==============================] - 6s 4ms/step - loss: 0.1331 - accuracy: 0.9534 - val_loss: 0.3099 - val_accuracy: 0.8978\n",
      "Epoch 10/45\n",
      "1719/1719 [==============================] - 6s 4ms/step - loss: 0.1315 - accuracy: 0.9537 - val_loss: 0.3166 - val_accuracy: 0.8936\n",
      "Epoch 11/45\n",
      "1719/1719 [==============================] - 6s 4ms/step - loss: 0.1299 - accuracy: 0.9540 - val_loss: 0.3091 - val_accuracy: 0.9000\n",
      "Epoch 12/45\n",
      "1719/1719 [==============================] - 6s 4ms/step - loss: 0.1271 - accuracy: 0.9545 - val_loss: 0.2949 - val_accuracy: 0.9004\n",
      "Epoch 13/45\n",
      "1719/1719 [==============================] - 6s 4ms/step - loss: 0.1255 - accuracy: 0.9563 - val_loss: 0.2976 - val_accuracy: 0.8978\n",
      "Epoch 14/45\n",
      "1719/1719 [==============================] - 6s 4ms/step - loss: 0.1233 - accuracy: 0.9572 - val_loss: 0.3210 - val_accuracy: 0.8978\n",
      "Epoch 15/45\n",
      "1719/1719 [==============================] - 6s 4ms/step - loss: 0.1207 - accuracy: 0.9581 - val_loss: 0.3229 - val_accuracy: 0.8920\n",
      "Epoch 16/45\n",
      "1719/1719 [==============================] - 6s 4ms/step - loss: 0.1193 - accuracy: 0.9584 - val_loss: 0.3041 - val_accuracy: 0.9038\n",
      "Epoch 17/45\n",
      "1719/1719 [==============================] - 6s 4ms/step - loss: 0.1169 - accuracy: 0.9590 - val_loss: 0.3129 - val_accuracy: 0.8990\n",
      "Epoch 18/45\n",
      "1719/1719 [==============================] - 6s 4ms/step - loss: 0.1150 - accuracy: 0.9602 - val_loss: 0.3051 - val_accuracy: 0.8980\n",
      "Epoch 19/45\n",
      "1719/1719 [==============================] - 6s 4ms/step - loss: 0.1141 - accuracy: 0.9599 - val_loss: 0.3132 - val_accuracy: 0.8968\n",
      "Epoch 20/45\n",
      "1719/1719 [==============================] - 6s 4ms/step - loss: 0.1119 - accuracy: 0.9610 - val_loss: 0.3159 - val_accuracy: 0.8926\n",
      "Epoch 21/45\n",
      "1719/1719 [==============================] - 6s 4ms/step - loss: 0.1090 - accuracy: 0.9622 - val_loss: 0.3169 - val_accuracy: 0.9002\n",
      "Epoch 22/45\n",
      "1719/1719 [==============================] - 6s 4ms/step - loss: 0.1072 - accuracy: 0.9629 - val_loss: 0.3256 - val_accuracy: 0.9014\n",
      "Epoch 23/45\n",
      "1719/1719 [==============================] - 6s 4ms/step - loss: 0.1064 - accuracy: 0.9632 - val_loss: 0.3192 - val_accuracy: 0.8972\n",
      "Epoch 24/45\n",
      "1719/1719 [==============================] - 6s 4ms/step - loss: 0.1038 - accuracy: 0.9642 - val_loss: 0.3335 - val_accuracy: 0.8916\n",
      "Epoch 25/45\n",
      "1719/1719 [==============================] - 6s 4ms/step - loss: 0.1030 - accuracy: 0.9653 - val_loss: 0.3492 - val_accuracy: 0.8978\n",
      "Epoch 26/45\n",
      "1719/1719 [==============================] - 6s 4ms/step - loss: 0.0995 - accuracy: 0.9655 - val_loss: 0.3296 - val_accuracy: 0.8966\n",
      "Epoch 27/45\n",
      "1719/1719 [==============================] - 6s 4ms/step - loss: 0.0988 - accuracy: 0.9663 - val_loss: 0.3155 - val_accuracy: 0.9002\n",
      "Epoch 28/45\n",
      "1719/1719 [==============================] - 6s 4ms/step - loss: 0.0987 - accuracy: 0.9660 - val_loss: 0.3172 - val_accuracy: 0.9008\n",
      "Epoch 29/45\n",
      "1719/1719 [==============================] - 6s 4ms/step - loss: 0.0965 - accuracy: 0.9668 - val_loss: 0.3414 - val_accuracy: 0.8950\n",
      "Epoch 30/45\n",
      "1719/1719 [==============================] - 6s 4ms/step - loss: 0.0964 - accuracy: 0.9667 - val_loss: 0.3277 - val_accuracy: 0.8980\n",
      "Epoch 31/45\n",
      "1719/1719 [==============================] - 7s 4ms/step - loss: 0.0938 - accuracy: 0.9684 - val_loss: 0.3203 - val_accuracy: 0.9006\n",
      "Epoch 32/45\n",
      "1719/1719 [==============================] - 6s 4ms/step - loss: 0.0906 - accuracy: 0.9694 - val_loss: 0.3361 - val_accuracy: 0.8956\n",
      "Epoch 33/45\n",
      "1719/1719 [==============================] - 6s 4ms/step - loss: 0.0909 - accuracy: 0.9688 - val_loss: 0.3216 - val_accuracy: 0.9006\n",
      "Epoch 34/45\n",
      "1719/1719 [==============================] - 6s 4ms/step - loss: 0.0885 - accuracy: 0.9696 - val_loss: 0.3324 - val_accuracy: 0.9000\n",
      "Epoch 35/45\n",
      "1719/1719 [==============================] - 6s 4ms/step - loss: 0.0875 - accuracy: 0.9707 - val_loss: 0.3390 - val_accuracy: 0.8974\n",
      "Epoch 36/45\n",
      "1719/1719 [==============================] - 6s 4ms/step - loss: 0.0862 - accuracy: 0.9701 - val_loss: 0.3374 - val_accuracy: 0.8996\n",
      "Epoch 37/45\n",
      "1719/1719 [==============================] - 6s 4ms/step - loss: 0.0833 - accuracy: 0.9718 - val_loss: 0.3474 - val_accuracy: 0.8948\n",
      "Epoch 38/45\n",
      "1719/1719 [==============================] - 6s 4ms/step - loss: 0.0840 - accuracy: 0.9715 - val_loss: 0.3853 - val_accuracy: 0.8906\n",
      "Epoch 39/45\n",
      "1719/1719 [==============================] - 6s 4ms/step - loss: 0.0802 - accuracy: 0.9731 - val_loss: 0.3408 - val_accuracy: 0.8964\n",
      "Epoch 40/45\n",
      "1719/1719 [==============================] - 7s 4ms/step - loss: 0.0810 - accuracy: 0.9723 - val_loss: 0.3498 - val_accuracy: 0.8948\n",
      "Epoch 41/45\n",
      "1719/1719 [==============================] - 7s 4ms/step - loss: 0.0782 - accuracy: 0.9740 - val_loss: 0.3457 - val_accuracy: 0.8972\n",
      "Epoch 42/45\n",
      "1719/1719 [==============================] - 6s 4ms/step - loss: 0.0780 - accuracy: 0.9741 - val_loss: 0.3580 - val_accuracy: 0.8942\n",
      "Epoch 43/45\n",
      "1719/1719 [==============================] - 6s 4ms/step - loss: 0.0780 - accuracy: 0.9735 - val_loss: 0.3582 - val_accuracy: 0.8974\n",
      "Epoch 44/45\n",
      "1719/1719 [==============================] - 6s 4ms/step - loss: 0.0742 - accuracy: 0.9748 - val_loss: 0.3487 - val_accuracy: 0.9004\n",
      "Epoch 45/45\n",
      "1719/1719 [==============================] - 6s 4ms/step - loss: 0.0734 - accuracy: 0.9751 - val_loss: 0.3504 - val_accuracy: 0.8948\n"
     ]
    }
   ],
   "source": [
    "history = model.fit(X_train, y_train, epochs=45,\n",
    "                    validation_data=(X_valid, y_valid))"
   ]
  },
  {
   "cell_type": "code",
   "execution_count": 73,
   "metadata": {
    "colab": {
     "base_uri": "https://localhost:8080/"
    },
    "id": "w94v7QfPxt2S",
    "outputId": "8fab2e36-c354-4965-e34c-137b650558d4"
   },
   "outputs": [
    {
     "name": "stdout",
     "output_type": "stream",
     "text": [
      "313/313 [==============================] - 1s 2ms/step - loss: 0.4027 - accuracy: 0.8883\n"
     ]
    }
   ],
   "source": [
    "score = model.evaluate(X_test, y_test)"
   ]
  },
  {
   "cell_type": "code",
   "execution_count": 74,
   "metadata": {
    "colab": {
     "base_uri": "https://localhost:8080/"
    },
    "id": "nhL9Le63AFQs",
    "outputId": "94caab0b-8384-4d04-e1ed-c72094ab2cab"
   },
   "outputs": [
    {
     "name": "stdout",
     "output_type": "stream",
     "text": [
      "Model: \"model\"\n",
      "__________________________________________________________________________________________________\n",
      " Layer (type)                   Output Shape         Param #     Connected to                     \n",
      "==================================================================================================\n",
      " input_1 (InputLayer)           [(None, 28, 28)]     0           []                               \n",
      "                                                                                                  \n",
      " dense_13 (Dense)               (None, 28, 30)       870         ['input_1[0][0]']                \n",
      "                                                                                                  \n",
      " dense_14 (Dense)               (None, 28, 30)       930         ['dense_13[0][0]']               \n",
      "                                                                                                  \n",
      " concatenate (Concatenate)      (None, 28, 58)       0           ['input_1[0][0]',                \n",
      "                                                                  'dense_14[0][0]']               \n",
      "                                                                                                  \n",
      " dense_15 (Dense)               (None, 28, 1)        59          ['concatenate[0][0]']            \n",
      "                                                                                                  \n",
      "==================================================================================================\n",
      "Total params: 1,859\n",
      "Trainable params: 1,859\n",
      "Non-trainable params: 0\n",
      "__________________________________________________________________________________________________\n"
     ]
    }
   ],
   "source": [
    "input_ = keras.layers.Input(shape=X_train.shape[1:])\n",
    "\n",
    "hidden1 = keras.layers.Dense(30, activation=\"relu\")(input_)\n",
    "hidden2 = keras.layers.Dense(30, activation=\"relu\")(hidden1) \n",
    "\n",
    "concat = keras.layers.concatenate([input_, hidden2])\n",
    "output = keras.layers.Dense(1)(concat)\n",
    "model = keras.models.Model(inputs=[input_], outputs=[output])\n",
    "\n",
    "model.summary()"
   ]
  },
  {
   "cell_type": "markdown",
   "metadata": {
    "id": "Xb1Cn5di4rJ-"
   },
   "source": [
    "# Layers"
   ]
  },
  {
   "cell_type": "code",
   "execution_count": 94,
   "metadata": {
    "id": "yjvtTD3VzJxx"
   },
   "outputs": [],
   "source": [
    "model = keras.models.Sequential([\n",
    "    keras.layers.Flatten(input_shape=[28, 28]),\n",
    "    keras.layers.Dense(350, activation=\"relu\"),\n",
    "     keras.layers.Dense(300, activation=\"relu\"),\n",
    "    keras.layers.Dense(100, activation=\"relu\"),\n",
    "    keras.layers.Dense(10, activation=\"softmax\")\n",
    "])"
   ]
  },
  {
   "cell_type": "code",
   "execution_count": 95,
   "metadata": {
    "id": "vrpo7WOi0N0M"
   },
   "outputs": [],
   "source": [
    "model.compile(loss=\"sparse_categorical_crossentropy\",\n",
    "              optimizer=\"sgd\",\n",
    "              metrics=[\"accuracy\"])"
   ]
  },
  {
   "cell_type": "code",
   "execution_count": 96,
   "metadata": {
    "colab": {
     "base_uri": "https://localhost:8080/"
    },
    "id": "EWK-6oBp0XLD",
    "outputId": "7678d3a8-ef51-4c73-cfec-a31649039d10"
   },
   "outputs": [
    {
     "name": "stdout",
     "output_type": "stream",
     "text": [
      "Epoch 1/30\n",
      "1719/1719 [==============================] - 11s 6ms/step - loss: 0.7271 - accuracy: 0.7574 - val_loss: 0.4750 - val_accuracy: 0.8378\n",
      "Epoch 2/30\n",
      "1719/1719 [==============================] - 10s 6ms/step - loss: 0.4768 - accuracy: 0.8337 - val_loss: 0.4229 - val_accuracy: 0.8554\n",
      "Epoch 3/30\n",
      "1719/1719 [==============================] - 10s 6ms/step - loss: 0.4282 - accuracy: 0.8497 - val_loss: 0.4150 - val_accuracy: 0.8560\n",
      "Epoch 4/30\n",
      "1719/1719 [==============================] - 10s 6ms/step - loss: 0.4006 - accuracy: 0.8579 - val_loss: 0.3780 - val_accuracy: 0.8696\n",
      "Epoch 5/30\n",
      "1719/1719 [==============================] - 10s 6ms/step - loss: 0.3793 - accuracy: 0.8651 - val_loss: 0.3707 - val_accuracy: 0.8702\n",
      "Epoch 6/30\n",
      "1719/1719 [==============================] - 10s 6ms/step - loss: 0.3613 - accuracy: 0.8723 - val_loss: 0.3672 - val_accuracy: 0.8696\n",
      "Epoch 7/30\n",
      "1719/1719 [==============================] - 10s 6ms/step - loss: 0.3473 - accuracy: 0.8759 - val_loss: 0.3602 - val_accuracy: 0.8688\n",
      "Epoch 8/30\n",
      "1719/1719 [==============================] - 10s 6ms/step - loss: 0.3357 - accuracy: 0.8805 - val_loss: 0.3334 - val_accuracy: 0.8820\n",
      "Epoch 9/30\n",
      "1719/1719 [==============================] - 10s 6ms/step - loss: 0.3234 - accuracy: 0.8829 - val_loss: 0.3453 - val_accuracy: 0.8734\n",
      "Epoch 10/30\n",
      "1719/1719 [==============================] - 10s 6ms/step - loss: 0.3131 - accuracy: 0.8875 - val_loss: 0.3279 - val_accuracy: 0.8838\n",
      "Epoch 11/30\n",
      "1719/1719 [==============================] - 10s 6ms/step - loss: 0.3039 - accuracy: 0.8901 - val_loss: 0.3333 - val_accuracy: 0.8808\n",
      "Epoch 12/30\n",
      "1719/1719 [==============================] - 10s 6ms/step - loss: 0.2962 - accuracy: 0.8922 - val_loss: 0.3242 - val_accuracy: 0.8828\n",
      "Epoch 13/30\n",
      "1719/1719 [==============================] - 11s 6ms/step - loss: 0.2866 - accuracy: 0.8968 - val_loss: 0.3220 - val_accuracy: 0.8868\n",
      "Epoch 14/30\n",
      "1719/1719 [==============================] - 10s 6ms/step - loss: 0.2799 - accuracy: 0.8980 - val_loss: 0.3069 - val_accuracy: 0.8864\n",
      "Epoch 15/30\n",
      "1719/1719 [==============================] - 10s 6ms/step - loss: 0.2732 - accuracy: 0.9007 - val_loss: 0.3085 - val_accuracy: 0.8884\n",
      "Epoch 16/30\n",
      "1719/1719 [==============================] - 11s 6ms/step - loss: 0.2657 - accuracy: 0.9036 - val_loss: 0.3191 - val_accuracy: 0.8844\n",
      "Epoch 17/30\n",
      "1719/1719 [==============================] - 11s 6ms/step - loss: 0.2587 - accuracy: 0.9056 - val_loss: 0.3450 - val_accuracy: 0.8708\n",
      "Epoch 18/30\n",
      "1719/1719 [==============================] - 11s 6ms/step - loss: 0.2532 - accuracy: 0.9075 - val_loss: 0.3153 - val_accuracy: 0.8866\n",
      "Epoch 19/30\n",
      "1719/1719 [==============================] - 11s 6ms/step - loss: 0.2464 - accuracy: 0.9108 - val_loss: 0.3031 - val_accuracy: 0.8898\n",
      "Epoch 20/30\n",
      "1719/1719 [==============================] - 10s 6ms/step - loss: 0.2407 - accuracy: 0.9117 - val_loss: 0.3028 - val_accuracy: 0.8896\n",
      "Epoch 21/30\n",
      "1719/1719 [==============================] - 10s 6ms/step - loss: 0.2344 - accuracy: 0.9142 - val_loss: 0.3013 - val_accuracy: 0.8898\n",
      "Epoch 22/30\n",
      "1719/1719 [==============================] - 10s 6ms/step - loss: 0.2294 - accuracy: 0.9170 - val_loss: 0.2971 - val_accuracy: 0.8960\n",
      "Epoch 23/30\n",
      "1719/1719 [==============================] - 10s 6ms/step - loss: 0.2249 - accuracy: 0.9171 - val_loss: 0.3044 - val_accuracy: 0.8914\n",
      "Epoch 24/30\n",
      "1719/1719 [==============================] - 10s 6ms/step - loss: 0.2200 - accuracy: 0.9193 - val_loss: 0.2834 - val_accuracy: 0.8974\n",
      "Epoch 25/30\n",
      "1719/1719 [==============================] - 10s 6ms/step - loss: 0.2159 - accuracy: 0.9210 - val_loss: 0.2893 - val_accuracy: 0.8946\n",
      "Epoch 26/30\n",
      "1719/1719 [==============================] - 11s 6ms/step - loss: 0.2090 - accuracy: 0.9233 - val_loss: 0.2999 - val_accuracy: 0.8936\n",
      "Epoch 27/30\n",
      "1719/1719 [==============================] - 10s 6ms/step - loss: 0.2060 - accuracy: 0.9251 - val_loss: 0.3101 - val_accuracy: 0.8860\n",
      "Epoch 28/30\n",
      "1719/1719 [==============================] - 10s 6ms/step - loss: 0.2015 - accuracy: 0.9267 - val_loss: 0.3057 - val_accuracy: 0.8912\n",
      "Epoch 29/30\n",
      "1719/1719 [==============================] - 11s 6ms/step - loss: 0.1966 - accuracy: 0.9284 - val_loss: 0.2993 - val_accuracy: 0.8874\n",
      "Epoch 30/30\n",
      "1719/1719 [==============================] - 11s 6ms/step - loss: 0.1921 - accuracy: 0.9297 - val_loss: 0.3038 - val_accuracy: 0.8928\n"
     ]
    }
   ],
   "source": [
    "history = model.fit(X_train, y_train, epochs=30,\n",
    "                    validation_data=(X_valid, y_valid))"
   ]
  },
  {
   "cell_type": "code",
   "execution_count": 97,
   "metadata": {
    "colab": {
     "base_uri": "https://localhost:8080/"
    },
    "id": "uK8oRhUMyG0H",
    "outputId": "f1d625ed-dfe6-48d4-f1ef-bc274d011afa"
   },
   "outputs": [
    {
     "name": "stdout",
     "output_type": "stream",
     "text": [
      "313/313 [==============================] - 1s 3ms/step - loss: 0.3312 - accuracy: 0.8840\n"
     ]
    }
   ],
   "source": [
    "score = model.evaluate(X_test, y_test)"
   ]
  },
  {
   "cell_type": "code",
   "execution_count": 98,
   "metadata": {
    "id": "0gvvG94p0bHs"
   },
   "outputs": [],
   "source": [
    "model = keras.models.Sequential([\n",
    "    keras.layers.Flatten(input_shape=[28, 28]),\n",
    "    keras.layers.Dense(500, activation=\"relu\"),\n",
    "     keras.layers.Dense(350, activation=\"relu\"),\n",
    "    keras.layers.Dense(300, activation=\"relu\"),\n",
    "    keras.layers.Dense(100, activation=\"relu\"),\n",
    "    keras.layers.Dense(10, activation=\"softmax\")\n",
    "])"
   ]
  },
  {
   "cell_type": "code",
   "execution_count": 99,
   "metadata": {
    "id": "5H_Ls0TA0mfj"
   },
   "outputs": [],
   "source": [
    "model.compile(loss=\"sparse_categorical_crossentropy\",\n",
    "              optimizer=\"sgd\",\n",
    "              metrics=[\"accuracy\"])"
   ]
  },
  {
   "cell_type": "code",
   "execution_count": 100,
   "metadata": {
    "colab": {
     "base_uri": "https://localhost:8080/"
    },
    "id": "MKFFlSUu0nfs",
    "outputId": "0c1253df-c216-44f3-f48d-f2618409a06e"
   },
   "outputs": [
    {
     "name": "stdout",
     "output_type": "stream",
     "text": [
      "Epoch 1/30\n",
      "1719/1719 [==============================] - 36s 9ms/step - loss: 0.7068 - accuracy: 0.7630 - val_loss: 0.5278 - val_accuracy: 0.8180\n",
      "Epoch 2/30\n",
      "1719/1719 [==============================] - 15s 9ms/step - loss: 0.4627 - accuracy: 0.8364 - val_loss: 0.4654 - val_accuracy: 0.8302\n",
      "Epoch 3/30\n",
      "1719/1719 [==============================] - 15s 9ms/step - loss: 0.4098 - accuracy: 0.8545 - val_loss: 0.3863 - val_accuracy: 0.8614\n",
      "Epoch 4/30\n",
      "1719/1719 [==============================] - 15s 8ms/step - loss: 0.3785 - accuracy: 0.8646 - val_loss: 0.3620 - val_accuracy: 0.8694\n",
      "Epoch 5/30\n",
      "1719/1719 [==============================] - 15s 9ms/step - loss: 0.3570 - accuracy: 0.8703 - val_loss: 0.3796 - val_accuracy: 0.8636\n",
      "Epoch 6/30\n",
      "1719/1719 [==============================] - 15s 9ms/step - loss: 0.3396 - accuracy: 0.8763 - val_loss: 0.3398 - val_accuracy: 0.8788\n",
      "Epoch 7/30\n",
      "1719/1719 [==============================] - 15s 9ms/step - loss: 0.3238 - accuracy: 0.8821 - val_loss: 0.3269 - val_accuracy: 0.8800\n",
      "Epoch 8/30\n",
      "1719/1719 [==============================] - 15s 9ms/step - loss: 0.3121 - accuracy: 0.8853 - val_loss: 0.3197 - val_accuracy: 0.8836\n",
      "Epoch 9/30\n",
      "1719/1719 [==============================] - 15s 9ms/step - loss: 0.2999 - accuracy: 0.8916 - val_loss: 0.3168 - val_accuracy: 0.8850\n",
      "Epoch 10/30\n",
      "1719/1719 [==============================] - 15s 9ms/step - loss: 0.2904 - accuracy: 0.8930 - val_loss: 0.3109 - val_accuracy: 0.8866\n",
      "Epoch 11/30\n",
      "1719/1719 [==============================] - 15s 9ms/step - loss: 0.2798 - accuracy: 0.8976 - val_loss: 0.3197 - val_accuracy: 0.8862\n",
      "Epoch 12/30\n",
      "1719/1719 [==============================] - 14s 8ms/step - loss: 0.2716 - accuracy: 0.9006 - val_loss: 0.3504 - val_accuracy: 0.8698\n",
      "Epoch 13/30\n",
      "1719/1719 [==============================] - 15s 9ms/step - loss: 0.2623 - accuracy: 0.9040 - val_loss: 0.2960 - val_accuracy: 0.8910\n",
      "Epoch 14/30\n",
      "1719/1719 [==============================] - 15s 9ms/step - loss: 0.2544 - accuracy: 0.9066 - val_loss: 0.3008 - val_accuracy: 0.8914\n",
      "Epoch 15/30\n",
      "1719/1719 [==============================] - 15s 9ms/step - loss: 0.2464 - accuracy: 0.9095 - val_loss: 0.3108 - val_accuracy: 0.8884\n",
      "Epoch 16/30\n",
      "1719/1719 [==============================] - 15s 9ms/step - loss: 0.2388 - accuracy: 0.9125 - val_loss: 0.2906 - val_accuracy: 0.8940\n",
      "Epoch 17/30\n",
      "1719/1719 [==============================] - 15s 9ms/step - loss: 0.2322 - accuracy: 0.9139 - val_loss: 0.3027 - val_accuracy: 0.8902\n",
      "Epoch 18/30\n",
      "1719/1719 [==============================] - 15s 9ms/step - loss: 0.2247 - accuracy: 0.9176 - val_loss: 0.3034 - val_accuracy: 0.8892\n",
      "Epoch 19/30\n",
      "1719/1719 [==============================] - 15s 9ms/step - loss: 0.2184 - accuracy: 0.9195 - val_loss: 0.3002 - val_accuracy: 0.8890\n",
      "Epoch 20/30\n",
      "1719/1719 [==============================] - 15s 9ms/step - loss: 0.2120 - accuracy: 0.9224 - val_loss: 0.3131 - val_accuracy: 0.8852\n",
      "Epoch 21/30\n",
      "1719/1719 [==============================] - 15s 9ms/step - loss: 0.2062 - accuracy: 0.9245 - val_loss: 0.2949 - val_accuracy: 0.8906\n",
      "Epoch 22/30\n",
      "1719/1719 [==============================] - 15s 9ms/step - loss: 0.2009 - accuracy: 0.9262 - val_loss: 0.2996 - val_accuracy: 0.8890\n",
      "Epoch 23/30\n",
      "1719/1719 [==============================] - 15s 9ms/step - loss: 0.1944 - accuracy: 0.9278 - val_loss: 0.2996 - val_accuracy: 0.8926\n",
      "Epoch 24/30\n",
      "1719/1719 [==============================] - 15s 9ms/step - loss: 0.1888 - accuracy: 0.9311 - val_loss: 0.3312 - val_accuracy: 0.8844\n",
      "Epoch 25/30\n",
      "1719/1719 [==============================] - 15s 9ms/step - loss: 0.1848 - accuracy: 0.9324 - val_loss: 0.3031 - val_accuracy: 0.8960\n",
      "Epoch 26/30\n",
      "1717/1719 [============================>.] - ETA: 0s - loss: 0.1773 - accuracy: 0.9344Epoch 27/30\n",
      "1719/1719 [==============================] - 15s 8ms/step - loss: 0.1728 - accuracy: 0.9367 - val_loss: 0.3252 - val_accuracy: 0.8872\n",
      "Epoch 28/30\n",
      "1719/1719 [==============================] - 15s 8ms/step - loss: 0.1688 - accuracy: 0.9384 - val_loss: 0.3124 - val_accuracy: 0.8932\n",
      "Epoch 29/30\n",
      "1719/1719 [==============================] - 15s 9ms/step - loss: 0.1628 - accuracy: 0.9404 - val_loss: 0.2871 - val_accuracy: 0.8992\n",
      "Epoch 30/30\n",
      "1719/1719 [==============================] - 16s 9ms/step - loss: 0.1580 - accuracy: 0.9423 - val_loss: 0.2840 - val_accuracy: 0.9012\n"
     ]
    }
   ],
   "source": [
    "history = model.fit(X_train, y_train, epochs=30,\n",
    "                    validation_data=(X_valid, y_valid))"
   ]
  },
  {
   "cell_type": "code",
   "execution_count": 101,
   "metadata": {
    "colab": {
     "base_uri": "https://localhost:8080/"
    },
    "id": "CLr_W8X209Qw",
    "outputId": "e14d0ae2-62b9-433d-9095-9c9255502664"
   },
   "outputs": [
    {
     "name": "stdout",
     "output_type": "stream",
     "text": [
      "313/313 [==============================] - 1s 4ms/step - loss: 0.3216 - accuracy: 0.8909\n"
     ]
    }
   ],
   "source": [
    "score = model.evaluate(X_test, y_test)"
   ]
  },
  {
   "cell_type": "markdown",
   "metadata": {
    "id": "ZnHzgAnk01xX"
   },
   "source": [
    "# Optimizers\n",
    "1.Adagrad\n",
    "2.Adamax\n",
    "3.RMSprop\n",
    "4.SGD"
   ]
  },
  {
   "cell_type": "code",
   "execution_count": 82,
   "metadata": {
    "id": "2HKksPrn1lmz"
   },
   "outputs": [],
   "source": [
    "model.compile(loss=\"sparse_categorical_crossentropy\",\n",
    "              optimizer=\"Adagrad\",\n",
    "              metrics=[\"accuracy\"])"
   ]
  },
  {
   "cell_type": "code",
   "execution_count": 83,
   "metadata": {
    "colab": {
     "base_uri": "https://localhost:8080/"
    },
    "id": "W1B72rma07_N",
    "outputId": "d05ba348-0796-4981-a87d-34ba1a1f0f1b"
   },
   "outputs": [
    {
     "name": "stdout",
     "output_type": "stream",
     "text": [
      "Epoch 1/30\n",
      "1719/1719 [==============================] - 17s 10ms/step - loss: 0.1216 - accuracy: 0.9575 - val_loss: 0.2885 - val_accuracy: 0.9024\n",
      "Epoch 2/30\n",
      "1719/1719 [==============================] - 17s 10ms/step - loss: 0.1144 - accuracy: 0.9606 - val_loss: 0.2846 - val_accuracy: 0.9054\n",
      "Epoch 3/30\n",
      "1719/1719 [==============================] - 18s 10ms/step - loss: 0.1110 - accuracy: 0.9619 - val_loss: 0.2883 - val_accuracy: 0.9074\n",
      "Epoch 4/30\n",
      "1719/1719 [==============================] - 18s 10ms/step - loss: 0.1079 - accuracy: 0.9638 - val_loss: 0.2904 - val_accuracy: 0.9048\n",
      "Epoch 5/30\n",
      "1719/1719 [==============================] - 19s 11ms/step - loss: 0.1054 - accuracy: 0.9644 - val_loss: 0.2942 - val_accuracy: 0.9042\n",
      "Epoch 6/30\n",
      "1719/1719 [==============================] - 18s 11ms/step - loss: 0.1035 - accuracy: 0.9650 - val_loss: 0.2888 - val_accuracy: 0.9048\n",
      "Epoch 7/30\n",
      "1719/1719 [==============================] - 18s 11ms/step - loss: 0.1014 - accuracy: 0.9662 - val_loss: 0.2898 - val_accuracy: 0.9052\n",
      "Epoch 8/30\n",
      "1719/1719 [==============================] - 18s 11ms/step - loss: 0.0992 - accuracy: 0.9677 - val_loss: 0.2931 - val_accuracy: 0.9030\n",
      "Epoch 9/30\n",
      "1719/1719 [==============================] - 18s 10ms/step - loss: 0.0976 - accuracy: 0.9680 - val_loss: 0.2918 - val_accuracy: 0.9070\n",
      "Epoch 10/30\n",
      "1719/1719 [==============================] - 18s 10ms/step - loss: 0.0960 - accuracy: 0.9687 - val_loss: 0.2958 - val_accuracy: 0.9050\n",
      "Epoch 11/30\n",
      "1719/1719 [==============================] - 18s 10ms/step - loss: 0.0944 - accuracy: 0.9694 - val_loss: 0.2971 - val_accuracy: 0.9060\n",
      "Epoch 12/30\n",
      "1719/1719 [==============================] - 17s 10ms/step - loss: 0.0930 - accuracy: 0.9699 - val_loss: 0.2993 - val_accuracy: 0.9070\n",
      "Epoch 13/30\n",
      "1719/1719 [==============================] - 17s 10ms/step - loss: 0.0916 - accuracy: 0.9703 - val_loss: 0.2956 - val_accuracy: 0.9060\n",
      "Epoch 14/30\n",
      "1719/1719 [==============================] - 17s 10ms/step - loss: 0.0902 - accuracy: 0.9714 - val_loss: 0.2968 - val_accuracy: 0.9054\n",
      "Epoch 15/30\n",
      "1719/1719 [==============================] - 18s 10ms/step - loss: 0.0888 - accuracy: 0.9717 - val_loss: 0.2995 - val_accuracy: 0.9034\n",
      "Epoch 16/30\n",
      "1719/1719 [==============================] - 18s 11ms/step - loss: 0.0875 - accuracy: 0.9715 - val_loss: 0.2973 - val_accuracy: 0.9066\n",
      "Epoch 17/30\n",
      "1719/1719 [==============================] - 17s 10ms/step - loss: 0.0865 - accuracy: 0.9728 - val_loss: 0.3030 - val_accuracy: 0.9030\n",
      "Epoch 18/30\n",
      "1719/1719 [==============================] - 18s 10ms/step - loss: 0.0853 - accuracy: 0.9725 - val_loss: 0.2997 - val_accuracy: 0.9016\n",
      "Epoch 19/30\n",
      "1719/1719 [==============================] - 18s 10ms/step - loss: 0.0843 - accuracy: 0.9738 - val_loss: 0.2998 - val_accuracy: 0.9058\n",
      "Epoch 20/30\n",
      "1719/1719 [==============================] - 17s 10ms/step - loss: 0.0831 - accuracy: 0.9737 - val_loss: 0.3035 - val_accuracy: 0.9054\n",
      "Epoch 21/30\n",
      "1719/1719 [==============================] - 18s 10ms/step - loss: 0.0820 - accuracy: 0.9746 - val_loss: 0.3034 - val_accuracy: 0.9044\n",
      "Epoch 22/30\n",
      "1719/1719 [==============================] - 17s 10ms/step - loss: 0.0809 - accuracy: 0.9752 - val_loss: 0.3066 - val_accuracy: 0.9052\n",
      "Epoch 23/30\n",
      "1719/1719 [==============================] - 18s 10ms/step - loss: 0.0799 - accuracy: 0.9760 - val_loss: 0.3058 - val_accuracy: 0.9060\n",
      "Epoch 24/30\n",
      "1719/1719 [==============================] - 17s 10ms/step - loss: 0.0790 - accuracy: 0.9760 - val_loss: 0.3057 - val_accuracy: 0.9050\n",
      "Epoch 25/30\n",
      "1719/1719 [==============================] - 17s 10ms/step - loss: 0.0780 - accuracy: 0.9761 - val_loss: 0.3073 - val_accuracy: 0.9062\n",
      "Epoch 26/30\n",
      "1719/1719 [==============================] - 17s 10ms/step - loss: 0.0772 - accuracy: 0.9772 - val_loss: 0.3089 - val_accuracy: 0.9066\n",
      "Epoch 27/30\n",
      "1719/1719 [==============================] - 17s 10ms/step - loss: 0.0762 - accuracy: 0.9771 - val_loss: 0.3137 - val_accuracy: 0.9034\n",
      "Epoch 28/30\n",
      "1719/1719 [==============================] - 17s 10ms/step - loss: 0.0752 - accuracy: 0.9773 - val_loss: 0.3080 - val_accuracy: 0.9064\n",
      "Epoch 29/30\n",
      "1719/1719 [==============================] - 17s 10ms/step - loss: 0.0745 - accuracy: 0.9780 - val_loss: 0.3136 - val_accuracy: 0.9036\n",
      "Epoch 30/30\n",
      "1719/1719 [==============================] - 17s 10ms/step - loss: 0.0737 - accuracy: 0.9775 - val_loss: 0.3149 - val_accuracy: 0.9040\n"
     ]
    }
   ],
   "source": [
    "history = model.fit(X_train, y_train, epochs=30,\n",
    "                    validation_data=(X_valid, y_valid))"
   ]
  },
  {
   "cell_type": "code",
   "execution_count": 84,
   "metadata": {
    "colab": {
     "base_uri": "https://localhost:8080/"
    },
    "id": "htV6biCZ1e6P",
    "outputId": "00fbd352-93bf-48fc-c03d-e5d6397d38fd"
   },
   "outputs": [
    {
     "name": "stdout",
     "output_type": "stream",
     "text": [
      "313/313 [==============================] - 1s 4ms/step - loss: 0.3393 - accuracy: 0.8952\n"
     ]
    }
   ],
   "source": [
    "score_adagrad = model.evaluate(X_test, y_test)"
   ]
  },
  {
   "cell_type": "code",
   "execution_count": 85,
   "metadata": {
    "id": "5Ec7xHbB1qAU"
   },
   "outputs": [],
   "source": [
    "model.compile(loss=\"sparse_categorical_crossentropy\",\n",
    "              optimizer=\"Adamax\",\n",
    "              metrics=[\"accuracy\"])"
   ]
  },
  {
   "cell_type": "code",
   "execution_count": null,
   "metadata": {
    "colab": {
     "base_uri": "https://localhost:8080/"
    },
    "id": "xnDOFoXZ1mbq",
    "outputId": "a5c6309b-71d0-4301-b765-5b878bbbbe11"
   },
   "outputs": [
    {
     "name": "stdout",
     "output_type": "stream",
     "text": [
      "Epoch 1/30\n",
      "1719/1719 [==============================] - 18s 10ms/step - loss: 0.2461 - accuracy: 0.9102 - val_loss: 0.3439 - val_accuracy: 0.8802\n",
      "Epoch 2/30\n",
      "1719/1719 [==============================] - 17s 10ms/step - loss: 0.2258 - accuracy: 0.9143 - val_loss: 0.3236 - val_accuracy: 0.8860\n",
      "Epoch 3/30\n",
      "1719/1719 [==============================] - 18s 10ms/step - loss: 0.2130 - accuracy: 0.9204 - val_loss: 0.3201 - val_accuracy: 0.8870\n",
      "Epoch 4/30\n",
      "1719/1719 [==============================] - 18s 10ms/step - loss: 0.1992 - accuracy: 0.9238 - val_loss: 0.3331 - val_accuracy: 0.8894\n",
      "Epoch 5/30\n",
      "1719/1719 [==============================] - 17s 10ms/step - loss: 0.1890 - accuracy: 0.9281 - val_loss: 0.3016 - val_accuracy: 0.9000\n",
      "Epoch 6/30\n",
      "1169/1719 [===================>..........] - ETA: 5s - loss: 0.1759 - accuracy: 0.9321"
     ]
    }
   ],
   "source": [
    "history = model.fit(X_train, y_train, epochs=30,\n",
    "                    validation_data=(X_valid, y_valid))"
   ]
  },
  {
   "cell_type": "code",
   "execution_count": null,
   "metadata": {
    "id": "FrqpdpoM1n96"
   },
   "outputs": [],
   "source": [
    "score_adamax = model.evaluate(X_test, y_test)"
   ]
  },
  {
   "cell_type": "code",
   "execution_count": null,
   "metadata": {
    "id": "7C8zNCzl00rL"
   },
   "outputs": [],
   "source": [
    "model.compile(loss=\"sparse_categorical_crossentropy\",\n",
    "              optimizer=\"RMSprop\",\n",
    "              metrics=[\"accuracy\"])"
   ]
  },
  {
   "cell_type": "code",
   "execution_count": 89,
   "metadata": {
    "colab": {
     "base_uri": "https://localhost:8080/"
    },
    "id": "OzzaglDI1y8L",
    "outputId": "c4d5a0c4-3dbb-428e-e3a1-0f6aea97071a"
   },
   "outputs": [
    {
     "name": "stdout",
     "output_type": "stream",
     "text": [
      "Epoch 1/30\n",
      "1719/1719 [==============================] - 22s 13ms/step - loss: 0.4501 - accuracy: 0.8518 - val_loss: 0.4704 - val_accuracy: 0.8740\n",
      "Epoch 2/30\n",
      "1719/1719 [==============================] - 21s 12ms/step - loss: 0.4185 - accuracy: 0.8636 - val_loss: 0.5270 - val_accuracy: 0.8486\n",
      "Epoch 3/30\n",
      "1719/1719 [==============================] - 21s 12ms/step - loss: 0.4076 - accuracy: 0.8677 - val_loss: 0.5096 - val_accuracy: 0.8696\n",
      "Epoch 4/30\n",
      "1719/1719 [==============================] - 21s 12ms/step - loss: 0.4129 - accuracy: 0.8694 - val_loss: 0.4781 - val_accuracy: 0.8640\n",
      "Epoch 5/30\n",
      "1719/1719 [==============================] - 21s 12ms/step - loss: 0.4164 - accuracy: 0.8701 - val_loss: 0.6163 - val_accuracy: 0.8464\n",
      "Epoch 6/30\n",
      "1719/1719 [==============================] - 21s 12ms/step - loss: 0.4155 - accuracy: 0.8731 - val_loss: 0.5773 - val_accuracy: 0.8638\n",
      "Epoch 7/30\n",
      "1719/1719 [==============================] - 21s 12ms/step - loss: 0.4133 - accuracy: 0.8733 - val_loss: 0.6619 - val_accuracy: 0.8800\n",
      "Epoch 8/30\n",
      "1719/1719 [==============================] - 22s 13ms/step - loss: 0.4267 - accuracy: 0.8732 - val_loss: 0.6078 - val_accuracy: 0.8354\n",
      "Epoch 9/30\n",
      "1719/1719 [==============================] - 22s 13ms/step - loss: 0.4317 - accuracy: 0.8717 - val_loss: 0.5547 - val_accuracy: 0.8816\n",
      "Epoch 10/30\n",
      "1719/1719 [==============================] - 22s 13ms/step - loss: 0.4432 - accuracy: 0.8706 - val_loss: 0.6446 - val_accuracy: 0.8558\n",
      "Epoch 11/30\n",
      "1719/1719 [==============================] - 22s 13ms/step - loss: 0.4589 - accuracy: 0.8711 - val_loss: 0.7714 - val_accuracy: 0.8664\n",
      "Epoch 12/30\n",
      "1719/1719 [==============================] - 22s 13ms/step - loss: 0.4762 - accuracy: 0.8699 - val_loss: 0.8921 - val_accuracy: 0.7706\n",
      "Epoch 13/30\n",
      "1719/1719 [==============================] - 21s 12ms/step - loss: 0.4986 - accuracy: 0.8677 - val_loss: 0.8619 - val_accuracy: 0.8796\n",
      "Epoch 14/30\n",
      "1719/1719 [==============================] - 21s 12ms/step - loss: 0.5091 - accuracy: 0.8616 - val_loss: 0.9045 - val_accuracy: 0.8576\n",
      "Epoch 15/30\n",
      "1719/1719 [==============================] - 21s 12ms/step - loss: 0.5326 - accuracy: 0.8570 - val_loss: 1.0992 - val_accuracy: 0.8344\n",
      "Epoch 16/30\n",
      "1719/1719 [==============================] - 21s 12ms/step - loss: 0.5474 - accuracy: 0.8548 - val_loss: 1.0660 - val_accuracy: 0.8582\n",
      "Epoch 17/30\n",
      "1719/1719 [==============================] - 22s 13ms/step - loss: 0.5917 - accuracy: 0.8492 - val_loss: 1.1641 - val_accuracy: 0.8520\n",
      "Epoch 18/30\n",
      "1719/1719 [==============================] - 21s 12ms/step - loss: 0.6095 - accuracy: 0.8468 - val_loss: 0.8258 - val_accuracy: 0.8570\n",
      "Epoch 19/30\n",
      "1719/1719 [==============================] - 21s 12ms/step - loss: 0.6981 - accuracy: 0.8361 - val_loss: 3.3957 - val_accuracy: 0.6110\n",
      "Epoch 20/30\n",
      "1719/1719 [==============================] - 22s 13ms/step - loss: 0.7166 - accuracy: 0.8292 - val_loss: 1.1020 - val_accuracy: 0.8106\n",
      "Epoch 21/30\n",
      "1719/1719 [==============================] - 21s 12ms/step - loss: 0.7838 - accuracy: 0.8240 - val_loss: 2.1027 - val_accuracy: 0.7202\n",
      "Epoch 22/30\n",
      "1719/1719 [==============================] - 21s 12ms/step - loss: 0.8396 - accuracy: 0.8205 - val_loss: 1.9417 - val_accuracy: 0.8482\n",
      "Epoch 23/30\n",
      "1719/1719 [==============================] - 21s 12ms/step - loss: 0.9402 - accuracy: 0.8101 - val_loss: 1.6457 - val_accuracy: 0.8242\n",
      "Epoch 24/30\n",
      "1719/1719 [==============================] - 22s 13ms/step - loss: 0.8965 - accuracy: 0.8021 - val_loss: 2.2136 - val_accuracy: 0.7878\n",
      "Epoch 25/30\n",
      "1719/1719 [==============================] - 22s 13ms/step - loss: 1.1356 - accuracy: 0.7744 - val_loss: 2.2820 - val_accuracy: 0.7420\n",
      "Epoch 26/30\n",
      "1719/1719 [==============================] - 22s 13ms/step - loss: 1.2846 - accuracy: 0.7671 - val_loss: 2.2641 - val_accuracy: 0.6758\n",
      "Epoch 27/30\n",
      "1719/1719 [==============================] - 22s 13ms/step - loss: 1.4966 - accuracy: 0.7649 - val_loss: 2.4270 - val_accuracy: 0.7324\n",
      "Epoch 28/30\n",
      "1719/1719 [==============================] - 22s 13ms/step - loss: 1.8536 - accuracy: 0.7592 - val_loss: 1.8515 - val_accuracy: 0.7298\n",
      "Epoch 29/30\n",
      "1719/1719 [==============================] - 22s 13ms/step - loss: 1.9821 - accuracy: 0.7443 - val_loss: 1.7117 - val_accuracy: 0.7462\n",
      "Epoch 30/30\n",
      "1719/1719 [==============================] - 22s 13ms/step - loss: 2.1256 - accuracy: 0.7217 - val_loss: 1.8389 - val_accuracy: 0.6878\n"
     ]
    }
   ],
   "source": [
    "history = model.fit(X_train, y_train, epochs=30,\n",
    "                    validation_data=(X_valid, y_valid))"
   ]
  },
  {
   "cell_type": "code",
   "execution_count": 90,
   "metadata": {
    "colab": {
     "base_uri": "https://localhost:8080/"
    },
    "id": "dcANfR1c10Wm",
    "outputId": "4acc6375-eb57-4ce0-a661-7e0022e86fcb"
   },
   "outputs": [
    {
     "name": "stdout",
     "output_type": "stream",
     "text": [
      "313/313 [==============================] - 1s 4ms/step - loss: 1.8638 - accuracy: 0.6754\n"
     ]
    }
   ],
   "source": [
    "score_rms = model.evaluate(X_test, y_test)"
   ]
  },
  {
   "cell_type": "code",
   "execution_count": 91,
   "metadata": {
    "colab": {
     "base_uri": "https://localhost:8080/"
    },
    "id": "7MPWCEPcAwqn",
    "outputId": "45ac0623-b98e-4b65-ea2d-74a9f83c57d1"
   },
   "outputs": [
    {
     "name": "stdout",
     "output_type": "stream",
     "text": [
      "Acuuracy with SGD: 0.878000020980835\n",
      "Acuuracy with Adagrad: 0.8952000141143799\n",
      "Acuuracy with Adamax: 0.8913999795913696\n",
      "Acuuracy with RMSprop: 0.6754000186920166\n"
     ]
    }
   ],
   "source": [
    "print(\"Acuuracy with SGD:\",score_sgd [1])\n",
    "print(\"Acuuracy with Adagrad:\",score_adagrad [1])\n",
    "print(\"Acuuracy with Adamax:\",score_adamax [1])\n",
    "print(\"Acuuracy with RMSprop:\",score_rms [1])"
   ]
  },
  {
   "cell_type": "markdown",
   "metadata": {
    "id": "TgL1q5-UBfMI"
   },
   "source": [
    "# Prediction"
   ]
  },
  {
   "cell_type": "code",
   "execution_count": 92,
   "metadata": {
    "colab": {
     "base_uri": "https://localhost:8080/"
    },
    "id": "SKjjc2doBnXJ",
    "outputId": "fbc0e168-c68d-4817-f227-74cfd5eb3e1d"
   },
   "outputs": [
    {
     "data": {
      "text/plain": [
       "array([[0., 0., 0., 0., 0., 0., 0., 0., 0., 1.],\n",
       "       [0., 0., 1., 0., 0., 0., 0., 0., 0., 0.],\n",
       "       [0., 1., 0., 0., 0., 0., 0., 0., 0., 0.]], dtype=float32)"
      ]
     },
     "execution_count": 92,
     "metadata": {},
     "output_type": "execute_result"
    }
   ],
   "source": [
    "X_new = X_test[:3]\n",
    "y_proba = model.predict(X_new)\n",
    "y_proba.round(2)"
   ]
  },
  {
   "cell_type": "code",
   "execution_count": 93,
   "metadata": {
    "colab": {
     "base_uri": "https://localhost:8080/"
    },
    "id": "3Ge_mN4uBuni",
    "outputId": "0c7f865d-ae4e-4384-973c-f499e8e51dd1"
   },
   "outputs": [
    {
     "data": {
      "text/plain": [
       "array([9, 2, 1], dtype=uint8)"
      ]
     },
     "execution_count": 93,
     "metadata": {},
     "output_type": "execute_result"
    }
   ],
   "source": [
    "y_new = y_test[:3]\n",
    "y_new"
   ]
  },
  {
   "cell_type": "markdown",
   "metadata": {
    "id": "e9bmnzRd-skC"
   },
   "source": [
    "# Conclusion"
   ]
  },
  {
   "cell_type": "markdown",
   "metadata": {
    "id": "H7X15bOo-xnm"
   },
   "source": [
    "Epochs:\n",
    "  epochs=30 - accuracy: 0.8780\n",
    "  epochs=25 - accuracy: 0.8839\n",
    "  epochs=45 - accuracy: 0.8883\n",
    "\n",
    "Layers/Hyperparameter:\n",
    "5 hidden layers: accuracy - 0.8840\n",
    "6 hidden layers: accuracy - 0.8909\n",
    "As the number of hidden layer increase the accuracy increases.\n",
    "\n",
    "Optimizers:\n",
    "  SGD - 0.8780\n",
    "  Adagrad - 0.8952\n",
    "  Adamax - 0.8913\n",
    "  RMSprop - 0.6754\n",
    "  Out of the 4 optimizers adagrad is the most accurate"
   ]
  }
 ],
 "metadata": {
  "colab": {
   "collapsed_sections": [
    "VXXeyYNU3kzf",
    "Xb1Cn5di4rJ-",
    "ZnHzgAnk01xX",
    "TgL1q5-UBfMI"
   ],
   "name": "Untitled5.ipynb",
   "provenance": []
  },
  "kernelspec": {
   "display_name": "Python 3 (ipykernel)",
   "language": "python",
   "name": "python3"
  },
  "language_info": {
   "codemirror_mode": {
    "name": "ipython",
    "version": 3
   },
   "file_extension": ".py",
   "mimetype": "text/x-python",
   "name": "python",
   "nbconvert_exporter": "python",
   "pygments_lexer": "ipython3",
   "version": "3.8.2"
  }
 },
 "nbformat": 4,
 "nbformat_minor": 1
}
